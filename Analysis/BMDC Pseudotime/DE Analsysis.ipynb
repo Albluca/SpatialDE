{
 "cells": [
  {
   "cell_type": "code",
   "execution_count": 2,
   "metadata": {
    "collapsed": false
   },
   "outputs": [
    {
     "name": "stdout",
     "output_type": "stream",
     "text": [
      "Populating the interactive namespace from numpy and matplotlib\n"
     ]
    }
   ],
   "source": [
    "%pylab inline\n",
    "import pandas as pd"
   ]
  },
  {
   "cell_type": "code",
   "execution_count": 3,
   "metadata": {
    "collapsed": true
   },
   "outputs": [],
   "source": [
    "import fastgp as fgp"
   ]
  },
  {
   "cell_type": "code",
   "execution_count": 5,
   "metadata": {
    "collapsed": false
   },
   "outputs": [],
   "source": [
    "sample_info = pd.read_csv('timecourse_samples.csv', index_col=0)"
   ]
  },
  {
   "cell_type": "code",
   "execution_count": 7,
   "metadata": {
    "collapsed": false
   },
   "outputs": [],
   "source": [
    "logexp = pd.read_csv('timecourse_logtpm.csv', index_col=0)"
   ]
  },
  {
   "cell_type": "code",
   "execution_count": 147,
   "metadata": {
    "collapsed": false,
    "scrolled": false
   },
   "outputs": [],
   "source": [
    "# dfm = logexp.sample(4000, axis=0).T\n",
    "dfm = logexp.copy().T"
   ]
  },
  {
   "cell_type": "code",
   "execution_count": 148,
   "metadata": {
    "collapsed": true
   },
   "outputs": [],
   "source": [
    "X = sample_info[['PC1']]"
   ]
  },
  {
   "cell_type": "code",
   "execution_count": 149,
   "metadata": {
    "collapsed": true
   },
   "outputs": [],
   "source": [
    "ks = {\n",
    "        'SE': np.logspace(0., np.log10(100), 10),\n",
    "        'PER': np.logspace(0., np.log10(100), 10),\n",
    "        'linear': 0,\n",
    "        'const': 0,\n",
    "#         'null': 0\n",
    "    }"
   ]
  },
  {
   "cell_type": "code",
   "execution_count": 150,
   "metadata": {
    "collapsed": false
   },
   "outputs": [
    {
     "name": "stderr",
     "output_type": "stream",
     "text": [
      "/Users/vale/Documents/Research projects/Ongoing/spatial-gp/Python-module/fastgp/fastgp.py:192: RuntimeWarning: divide by zero encountered in log\n",
      "  max_ll = -0.5 * (n * np.log(2 * np.pi) + n + n * np.log(max_s2_e_hat))\n",
      "INFO:root:Pre-calculating USU^T = K's ...\n",
      "INFO:root:Done: 0.59s\n",
      "INFO:root:Fitting gene models\n",
      "  0%|          | 0/27723 [00:00<?, ?it/s]/Users/vale/anaconda/lib/python3.6/site-packages/scipy/optimize/optimize.py:628: RuntimeWarning: invalid value encountered in double_scalars\n",
      "  grad[k] = (f(*((xk + d,) + args)) - f0) / d[k]\n",
      "100%|██████████| 27723/27723 [00:36<00:00, 762.14it/s] \n",
      "100%|██████████| 27723/27723 [00:49<00:00, 556.06it/s]\n",
      "100%|██████████| 27723/27723 [00:55<00:00, 496.31it/s]\n",
      "100%|██████████| 27723/27723 [00:51<00:00, 536.03it/s]\n",
      "100%|██████████| 27723/27723 [00:46<00:00, 600.53it/s]\n",
      "100%|██████████| 27723/27723 [00:40<00:00, 684.29it/s]\n",
      "100%|██████████| 27723/27723 [00:40<00:00, 691.88it/s]\n",
      "100%|██████████| 27723/27723 [00:40<00:00, 681.26it/s]\n",
      "100%|██████████| 27723/27723 [00:40<00:00, 692.68it/s]\n",
      "100%|██████████| 27723/27723 [00:39<00:00, 705.02it/s]\n",
      "100%|██████████| 27723/27723 [00:38<00:00, 721.92it/s]\n",
      "100%|██████████| 27723/27723 [00:44<00:00, 621.01it/s]\n",
      "100%|██████████| 27723/27723 [00:44<00:00, 617.96it/s]\n",
      "100%|██████████| 27723/27723 [00:42<00:00, 646.31it/s]\n",
      "100%|██████████| 27723/27723 [00:42<00:00, 655.85it/s]\n",
      "100%|██████████| 27723/27723 [00:45<00:00, 614.39it/s]\n",
      "100%|██████████| 27723/27723 [00:46<00:00, 592.82it/s]\n",
      "100%|██████████| 27723/27723 [00:47<00:00, 589.17it/s]\n",
      "100%|██████████| 27723/27723 [00:45<00:00, 608.77it/s]\n",
      "100%|██████████| 27723/27723 [00:45<00:00, 605.37it/s]\n",
      "100%|██████████| 27723/27723 [00:43<00:00, 631.13it/s]\n"
     ]
    }
   ],
   "source": [
    "results = fgp.dyn_de(X, dfm, kernel_space=ks)"
   ]
  },
  {
   "cell_type": "code",
   "execution_count": 151,
   "metadata": {
    "collapsed": false
   },
   "outputs": [
    {
     "data": {
      "text/plain": [
       "PER       277230\n",
       "SE        277230\n",
       "const      27723\n",
       "linear     27723\n",
       "Name: model, dtype: int64"
      ]
     },
     "execution_count": 151,
     "metadata": {},
     "output_type": "execute_result"
    }
   ],
   "source": [
    "results.model.value_counts()"
   ]
  },
  {
   "cell_type": "code",
   "execution_count": 152,
   "metadata": {
    "collapsed": true
   },
   "outputs": [],
   "source": [
    "null_lls = results.query('model == \"const\"')[['g', 'max_ll']]"
   ]
  },
  {
   "cell_type": "code",
   "execution_count": 153,
   "metadata": {
    "collapsed": true
   },
   "outputs": [],
   "source": [
    "bic_results = results[results.groupby(['g'])['BIC'].transform(min) == results['BIC']]"
   ]
  },
  {
   "cell_type": "code",
   "execution_count": 154,
   "metadata": {
    "collapsed": false
   },
   "outputs": [
    {
     "data": {
      "text/html": [
       "<div>\n",
       "<table border=\"1\" class=\"dataframe\">\n",
       "  <thead>\n",
       "    <tr style=\"text-align: right;\">\n",
       "      <th></th>\n",
       "      <th>g</th>\n",
       "      <th>max_delta</th>\n",
       "      <th>max_ll</th>\n",
       "      <th>max_mu_hat</th>\n",
       "      <th>max_s2_t_hat</th>\n",
       "      <th>n</th>\n",
       "      <th>time</th>\n",
       "      <th>l</th>\n",
       "      <th>M</th>\n",
       "      <th>model</th>\n",
       "      <th>BIC</th>\n",
       "    </tr>\n",
       "  </thead>\n",
       "  <tbody>\n",
       "    <tr>\n",
       "      <th>1</th>\n",
       "      <td>AB338584</td>\n",
       "      <td>inf</td>\n",
       "      <td>inf</td>\n",
       "      <td>0.000000</td>\n",
       "      <td>0.0</td>\n",
       "      <td>553</td>\n",
       "      <td>0.0</td>\n",
       "      <td>NaN</td>\n",
       "      <td>2</td>\n",
       "      <td>const</td>\n",
       "      <td>-inf</td>\n",
       "    </tr>\n",
       "    <tr>\n",
       "      <th>2</th>\n",
       "      <td>B3GAT2</td>\n",
       "      <td>inf</td>\n",
       "      <td>8.847647</td>\n",
       "      <td>0.049598</td>\n",
       "      <td>0.0</td>\n",
       "      <td>553</td>\n",
       "      <td>0.0</td>\n",
       "      <td>NaN</td>\n",
       "      <td>2</td>\n",
       "      <td>const</td>\n",
       "      <td>-5.064577</td>\n",
       "    </tr>\n",
       "    <tr>\n",
       "      <th>3</th>\n",
       "      <td>NPL</td>\n",
       "      <td>inf</td>\n",
       "      <td>-408.909431</td>\n",
       "      <td>0.154506</td>\n",
       "      <td>0.0</td>\n",
       "      <td>553</td>\n",
       "      <td>0.0</td>\n",
       "      <td>NaN</td>\n",
       "      <td>2</td>\n",
       "      <td>const</td>\n",
       "      <td>830.449577</td>\n",
       "    </tr>\n",
       "    <tr>\n",
       "      <th>4</th>\n",
       "      <td>T2</td>\n",
       "      <td>inf</td>\n",
       "      <td>220.322578</td>\n",
       "      <td>0.117489</td>\n",
       "      <td>0.0</td>\n",
       "      <td>553</td>\n",
       "      <td>0.0</td>\n",
       "      <td>NaN</td>\n",
       "      <td>2</td>\n",
       "      <td>const</td>\n",
       "      <td>-428.014440</td>\n",
       "    </tr>\n",
       "    <tr>\n",
       "      <th>5</th>\n",
       "      <td>T</td>\n",
       "      <td>inf</td>\n",
       "      <td>1060.707910</td>\n",
       "      <td>0.001511</td>\n",
       "      <td>0.0</td>\n",
       "      <td>553</td>\n",
       "      <td>0.0</td>\n",
       "      <td>NaN</td>\n",
       "      <td>2</td>\n",
       "      <td>const</td>\n",
       "      <td>-2108.785105</td>\n",
       "    </tr>\n",
       "  </tbody>\n",
       "</table>\n",
       "</div>"
      ],
      "text/plain": [
       "          g  max_delta       max_ll  max_mu_hat  max_s2_t_hat    n  time   l  \\\n",
       "1  AB338584        inf          inf    0.000000           0.0  553   0.0 NaN   \n",
       "2    B3GAT2        inf     8.847647    0.049598           0.0  553   0.0 NaN   \n",
       "3       NPL        inf  -408.909431    0.154506           0.0  553   0.0 NaN   \n",
       "4        T2        inf   220.322578    0.117489           0.0  553   0.0 NaN   \n",
       "5         T        inf  1060.707910    0.001511           0.0  553   0.0 NaN   \n",
       "\n",
       "   M  model          BIC  \n",
       "1  2  const         -inf  \n",
       "2  2  const    -5.064577  \n",
       "3  2  const   830.449577  \n",
       "4  2  const  -428.014440  \n",
       "5  2  const -2108.785105  "
      ]
     },
     "execution_count": 154,
     "metadata": {},
     "output_type": "execute_result"
    }
   ],
   "source": [
    "bic_results.head()"
   ]
  },
  {
   "cell_type": "code",
   "execution_count": 155,
   "metadata": {
    "collapsed": true
   },
   "outputs": [],
   "source": [
    "final = bic_results.merge(null_lls, on='g',)"
   ]
  },
  {
   "cell_type": "code",
   "execution_count": 156,
   "metadata": {
    "collapsed": true
   },
   "outputs": [],
   "source": [
    "final['D'] = final['max_ll_x'] - final['max_ll_y']"
   ]
  },
  {
   "cell_type": "code",
   "execution_count": 175,
   "metadata": {
    "collapsed": false
   },
   "outputs": [
    {
     "data": {
      "image/png": "[encoded data removed]",
      "text/plain": [
       "<matplotlib.figure.Figure at 0x1152dd0f0>"
      ]
     },
     "metadata": {},
     "output_type": "display_data"
    }
   ],
   "source": [
    "figsize(6, 4)\n",
    "plt.scatter(final.l, final.D);\n",
    "plt.xscale('log');\n",
    "plt.ylim(-10, 500);"
   ]
  },
  {
   "cell_type": "code",
   "execution_count": 158,
   "metadata": {
    "collapsed": false
   },
   "outputs": [
    {
     "data": {
      "text/html": [
       "<div>\n",
       "<table border=\"1\" class=\"dataframe\">\n",
       "  <thead>\n",
       "    <tr style=\"text-align: right;\">\n",
       "      <th></th>\n",
       "      <th>g</th>\n",
       "      <th>max_delta</th>\n",
       "      <th>max_ll_x</th>\n",
       "      <th>max_mu_hat</th>\n",
       "      <th>max_s2_t_hat</th>\n",
       "      <th>n</th>\n",
       "      <th>time</th>\n",
       "      <th>l</th>\n",
       "      <th>M</th>\n",
       "      <th>model</th>\n",
       "      <th>BIC</th>\n",
       "      <th>max_ll_y</th>\n",
       "      <th>D</th>\n",
       "    </tr>\n",
       "  </thead>\n",
       "  <tbody>\n",
       "    <tr>\n",
       "      <th>12393</th>\n",
       "      <td>AK017891</td>\n",
       "      <td>inf</td>\n",
       "      <td>-32.504788</td>\n",
       "      <td>0.169421</td>\n",
       "      <td>0.0</td>\n",
       "      <td>553</td>\n",
       "      <td>0.0</td>\n",
       "      <td>NaN</td>\n",
       "      <td>2</td>\n",
       "      <td>const</td>\n",
       "      <td>77.640291</td>\n",
       "      <td>-32.504788</td>\n",
       "      <td>0.0</td>\n",
       "    </tr>\n",
       "  </tbody>\n",
       "</table>\n",
       "</div>"
      ],
      "text/plain": [
       "              g  max_delta   max_ll_x  max_mu_hat  max_s2_t_hat    n  time  \\\n",
       "12393  AK017891        inf -32.504788    0.169421           0.0  553   0.0   \n",
       "\n",
       "        l  M  model        BIC   max_ll_y    D  \n",
       "12393 NaN  2  const  77.640291 -32.504788  0.0  "
      ]
     },
     "execution_count": 158,
     "metadata": {},
     "output_type": "execute_result"
    },
    {
     "data": {
      "image/png": "[encoded data removed]",
      "text/plain": [
       "<matplotlib.figure.Figure at 0x10e3f1198>"
      ]
     },
     "metadata": {},
     "output_type": "display_data"
    }
   ],
   "source": [
    "s = dfm.sample(1, axis=1).iloc[:, 0]\n",
    "plt.scatter(X, s);\n",
    "final.query('g == \"{}\"'.format(s.name))"
   ]
  },
  {
   "cell_type": "code",
   "execution_count": 159,
   "metadata": {
    "collapsed": false
   },
   "outputs": [
    {
     "data": {
      "text/html": [
       "<div>\n",
       "<table border=\"1\" class=\"dataframe\">\n",
       "  <thead>\n",
       "    <tr style=\"text-align: right;\">\n",
       "      <th></th>\n",
       "      <th>g</th>\n",
       "      <th>max_delta</th>\n",
       "      <th>max_ll_x</th>\n",
       "      <th>max_mu_hat</th>\n",
       "      <th>max_s2_t_hat</th>\n",
       "      <th>n</th>\n",
       "      <th>time</th>\n",
       "      <th>l</th>\n",
       "      <th>M</th>\n",
       "      <th>model</th>\n",
       "      <th>BIC</th>\n",
       "      <th>max_ll_y</th>\n",
       "      <th>D</th>\n",
       "    </tr>\n",
       "  </thead>\n",
       "  <tbody>\n",
       "    <tr>\n",
       "      <th>26035</th>\n",
       "      <td>ITGA2</td>\n",
       "      <td>0.000045</td>\n",
       "      <td>4362.873730</td>\n",
       "      <td>0.006190</td>\n",
       "      <td>0.000053</td>\n",
       "      <td>553</td>\n",
       "      <td>0.000455</td>\n",
       "      <td>1.668101</td>\n",
       "      <td>4</td>\n",
       "      <td>SE</td>\n",
       "      <td>-8700.486028</td>\n",
       "      <td>2046.985751</td>\n",
       "      <td>2315.887979</td>\n",
       "    </tr>\n",
       "    <tr>\n",
       "      <th>26041</th>\n",
       "      <td>AK133303</td>\n",
       "      <td>0.000045</td>\n",
       "      <td>4546.342571</td>\n",
       "      <td>0.004443</td>\n",
       "      <td>0.000027</td>\n",
       "      <td>553</td>\n",
       "      <td>0.000383</td>\n",
       "      <td>1.668101</td>\n",
       "      <td>4</td>\n",
       "      <td>SE</td>\n",
       "      <td>-9067.423710</td>\n",
       "      <td>2230.454591</td>\n",
       "      <td>2315.887979</td>\n",
       "    </tr>\n",
       "    <tr>\n",
       "      <th>26002</th>\n",
       "      <td>SPEER8-PS1</td>\n",
       "      <td>0.000045</td>\n",
       "      <td>3922.134727</td>\n",
       "      <td>0.013736</td>\n",
       "      <td>0.000262</td>\n",
       "      <td>553</td>\n",
       "      <td>0.000364</td>\n",
       "      <td>1.668101</td>\n",
       "      <td>4</td>\n",
       "      <td>SE</td>\n",
       "      <td>-7819.008023</td>\n",
       "      <td>1606.246748</td>\n",
       "      <td>2315.887979</td>\n",
       "    </tr>\n",
       "    <tr>\n",
       "      <th>26036</th>\n",
       "      <td>SERPINB11</td>\n",
       "      <td>0.000045</td>\n",
       "      <td>4775.683038</td>\n",
       "      <td>0.002934</td>\n",
       "      <td>0.000012</td>\n",
       "      <td>553</td>\n",
       "      <td>0.000443</td>\n",
       "      <td>1.668101</td>\n",
       "      <td>4</td>\n",
       "      <td>SE</td>\n",
       "      <td>-9526.104643</td>\n",
       "      <td>2459.795058</td>\n",
       "      <td>2315.887979</td>\n",
       "    </tr>\n",
       "    <tr>\n",
       "      <th>25975</th>\n",
       "      <td>DQ072380</td>\n",
       "      <td>0.000045</td>\n",
       "      <td>3315.120173</td>\n",
       "      <td>0.013864</td>\n",
       "      <td>0.001190</td>\n",
       "      <td>553</td>\n",
       "      <td>0.000385</td>\n",
       "      <td>1.000000</td>\n",
       "      <td>4</td>\n",
       "      <td>SE</td>\n",
       "      <td>-6604.978913</td>\n",
       "      <td>1275.459983</td>\n",
       "      <td>2039.660190</td>\n",
       "    </tr>\n",
       "    <tr>\n",
       "      <th>25866</th>\n",
       "      <td>AK038985</td>\n",
       "      <td>0.000045</td>\n",
       "      <td>3872.475952</td>\n",
       "      <td>0.005060</td>\n",
       "      <td>0.000159</td>\n",
       "      <td>553</td>\n",
       "      <td>0.000357</td>\n",
       "      <td>1.000000</td>\n",
       "      <td>4</td>\n",
       "      <td>SE</td>\n",
       "      <td>-7719.690472</td>\n",
       "      <td>1832.815762</td>\n",
       "      <td>2039.660190</td>\n",
       "    </tr>\n",
       "    <tr>\n",
       "      <th>25854</th>\n",
       "      <td>AK042933</td>\n",
       "      <td>0.000045</td>\n",
       "      <td>3004.930630</td>\n",
       "      <td>0.024293</td>\n",
       "      <td>0.003654</td>\n",
       "      <td>553</td>\n",
       "      <td>0.000361</td>\n",
       "      <td>1.000000</td>\n",
       "      <td>4</td>\n",
       "      <td>SE</td>\n",
       "      <td>-5984.599828</td>\n",
       "      <td>965.270440</td>\n",
       "      <td>2039.660190</td>\n",
       "    </tr>\n",
       "    <tr>\n",
       "      <th>25915</th>\n",
       "      <td>TSPAN6</td>\n",
       "      <td>0.000045</td>\n",
       "      <td>3979.284078</td>\n",
       "      <td>0.004171</td>\n",
       "      <td>0.000108</td>\n",
       "      <td>553</td>\n",
       "      <td>0.000357</td>\n",
       "      <td>1.000000</td>\n",
       "      <td>4</td>\n",
       "      <td>SE</td>\n",
       "      <td>-7933.306724</td>\n",
       "      <td>1939.623888</td>\n",
       "      <td>2039.660190</td>\n",
       "    </tr>\n",
       "    <tr>\n",
       "      <th>25939</th>\n",
       "      <td>SCG2</td>\n",
       "      <td>0.000045</td>\n",
       "      <td>3883.863495</td>\n",
       "      <td>0.000730</td>\n",
       "      <td>0.000151</td>\n",
       "      <td>553</td>\n",
       "      <td>0.000637</td>\n",
       "      <td>1.000000</td>\n",
       "      <td>4</td>\n",
       "      <td>SE</td>\n",
       "      <td>-7742.465558</td>\n",
       "      <td>2036.318648</td>\n",
       "      <td>1847.544847</td>\n",
       "    </tr>\n",
       "    <tr>\n",
       "      <th>26070</th>\n",
       "      <td>SIM1</td>\n",
       "      <td>0.000045</td>\n",
       "      <td>2258.868224</td>\n",
       "      <td>0.185100</td>\n",
       "      <td>0.162827</td>\n",
       "      <td>553</td>\n",
       "      <td>0.000370</td>\n",
       "      <td>2.782559</td>\n",
       "      <td>4</td>\n",
       "      <td>SE</td>\n",
       "      <td>-4492.475016</td>\n",
       "      <td>765.723865</td>\n",
       "      <td>1493.144359</td>\n",
       "    </tr>\n",
       "  </tbody>\n",
       "</table>\n",
       "</div>"
      ],
      "text/plain": [
       "                g  max_delta     max_ll_x  max_mu_hat  max_s2_t_hat    n  \\\n",
       "26035       ITGA2   0.000045  4362.873730    0.006190      0.000053  553   \n",
       "26041    AK133303   0.000045  4546.342571    0.004443      0.000027  553   \n",
       "26002  SPEER8-PS1   0.000045  3922.134727    0.013736      0.000262  553   \n",
       "26036   SERPINB11   0.000045  4775.683038    0.002934      0.000012  553   \n",
       "25975    DQ072380   0.000045  3315.120173    0.013864      0.001190  553   \n",
       "25866    AK038985   0.000045  3872.475952    0.005060      0.000159  553   \n",
       "25854    AK042933   0.000045  3004.930630    0.024293      0.003654  553   \n",
       "25915      TSPAN6   0.000045  3979.284078    0.004171      0.000108  553   \n",
       "25939        SCG2   0.000045  3883.863495    0.000730      0.000151  553   \n",
       "26070        SIM1   0.000045  2258.868224    0.185100      0.162827  553   \n",
       "\n",
       "           time         l  M model          BIC     max_ll_y            D  \n",
       "26035  0.000455  1.668101  4    SE -8700.486028  2046.985751  2315.887979  \n",
       "26041  0.000383  1.668101  4    SE -9067.423710  2230.454591  2315.887979  \n",
       "26002  0.000364  1.668101  4    SE -7819.008023  1606.246748  2315.887979  \n",
       "26036  0.000443  1.668101  4    SE -9526.104643  2459.795058  2315.887979  \n",
       "25975  0.000385  1.000000  4    SE -6604.978913  1275.459983  2039.660190  \n",
       "25866  0.000357  1.000000  4    SE -7719.690472  1832.815762  2039.660190  \n",
       "25854  0.000361  1.000000  4    SE -5984.599828   965.270440  2039.660190  \n",
       "25915  0.000357  1.000000  4    SE -7933.306724  1939.623888  2039.660190  \n",
       "25939  0.000637  1.000000  4    SE -7742.465558  2036.318648  1847.544847  \n",
       "26070  0.000370  2.782559  4    SE -4492.475016   765.723865  1493.144359  "
      ]
     },
     "execution_count": 159,
     "metadata": {},
     "output_type": "execute_result"
    }
   ],
   "source": [
    "final.sort_values('D', ascending=False).head(10)"
   ]
  },
  {
   "cell_type": "code",
   "execution_count": 176,
   "metadata": {
    "collapsed": false
   },
   "outputs": [
    {
     "data": {
      "text/html": [
       "<div>\n",
       "<table border=\"1\" class=\"dataframe\">\n",
       "  <thead>\n",
       "    <tr style=\"text-align: right;\">\n",
       "      <th></th>\n",
       "      <th>g</th>\n",
       "      <th>max_delta</th>\n",
       "      <th>max_ll_x</th>\n",
       "      <th>max_mu_hat</th>\n",
       "      <th>max_s2_t_hat</th>\n",
       "      <th>n</th>\n",
       "      <th>time</th>\n",
       "      <th>l</th>\n",
       "      <th>M</th>\n",
       "      <th>model</th>\n",
       "      <th>BIC</th>\n",
       "      <th>max_ll_y</th>\n",
       "      <th>D</th>\n",
       "    </tr>\n",
       "  </thead>\n",
       "  <tbody>\n",
       "    <tr>\n",
       "      <th>27114</th>\n",
       "      <td>IFIT2</td>\n",
       "      <td>0.363441</td>\n",
       "      <td>-595.880228</td>\n",
       "      <td>1.128751</td>\n",
       "      <td>1.336466</td>\n",
       "      <td>553</td>\n",
       "      <td>0.000646</td>\n",
       "      <td>21.544347</td>\n",
       "      <td>4</td>\n",
       "      <td>SE</td>\n",
       "      <td>1217.021889</td>\n",
       "      <td>-934.327300</td>\n",
       "      <td>338.447071</td>\n",
       "    </tr>\n",
       "    <tr>\n",
       "      <th>26893</th>\n",
       "      <td>IFIT3</td>\n",
       "      <td>0.477916</td>\n",
       "      <td>-605.763629</td>\n",
       "      <td>0.961130</td>\n",
       "      <td>1.041542</td>\n",
       "      <td>553</td>\n",
       "      <td>0.000801</td>\n",
       "      <td>12.915497</td>\n",
       "      <td>4</td>\n",
       "      <td>SE</td>\n",
       "      <td>1236.788690</td>\n",
       "      <td>-909.666018</td>\n",
       "      <td>303.902389</td>\n",
       "    </tr>\n",
       "    <tr>\n",
       "      <th>27043</th>\n",
       "      <td>CCL5</td>\n",
       "      <td>0.700543</td>\n",
       "      <td>-804.070822</td>\n",
       "      <td>2.811986</td>\n",
       "      <td>1.500696</td>\n",
       "      <td>553</td>\n",
       "      <td>0.000580</td>\n",
       "      <td>12.915497</td>\n",
       "      <td>4</td>\n",
       "      <td>SE</td>\n",
       "      <td>1633.403077</td>\n",
       "      <td>-1097.545716</td>\n",
       "      <td>293.474893</td>\n",
       "    </tr>\n",
       "    <tr>\n",
       "      <th>27047</th>\n",
       "      <td>CMPK2</td>\n",
       "      <td>0.631610</td>\n",
       "      <td>-616.664202</td>\n",
       "      <td>1.203485</td>\n",
       "      <td>0.826953</td>\n",
       "      <td>553</td>\n",
       "      <td>0.000576</td>\n",
       "      <td>12.915497</td>\n",
       "      <td>4</td>\n",
       "      <td>SE</td>\n",
       "      <td>1258.589836</td>\n",
       "      <td>-898.986247</td>\n",
       "      <td>282.322045</td>\n",
       "    </tr>\n",
       "    <tr>\n",
       "      <th>26999</th>\n",
       "      <td>IRF7</td>\n",
       "      <td>0.675377</td>\n",
       "      <td>-476.958315</td>\n",
       "      <td>0.924378</td>\n",
       "      <td>0.467217</td>\n",
       "      <td>553</td>\n",
       "      <td>0.000640</td>\n",
       "      <td>12.915497</td>\n",
       "      <td>4</td>\n",
       "      <td>SE</td>\n",
       "      <td>979.178061</td>\n",
       "      <td>-757.879852</td>\n",
       "      <td>280.921538</td>\n",
       "    </tr>\n",
       "    <tr>\n",
       "      <th>27176</th>\n",
       "      <td>IFI205</td>\n",
       "      <td>0.431743</td>\n",
       "      <td>-644.289484</td>\n",
       "      <td>1.248972</td>\n",
       "      <td>1.355531</td>\n",
       "      <td>553</td>\n",
       "      <td>0.000587</td>\n",
       "      <td>35.938137</td>\n",
       "      <td>4</td>\n",
       "      <td>SE</td>\n",
       "      <td>1313.840399</td>\n",
       "      <td>-905.031833</td>\n",
       "      <td>260.742350</td>\n",
       "    </tr>\n",
       "    <tr>\n",
       "      <th>26839</th>\n",
       "      <td>IRG1</td>\n",
       "      <td>0.764360</td>\n",
       "      <td>-679.081890</td>\n",
       "      <td>1.999642</td>\n",
       "      <td>0.867412</td>\n",
       "      <td>553</td>\n",
       "      <td>0.000470</td>\n",
       "      <td>7.742637</td>\n",
       "      <td>4</td>\n",
       "      <td>SE</td>\n",
       "      <td>1383.425211</td>\n",
       "      <td>-939.605244</td>\n",
       "      <td>260.523355</td>\n",
       "    </tr>\n",
       "    <tr>\n",
       "      <th>27133</th>\n",
       "      <td>OASL1</td>\n",
       "      <td>0.559172</td>\n",
       "      <td>-636.910610</td>\n",
       "      <td>1.123841</td>\n",
       "      <td>1.012946</td>\n",
       "      <td>553</td>\n",
       "      <td>0.000590</td>\n",
       "      <td>21.544347</td>\n",
       "      <td>4</td>\n",
       "      <td>SE</td>\n",
       "      <td>1299.082653</td>\n",
       "      <td>-859.533675</td>\n",
       "      <td>222.623064</td>\n",
       "    </tr>\n",
       "    <tr>\n",
       "      <th>27164</th>\n",
       "      <td>GM4902</td>\n",
       "      <td>0.621210</td>\n",
       "      <td>-655.140912</td>\n",
       "      <td>1.332992</td>\n",
       "      <td>0.977158</td>\n",
       "      <td>553</td>\n",
       "      <td>0.000573</td>\n",
       "      <td>21.544347</td>\n",
       "      <td>4</td>\n",
       "      <td>SE</td>\n",
       "      <td>1335.543257</td>\n",
       "      <td>-875.682660</td>\n",
       "      <td>220.541747</td>\n",
       "    </tr>\n",
       "    <tr>\n",
       "      <th>26935</th>\n",
       "      <td>GBP5</td>\n",
       "      <td>0.985645</td>\n",
       "      <td>-571.655746</td>\n",
       "      <td>1.264161</td>\n",
       "      <td>0.457371</td>\n",
       "      <td>553</td>\n",
       "      <td>0.000592</td>\n",
       "      <td>12.915497</td>\n",
       "      <td>4</td>\n",
       "      <td>SE</td>\n",
       "      <td>1168.572924</td>\n",
       "      <td>-786.536026</td>\n",
       "      <td>214.880280</td>\n",
       "    </tr>\n",
       "    <tr>\n",
       "      <th>27173</th>\n",
       "      <td>PARP14</td>\n",
       "      <td>0.811606</td>\n",
       "      <td>-596.448171</td>\n",
       "      <td>1.598434</td>\n",
       "      <td>0.612184</td>\n",
       "      <td>553</td>\n",
       "      <td>0.000474</td>\n",
       "      <td>21.544347</td>\n",
       "      <td>4</td>\n",
       "      <td>SE</td>\n",
       "      <td>1218.157773</td>\n",
       "      <td>-797.470147</td>\n",
       "      <td>201.021977</td>\n",
       "    </tr>\n",
       "    <tr>\n",
       "      <th>27165</th>\n",
       "      <td>D14ERTD668E</td>\n",
       "      <td>0.715243</td>\n",
       "      <td>-615.555217</td>\n",
       "      <td>1.109393</td>\n",
       "      <td>0.735968</td>\n",
       "      <td>553</td>\n",
       "      <td>0.000461</td>\n",
       "      <td>21.544347</td>\n",
       "      <td>4</td>\n",
       "      <td>SE</td>\n",
       "      <td>1256.371865</td>\n",
       "      <td>-813.490788</td>\n",
       "      <td>197.935572</td>\n",
       "    </tr>\n",
       "    <tr>\n",
       "      <th>27110</th>\n",
       "      <td>PYDC4</td>\n",
       "      <td>0.683126</td>\n",
       "      <td>-389.487586</td>\n",
       "      <td>0.460727</td>\n",
       "      <td>0.338607</td>\n",
       "      <td>553</td>\n",
       "      <td>0.000584</td>\n",
       "      <td>21.544347</td>\n",
       "      <td>4</td>\n",
       "      <td>SE</td>\n",
       "      <td>804.236604</td>\n",
       "      <td>-583.515040</td>\n",
       "      <td>194.027454</td>\n",
       "    </tr>\n",
       "    <tr>\n",
       "      <th>27124</th>\n",
       "      <td>TNFSF15</td>\n",
       "      <td>0.784145</td>\n",
       "      <td>-702.506895</td>\n",
       "      <td>1.496367</td>\n",
       "      <td>0.922948</td>\n",
       "      <td>553</td>\n",
       "      <td>0.000505</td>\n",
       "      <td>21.544347</td>\n",
       "      <td>4</td>\n",
       "      <td>SE</td>\n",
       "      <td>1430.275223</td>\n",
       "      <td>-893.574135</td>\n",
       "      <td>191.067240</td>\n",
       "    </tr>\n",
       "    <tr>\n",
       "      <th>27111</th>\n",
       "      <td>E030037K03RIK</td>\n",
       "      <td>0.774299</td>\n",
       "      <td>-379.113924</td>\n",
       "      <td>0.499799</td>\n",
       "      <td>0.288341</td>\n",
       "      <td>553</td>\n",
       "      <td>0.000532</td>\n",
       "      <td>21.544347</td>\n",
       "      <td>4</td>\n",
       "      <td>SE</td>\n",
       "      <td>783.489280</td>\n",
       "      <td>-568.183045</td>\n",
       "      <td>189.069122</td>\n",
       "    </tr>\n",
       "    <tr>\n",
       "      <th>27105</th>\n",
       "      <td>IIGP1</td>\n",
       "      <td>0.630444</td>\n",
       "      <td>-477.203725</td>\n",
       "      <td>0.512551</td>\n",
       "      <td>0.503293</td>\n",
       "      <td>553</td>\n",
       "      <td>0.000572</td>\n",
       "      <td>21.544347</td>\n",
       "      <td>4</td>\n",
       "      <td>SE</td>\n",
       "      <td>979.668881</td>\n",
       "      <td>-658.415337</td>\n",
       "      <td>181.211612</td>\n",
       "    </tr>\n",
       "    <tr>\n",
       "      <th>27163</th>\n",
       "      <td>PHF11</td>\n",
       "      <td>0.817750</td>\n",
       "      <td>-558.505353</td>\n",
       "      <td>0.853657</td>\n",
       "      <td>0.523719</td>\n",
       "      <td>553</td>\n",
       "      <td>0.000466</td>\n",
       "      <td>21.544347</td>\n",
       "      <td>4</td>\n",
       "      <td>SE</td>\n",
       "      <td>1142.272138</td>\n",
       "      <td>-734.641763</td>\n",
       "      <td>176.136410</td>\n",
       "    </tr>\n",
       "    <tr>\n",
       "      <th>27113</th>\n",
       "      <td>MS4A4C</td>\n",
       "      <td>0.911164</td>\n",
       "      <td>-606.061831</td>\n",
       "      <td>0.876456</td>\n",
       "      <td>0.558725</td>\n",
       "      <td>553</td>\n",
       "      <td>0.000476</td>\n",
       "      <td>21.544347</td>\n",
       "      <td>4</td>\n",
       "      <td>SE</td>\n",
       "      <td>1237.385094</td>\n",
       "      <td>-782.126249</td>\n",
       "      <td>176.064418</td>\n",
       "    </tr>\n",
       "    <tr>\n",
       "      <th>26882</th>\n",
       "      <td>GM4951</td>\n",
       "      <td>0.829484</td>\n",
       "      <td>-616.529794</td>\n",
       "      <td>0.970890</td>\n",
       "      <td>0.630649</td>\n",
       "      <td>553</td>\n",
       "      <td>0.000463</td>\n",
       "      <td>12.915497</td>\n",
       "      <td>4</td>\n",
       "      <td>SE</td>\n",
       "      <td>1258.321020</td>\n",
       "      <td>-786.390518</td>\n",
       "      <td>169.860723</td>\n",
       "    </tr>\n",
       "    <tr>\n",
       "      <th>27101</th>\n",
       "      <td>ZFP36L2</td>\n",
       "      <td>0.900793</td>\n",
       "      <td>-602.526170</td>\n",
       "      <td>0.906916</td>\n",
       "      <td>0.558145</td>\n",
       "      <td>553</td>\n",
       "      <td>0.000453</td>\n",
       "      <td>21.544347</td>\n",
       "      <td>4</td>\n",
       "      <td>SE</td>\n",
       "      <td>1230.313772</td>\n",
       "      <td>-771.127910</td>\n",
       "      <td>168.601740</td>\n",
       "    </tr>\n",
       "  </tbody>\n",
       "</table>\n",
       "</div>"
      ],
      "text/plain": [
       "                   g  max_delta    max_ll_x  max_mu_hat  max_s2_t_hat    n  \\\n",
       "27114          IFIT2   0.363441 -595.880228    1.128751      1.336466  553   \n",
       "26893          IFIT3   0.477916 -605.763629    0.961130      1.041542  553   \n",
       "27043           CCL5   0.700543 -804.070822    2.811986      1.500696  553   \n",
       "27047          CMPK2   0.631610 -616.664202    1.203485      0.826953  553   \n",
       "26999           IRF7   0.675377 -476.958315    0.924378      0.467217  553   \n",
       "27176         IFI205   0.431743 -644.289484    1.248972      1.355531  553   \n",
       "26839           IRG1   0.764360 -679.081890    1.999642      0.867412  553   \n",
       "27133          OASL1   0.559172 -636.910610    1.123841      1.012946  553   \n",
       "27164         GM4902   0.621210 -655.140912    1.332992      0.977158  553   \n",
       "26935           GBP5   0.985645 -571.655746    1.264161      0.457371  553   \n",
       "27173         PARP14   0.811606 -596.448171    1.598434      0.612184  553   \n",
       "27165    D14ERTD668E   0.715243 -615.555217    1.109393      0.735968  553   \n",
       "27110          PYDC4   0.683126 -389.487586    0.460727      0.338607  553   \n",
       "27124        TNFSF15   0.784145 -702.506895    1.496367      0.922948  553   \n",
       "27111  E030037K03RIK   0.774299 -379.113924    0.499799      0.288341  553   \n",
       "27105          IIGP1   0.630444 -477.203725    0.512551      0.503293  553   \n",
       "27163          PHF11   0.817750 -558.505353    0.853657      0.523719  553   \n",
       "27113         MS4A4C   0.911164 -606.061831    0.876456      0.558725  553   \n",
       "26882         GM4951   0.829484 -616.529794    0.970890      0.630649  553   \n",
       "27101        ZFP36L2   0.900793 -602.526170    0.906916      0.558145  553   \n",
       "\n",
       "           time          l  M model          BIC     max_ll_y           D  \n",
       "27114  0.000646  21.544347  4    SE  1217.021889  -934.327300  338.447071  \n",
       "26893  0.000801  12.915497  4    SE  1236.788690  -909.666018  303.902389  \n",
       "27043  0.000580  12.915497  4    SE  1633.403077 -1097.545716  293.474893  \n",
       "27047  0.000576  12.915497  4    SE  1258.589836  -898.986247  282.322045  \n",
       "26999  0.000640  12.915497  4    SE   979.178061  -757.879852  280.921538  \n",
       "27176  0.000587  35.938137  4    SE  1313.840399  -905.031833  260.742350  \n",
       "26839  0.000470   7.742637  4    SE  1383.425211  -939.605244  260.523355  \n",
       "27133  0.000590  21.544347  4    SE  1299.082653  -859.533675  222.623064  \n",
       "27164  0.000573  21.544347  4    SE  1335.543257  -875.682660  220.541747  \n",
       "26935  0.000592  12.915497  4    SE  1168.572924  -786.536026  214.880280  \n",
       "27173  0.000474  21.544347  4    SE  1218.157773  -797.470147  201.021977  \n",
       "27165  0.000461  21.544347  4    SE  1256.371865  -813.490788  197.935572  \n",
       "27110  0.000584  21.544347  4    SE   804.236604  -583.515040  194.027454  \n",
       "27124  0.000505  21.544347  4    SE  1430.275223  -893.574135  191.067240  \n",
       "27111  0.000532  21.544347  4    SE   783.489280  -568.183045  189.069122  \n",
       "27105  0.000572  21.544347  4    SE   979.668881  -658.415337  181.211612  \n",
       "27163  0.000466  21.544347  4    SE  1142.272138  -734.641763  176.136410  \n",
       "27113  0.000476  21.544347  4    SE  1237.385094  -782.126249  176.064418  \n",
       "26882  0.000463  12.915497  4    SE  1258.321020  -786.390518  169.860723  \n",
       "27101  0.000453  21.544347  4    SE  1230.313772  -771.127910  168.601740  "
      ]
     },
     "execution_count": 176,
     "metadata": {},
     "output_type": "execute_result"
    }
   ],
   "source": [
    "final.query('5 < l < 70').sort_values('D', ascending=False).head(20)"
   ]
  },
  {
   "cell_type": "code",
   "execution_count": 187,
   "metadata": {
    "collapsed": false
   },
   "outputs": [
    {
     "name": "stderr",
     "output_type": "stream",
     "text": [
      "/Users/vale/anaconda/lib/python3.6/site-packages/statsmodels/nonparametric/kdetools.py:20: VisibleDeprecationWarning: using a non-integer number instead of an integer will result in an error in the future\n",
      "  y = X[:m/2+1] + np.r_[0,X[m/2+1:],0]*1j\n"
     ]
    },
    {
     "data": {
      "image/png": "[encoded data removed]",
      "text/plain": [
       "<matplotlib.figure.Figure at 0x10f48ea90>"
      ]
     },
     "metadata": {},
     "output_type": "display_data"
    }
   ],
   "source": [
    "sns.distplot(final.query('5 < l < 70')['D']);"
   ]
  },
  {
   "cell_type": "code",
   "execution_count": 189,
   "metadata": {
    "collapsed": false
   },
   "outputs": [
    {
     "data": {
      "text/plain": [
       "(141, 13)"
      ]
     },
     "execution_count": 189,
     "metadata": {},
     "output_type": "execute_result"
    }
   ],
   "source": [
    "final.query('5 < l < 70 & D > 50').shape"
   ]
  },
  {
   "cell_type": "code",
   "execution_count": 190,
   "metadata": {
    "collapsed": false
   },
   "outputs": [
    {
     "data": {
      "text/plain": [
       "26487           SIK1\n",
       "26514           FTH1\n",
       "26515          MNDAL\n",
       "26516        SLC15A3\n",
       "26518         MS4A6D\n",
       "26521         KIF20B\n",
       "26525          NFKB2\n",
       "26538          FBXO5\n",
       "26544       AA467197\n",
       "26558          MATN4\n",
       "26559           SDC4\n",
       "26564        SLC7A11\n",
       "26573        SLC39A1\n",
       "26580         NOTCH2\n",
       "26586         FNBP1L\n",
       "26588          NFKB1\n",
       "26607         RNF19B\n",
       "26631           DENR\n",
       "26638           ACTB\n",
       "26653         CLEC4E\n",
       "26660        GADD45B\n",
       "26666          ZFP36\n",
       "26667       ARHGAP33\n",
       "26710           H1F0\n",
       "26719       AK045913\n",
       "26722        BCL2A1A\n",
       "26740         FAM46D\n",
       "26744           PLEK\n",
       "26753         SQSTM1\n",
       "26756          TNIP1\n",
       "            ...     \n",
       "27136         GPR146\n",
       "27137           CBX3\n",
       "27138       ARHGAP25\n",
       "27141          CCND2\n",
       "27150           IL15\n",
       "27154            OSM\n",
       "27156          SLFN1\n",
       "27160          TIFAB\n",
       "27162           VCAN\n",
       "27163          PHF11\n",
       "27164         GM4902\n",
       "27165    D14ERTD668E\n",
       "27167          TRIB1\n",
       "27173         PARP14\n",
       "27175          RUNX1\n",
       "27176         IFI205\n",
       "27177          PROCR\n",
       "27178      TNFAIP8L2\n",
       "27179          MOV10\n",
       "27180       AK008417\n",
       "27181           FGL2\n",
       "27182          OAS1G\n",
       "27183        SLCO3A1\n",
       "27185         IL18BP\n",
       "27186           FLI1\n",
       "27187           NOS2\n",
       "27188          DHX58\n",
       "27190           FLNB\n",
       "27191          ARL11\n",
       "27192            MT1\n",
       "Name: g, dtype: object"
      ]
     },
     "execution_count": 190,
     "metadata": {},
     "output_type": "execute_result"
    }
   ],
   "source": [
    "final.query('5 < l < 70 & D > 50').g"
   ]
  },
  {
   "cell_type": "code",
   "execution_count": null,
   "metadata": {
    "collapsed": true
   },
   "outputs": [],
   "source": []
  },
  {
   "cell_type": "code",
   "execution_count": 231,
   "metadata": {
    "collapsed": false
   },
   "outputs": [
    {
     "data": {
      "image/png": "[encoded data removed]",
      "text/plain": [
       "<matplotlib.figure.Figure at 0x1152e94e0>"
      ]
     },
     "metadata": {},
     "output_type": "display_data"
    }
   ],
   "source": [
    "s = dfm['SIK1']\n",
    "plt.scatter(X, s, c=sample_info.hour);"
   ]
  },
  {
   "cell_type": "code",
   "execution_count": null,
   "metadata": {
    "collapsed": true
   },
   "outputs": [],
   "source": []
  },
  {
   "cell_type": "code",
   "execution_count": 134,
   "metadata": {
    "collapsed": false
   },
   "outputs": [],
   "source": [
    "import seaborn as sns\n",
    "sns.set_style('ticks')"
   ]
  },
  {
   "cell_type": "code",
   "execution_count": 145,
   "metadata": {
    "collapsed": false
   },
   "outputs": [
    {
     "name": "stderr",
     "output_type": "stream",
     "text": [
      "/Users/vale/anaconda/lib/python3.6/site-packages/statsmodels/nonparametric/kdetools.py:20: VisibleDeprecationWarning: using a non-integer number instead of an integer will result in an error in the future\n",
      "  y = X[:m/2+1] + np.r_[0,X[m/2+1:],0]*1j\n"
     ]
    },
    {
     "data": {
      "image/png": "[encoded data removed]",
      "text/plain": [
       "<matplotlib.figure.Figure at 0x115329828>"
      ]
     },
     "metadata": {},
     "output_type": "display_data"
    }
   ],
   "source": [
    "g = sns.FacetGrid(sample_info, hue='timepoint', size=4, col='treatment')\n",
    "g.map(sns.kdeplot, 'PC1');\n",
    "plt.legend();"
   ]
  },
  {
   "cell_type": "code",
   "execution_count": 146,
   "metadata": {
    "collapsed": false
   },
   "outputs": [
    {
     "name": "stderr",
     "output_type": "stream",
     "text": [
      "/Users/vale/anaconda/lib/python3.6/site-packages/statsmodels/nonparametric/kdetools.py:20: VisibleDeprecationWarning: using a non-integer number instead of an integer will result in an error in the future\n",
      "  y = X[:m/2+1] + np.r_[0,X[m/2+1:],0]*1j\n"
     ]
    },
    {
     "data": {
      "image/png": "[encoded data removed]",
      "text/plain": [
       "<matplotlib.figure.Figure at 0x11473ea20>"
      ]
     },
     "metadata": {},
     "output_type": "display_data"
    }
   ],
   "source": [
    "g = sns.FacetGrid(sample_info, hue='timepoint', size=4, col='treatment')\n",
    "g.map(sns.kdeplot, 'pseudotime');\n",
    "plt.legend();"
   ]
  },
  {
   "cell_type": "code",
   "execution_count": 197,
   "metadata": {
    "collapsed": false
   },
   "outputs": [],
   "source": [
    "final.to_csv('de-analysis-pc1.csv')"
   ]
  },
  {
   "cell_type": "code",
   "execution_count": 198,
   "metadata": {
    "collapsed": true
   },
   "outputs": [],
   "source": [
    "import GPy"
   ]
  },
  {
   "cell_type": "code",
   "execution_count": 200,
   "metadata": {
    "collapsed": false
   },
   "outputs": [
    {
     "data": {
      "text/html": [
       "<div>\n",
       "<table border=\"1\" class=\"dataframe\">\n",
       "  <thead>\n",
       "    <tr style=\"text-align: right;\">\n",
       "      <th></th>\n",
       "      <th>g</th>\n",
       "      <th>max_delta</th>\n",
       "      <th>max_ll_x</th>\n",
       "      <th>max_mu_hat</th>\n",
       "      <th>max_s2_t_hat</th>\n",
       "      <th>n</th>\n",
       "      <th>time</th>\n",
       "      <th>l</th>\n",
       "      <th>M</th>\n",
       "      <th>model</th>\n",
       "      <th>BIC</th>\n",
       "      <th>max_ll_y</th>\n",
       "      <th>D</th>\n",
       "    </tr>\n",
       "  </thead>\n",
       "  <tbody>\n",
       "    <tr>\n",
       "      <th>26487</th>\n",
       "      <td>SIK1</td>\n",
       "      <td>5.379395</td>\n",
       "      <td>-60.086224</td>\n",
       "      <td>0.128168</td>\n",
       "      <td>0.013178</td>\n",
       "      <td>553</td>\n",
       "      <td>0.000880</td>\n",
       "      <td>7.742637</td>\n",
       "      <td>4</td>\n",
       "      <td>SE</td>\n",
       "      <td>145.433879</td>\n",
       "      <td>-120.655422</td>\n",
       "      <td>60.569199</td>\n",
       "    </tr>\n",
       "    <tr>\n",
       "      <th>26514</th>\n",
       "      <td>FTH1</td>\n",
       "      <td>4.339586</td>\n",
       "      <td>-120.543985</td>\n",
       "      <td>4.331988</td>\n",
       "      <td>0.165715</td>\n",
       "      <td>553</td>\n",
       "      <td>0.000829</td>\n",
       "      <td>7.742637</td>\n",
       "      <td>4</td>\n",
       "      <td>SE</td>\n",
       "      <td>266.349402</td>\n",
       "      <td>-177.709634</td>\n",
       "      <td>57.165649</td>\n",
       "    </tr>\n",
       "    <tr>\n",
       "      <th>26515</th>\n",
       "      <td>MNDAL</td>\n",
       "      <td>2.788087</td>\n",
       "      <td>-653.938360</td>\n",
       "      <td>1.807091</td>\n",
       "      <td>0.239616</td>\n",
       "      <td>553</td>\n",
       "      <td>0.000595</td>\n",
       "      <td>7.742637</td>\n",
       "      <td>4</td>\n",
       "      <td>SE</td>\n",
       "      <td>1333.138152</td>\n",
       "      <td>-769.991544</td>\n",
       "      <td>116.053184</td>\n",
       "    </tr>\n",
       "    <tr>\n",
       "      <th>26516</th>\n",
       "      <td>SLC15A3</td>\n",
       "      <td>6.468521</td>\n",
       "      <td>-640.752455</td>\n",
       "      <td>1.896015</td>\n",
       "      <td>0.115941</td>\n",
       "      <td>553</td>\n",
       "      <td>0.000635</td>\n",
       "      <td>7.742637</td>\n",
       "      <td>4</td>\n",
       "      <td>SE</td>\n",
       "      <td>1306.766341</td>\n",
       "      <td>-694.074066</td>\n",
       "      <td>53.321611</td>\n",
       "    </tr>\n",
       "    <tr>\n",
       "      <th>26518</th>\n",
       "      <td>MS4A6D</td>\n",
       "      <td>2.901644</td>\n",
       "      <td>-751.779406</td>\n",
       "      <td>2.183204</td>\n",
       "      <td>0.330453</td>\n",
       "      <td>553</td>\n",
       "      <td>0.000604</td>\n",
       "      <td>7.742637</td>\n",
       "      <td>4</td>\n",
       "      <td>SE</td>\n",
       "      <td>1528.820244</td>\n",
       "      <td>-840.111250</td>\n",
       "      <td>88.331844</td>\n",
       "    </tr>\n",
       "  </tbody>\n",
       "</table>\n",
       "</div>"
      ],
      "text/plain": [
       "             g  max_delta    max_ll_x  max_mu_hat  max_s2_t_hat    n  \\\n",
       "26487     SIK1   5.379395  -60.086224    0.128168      0.013178  553   \n",
       "26514     FTH1   4.339586 -120.543985    4.331988      0.165715  553   \n",
       "26515    MNDAL   2.788087 -653.938360    1.807091      0.239616  553   \n",
       "26516  SLC15A3   6.468521 -640.752455    1.896015      0.115941  553   \n",
       "26518   MS4A6D   2.901644 -751.779406    2.183204      0.330453  553   \n",
       "\n",
       "           time         l  M model          BIC    max_ll_y           D  \n",
       "26487  0.000880  7.742637  4    SE   145.433879 -120.655422   60.569199  \n",
       "26514  0.000829  7.742637  4    SE   266.349402 -177.709634   57.165649  \n",
       "26515  0.000595  7.742637  4    SE  1333.138152 -769.991544  116.053184  \n",
       "26516  0.000635  7.742637  4    SE  1306.766341 -694.074066   53.321611  \n",
       "26518  0.000604  7.742637  4    SE  1528.820244 -840.111250   88.331844  "
      ]
     },
     "execution_count": 200,
     "metadata": {},
     "output_type": "execute_result"
    }
   ],
   "source": [
    "final.query('5 < l < 70 & D > 50').head()"
   ]
  },
  {
   "cell_type": "code",
   "execution_count": 204,
   "metadata": {
    "collapsed": false
   },
   "outputs": [
    {
     "data": {
      "text/plain": [
       "g                      SIK1\n",
       "max_delta           5.37939\n",
       "max_ll_x           -60.0862\n",
       "max_mu_hat         0.128168\n",
       "max_s2_t_hat      0.0131781\n",
       "n                       553\n",
       "time            0.000880241\n",
       "l                   7.74264\n",
       "M                         4\n",
       "model                    SE\n",
       "BIC                 145.434\n",
       "max_ll_y           -120.655\n",
       "D                   60.5692\n",
       "Name: 26487, dtype: object"
      ]
     },
     "execution_count": 204,
     "metadata": {},
     "output_type": "execute_result"
    }
   ],
   "source": [
    "r = final.query('5 < l < 70 & D > 50').iloc[0]\n",
    "r"
   ]
  },
  {
   "cell_type": "code",
   "execution_count": 221,
   "metadata": {
    "collapsed": false
   },
   "outputs": [
    {
     "data": {
      "text/plain": [
       "(PC1   -34.032436\n",
       " dtype: float64, PC1    44.910398\n",
       " dtype: float64)"
      ]
     },
     "execution_count": 221,
     "metadata": {},
     "output_type": "execute_result"
    }
   ],
   "source": [
    "X.min(), X.max()"
   ]
  },
  {
   "cell_type": "code",
   "execution_count": 372,
   "metadata": {
    "collapsed": false
   },
   "outputs": [],
   "source": [
    "xx = np.linspace(X.as_matrix().min(), X.as_matrix().max(), 20)[:, None]"
   ]
  },
  {
   "cell_type": "code",
   "execution_count": 373,
   "metadata": {
    "collapsed": true
   },
   "outputs": [],
   "source": [
    "import logging\n",
    "logger = logging.getLogger('GP')\n",
    "logger.setLevel(logging.ERROR)"
   ]
  },
  {
   "cell_type": "code",
   "execution_count": 374,
   "metadata": {
    "collapsed": false
   },
   "outputs": [],
   "source": [
    "def get_fun(r):\n",
    "    kern = GPy.kern.RBF(1, lengthscale=r['l'], variance=r['max_s2_t_hat'])\n",
    "    m = GPy.models.GPRegression(X.as_matrix(), dfm[r['g']][:, None], kernel=kern)\n",
    "    m.likelihood.variance = r['max_delta'] * r['max_s2_t_hat']\n",
    "    \n",
    "    yy, _ = m.predict(xx)\n",
    "    \n",
    "    return yy"
   ]
  },
  {
   "cell_type": "code",
   "execution_count": 375,
   "metadata": {
    "collapsed": false
   },
   "outputs": [],
   "source": [
    "tmp = final.query('5 < l < 70 & D > 30')"
   ]
  },
  {
   "cell_type": "code",
   "execution_count": 376,
   "metadata": {
    "collapsed": false
   },
   "outputs": [
    {
     "data": {
      "text/plain": [
       "(272, 13)"
      ]
     },
     "execution_count": 376,
     "metadata": {},
     "output_type": "execute_result"
    }
   ],
   "source": [
    "tmp.shape"
   ]
  },
  {
   "cell_type": "code",
   "execution_count": 377,
   "metadata": {
    "collapsed": true
   },
   "outputs": [],
   "source": [
    "YYs = np.zeros((tmp.shape[0], xx.shape[0]))"
   ]
  },
  {
   "cell_type": "code",
   "execution_count": 378,
   "metadata": {
    "collapsed": false,
    "scrolled": false
   },
   "outputs": [],
   "source": [
    "for i, r in enumerate(tmp.T):\n",
    "    r = tmp.loc[r]\n",
    "    yy = get_fun(r)\n",
    "    YYs[i, :] = yy.T"
   ]
  },
  {
   "cell_type": "code",
   "execution_count": 379,
   "metadata": {
    "collapsed": false
   },
   "outputs": [],
   "source": [
    "idx = YYs.argmax(1).argsort()[::-1]"
   ]
  },
  {
   "cell_type": "code",
   "execution_count": 380,
   "metadata": {
    "collapsed": true
   },
   "outputs": [],
   "source": [
    "from sklearn.preprocessing import scale"
   ]
  },
  {
   "cell_type": "code",
   "execution_count": 381,
   "metadata": {
    "collapsed": false
   },
   "outputs": [
    {
     "data": {
      "image/png": "[encoded data removed]",
      "text/plain": [
       "<matplotlib.figure.Figure at 0x1276bee80>"
      ]
     },
     "metadata": {},
     "output_type": "display_data"
    }
   ],
   "source": [
    "figsize(4, 8)\n",
    "plt.pcolormesh(scale(YYs[idx, :], 1), cmap=cm.magma, vmin=-2.5, vmax=2.0);\n",
    "plt.xticks([]);\n",
    "plt.xlabel('Pseudotime');"
   ]
  },
  {
   "cell_type": "code",
   "execution_count": 382,
   "metadata": {
    "collapsed": false
   },
   "outputs": [
    {
     "data": {
      "text/html": [
       "<div>\n",
       "<table border=\"1\" class=\"dataframe\">\n",
       "  <thead>\n",
       "    <tr style=\"text-align: right;\">\n",
       "      <th></th>\n",
       "      <th>g</th>\n",
       "      <th>i</th>\n",
       "    </tr>\n",
       "  </thead>\n",
       "  <tbody>\n",
       "    <tr>\n",
       "      <th>27070</th>\n",
       "      <td>MARCO</td>\n",
       "      <td>100</td>\n",
       "    </tr>\n",
       "    <tr>\n",
       "      <th>26714</th>\n",
       "      <td>ZC3H12C</td>\n",
       "      <td>101</td>\n",
       "    </tr>\n",
       "    <tr>\n",
       "      <th>26514</th>\n",
       "      <td>FTH1</td>\n",
       "      <td>102</td>\n",
       "    </tr>\n",
       "    <tr>\n",
       "      <th>26551</th>\n",
       "      <td>RAB32</td>\n",
       "      <td>103</td>\n",
       "    </tr>\n",
       "    <tr>\n",
       "      <th>27079</th>\n",
       "      <td>MAPKAPK2</td>\n",
       "      <td>104</td>\n",
       "    </tr>\n",
       "    <tr>\n",
       "      <th>27077</th>\n",
       "      <td>MYO 10</td>\n",
       "      <td>105</td>\n",
       "    </tr>\n",
       "    <tr>\n",
       "      <th>27132</th>\n",
       "      <td>CXCL3</td>\n",
       "      <td>106</td>\n",
       "    </tr>\n",
       "    <tr>\n",
       "      <th>26653</th>\n",
       "      <td>CLEC4E</td>\n",
       "      <td>107</td>\n",
       "    </tr>\n",
       "    <tr>\n",
       "      <th>26811</th>\n",
       "      <td>IDI1</td>\n",
       "      <td>108</td>\n",
       "    </tr>\n",
       "    <tr>\n",
       "      <th>26855</th>\n",
       "      <td>ITGA5</td>\n",
       "      <td>109</td>\n",
       "    </tr>\n",
       "    <tr>\n",
       "      <th>26564</th>\n",
       "      <td>SLC7A11</td>\n",
       "      <td>110</td>\n",
       "    </tr>\n",
       "    <tr>\n",
       "      <th>26753</th>\n",
       "      <td>SQSTM1</td>\n",
       "      <td>111</td>\n",
       "    </tr>\n",
       "    <tr>\n",
       "      <th>26978</th>\n",
       "      <td>RASSF4</td>\n",
       "      <td>112</td>\n",
       "    </tr>\n",
       "    <tr>\n",
       "      <th>26987</th>\n",
       "      <td>TXNRD1</td>\n",
       "      <td>113</td>\n",
       "    </tr>\n",
       "    <tr>\n",
       "      <th>27342</th>\n",
       "      <td>ACTR2</td>\n",
       "      <td>114</td>\n",
       "    </tr>\n",
       "    <tr>\n",
       "      <th>27251</th>\n",
       "      <td>TNF</td>\n",
       "      <td>115</td>\n",
       "    </tr>\n",
       "    <tr>\n",
       "      <th>27261</th>\n",
       "      <td>CDC42EP2</td>\n",
       "      <td>116</td>\n",
       "    </tr>\n",
       "    <tr>\n",
       "      <th>27000</th>\n",
       "      <td>MFLJ00294</td>\n",
       "      <td>117</td>\n",
       "    </tr>\n",
       "    <tr>\n",
       "      <th>26887</th>\n",
       "      <td>EHD1</td>\n",
       "      <td>118</td>\n",
       "    </tr>\n",
       "    <tr>\n",
       "      <th>26950</th>\n",
       "      <td>MARCKSL1</td>\n",
       "      <td>119</td>\n",
       "    </tr>\n",
       "    <tr>\n",
       "      <th>26931</th>\n",
       "      <td>S100A11</td>\n",
       "      <td>120</td>\n",
       "    </tr>\n",
       "    <tr>\n",
       "      <th>26917</th>\n",
       "      <td>IL1B</td>\n",
       "      <td>121</td>\n",
       "    </tr>\n",
       "    <tr>\n",
       "      <th>26786</th>\n",
       "      <td>RHOB</td>\n",
       "      <td>122</td>\n",
       "    </tr>\n",
       "    <tr>\n",
       "      <th>27034</th>\n",
       "      <td>PIK3R5</td>\n",
       "      <td>123</td>\n",
       "    </tr>\n",
       "    <tr>\n",
       "      <th>26810</th>\n",
       "      <td>MARCKSL1-PS4</td>\n",
       "      <td>124</td>\n",
       "    </tr>\n",
       "    <tr>\n",
       "      <th>26995</th>\n",
       "      <td>NUPR1</td>\n",
       "      <td>125</td>\n",
       "    </tr>\n",
       "    <tr>\n",
       "      <th>26818</th>\n",
       "      <td>LRRFIP1</td>\n",
       "      <td>126</td>\n",
       "    </tr>\n",
       "    <tr>\n",
       "      <th>26696</th>\n",
       "      <td>BTG1</td>\n",
       "      <td>127</td>\n",
       "    </tr>\n",
       "    <tr>\n",
       "      <th>26548</th>\n",
       "      <td>BCL2L11</td>\n",
       "      <td>128</td>\n",
       "    </tr>\n",
       "    <tr>\n",
       "      <th>26805</th>\n",
       "      <td>TNFAIP2</td>\n",
       "      <td>129</td>\n",
       "    </tr>\n",
       "    <tr>\n",
       "      <th>26488</th>\n",
       "      <td>RPS28</td>\n",
       "      <td>130</td>\n",
       "    </tr>\n",
       "    <tr>\n",
       "      <th>26768</th>\n",
       "      <td>SLFN2</td>\n",
       "      <td>131</td>\n",
       "    </tr>\n",
       "    <tr>\n",
       "      <th>26836</th>\n",
       "      <td>SLC25A37</td>\n",
       "      <td>132</td>\n",
       "    </tr>\n",
       "    <tr>\n",
       "      <th>26756</th>\n",
       "      <td>TNIP1</td>\n",
       "      <td>133</td>\n",
       "    </tr>\n",
       "    <tr>\n",
       "      <th>26751</th>\n",
       "      <td>LCP2</td>\n",
       "      <td>134</td>\n",
       "    </tr>\n",
       "    <tr>\n",
       "      <th>27085</th>\n",
       "      <td>MAFF</td>\n",
       "      <td>135</td>\n",
       "    </tr>\n",
       "    <tr>\n",
       "      <th>26744</th>\n",
       "      <td>PLEK</td>\n",
       "      <td>136</td>\n",
       "    </tr>\n",
       "    <tr>\n",
       "      <th>26710</th>\n",
       "      <td>H1F0</td>\n",
       "      <td>137</td>\n",
       "    </tr>\n",
       "    <tr>\n",
       "      <th>26943</th>\n",
       "      <td>AK202078</td>\n",
       "      <td>138</td>\n",
       "    </tr>\n",
       "    <tr>\n",
       "      <th>27192</th>\n",
       "      <td>MT1</td>\n",
       "      <td>139</td>\n",
       "    </tr>\n",
       "    <tr>\n",
       "      <th>27004</th>\n",
       "      <td>DUSP6</td>\n",
       "      <td>140</td>\n",
       "    </tr>\n",
       "    <tr>\n",
       "      <th>26990</th>\n",
       "      <td>FTL1</td>\n",
       "      <td>141</td>\n",
       "    </tr>\n",
       "    <tr>\n",
       "      <th>26666</th>\n",
       "      <td>ZFP36</td>\n",
       "      <td>142</td>\n",
       "    </tr>\n",
       "    <tr>\n",
       "      <th>26986</th>\n",
       "      <td>HNRNPL</td>\n",
       "      <td>143</td>\n",
       "    </tr>\n",
       "    <tr>\n",
       "      <th>27051</th>\n",
       "      <td>ACOT2</td>\n",
       "      <td>144</td>\n",
       "    </tr>\n",
       "    <tr>\n",
       "      <th>26976</th>\n",
       "      <td>ARPC4</td>\n",
       "      <td>145</td>\n",
       "    </tr>\n",
       "    <tr>\n",
       "      <th>26574</th>\n",
       "      <td>S100A1</td>\n",
       "      <td>146</td>\n",
       "    </tr>\n",
       "    <tr>\n",
       "      <th>27003</th>\n",
       "      <td>ATP2B1</td>\n",
       "      <td>147</td>\n",
       "    </tr>\n",
       "    <tr>\n",
       "      <th>26901</th>\n",
       "      <td>PDCD4</td>\n",
       "      <td>148</td>\n",
       "    </tr>\n",
       "    <tr>\n",
       "      <th>26573</th>\n",
       "      <td>SLC39A1</td>\n",
       "      <td>149</td>\n",
       "    </tr>\n",
       "  </tbody>\n",
       "</table>\n",
       "</div>"
      ],
      "text/plain": [
       "                  g    i\n",
       "27070         MARCO  100\n",
       "26714       ZC3H12C  101\n",
       "26514          FTH1  102\n",
       "26551         RAB32  103\n",
       "27079      MAPKAPK2  104\n",
       "27077        MYO 10  105\n",
       "27132         CXCL3  106\n",
       "26653        CLEC4E  107\n",
       "26811          IDI1  108\n",
       "26855         ITGA5  109\n",
       "26564       SLC7A11  110\n",
       "26753        SQSTM1  111\n",
       "26978        RASSF4  112\n",
       "26987        TXNRD1  113\n",
       "27342         ACTR2  114\n",
       "27251           TNF  115\n",
       "27261      CDC42EP2  116\n",
       "27000     MFLJ00294  117\n",
       "26887          EHD1  118\n",
       "26950      MARCKSL1  119\n",
       "26931       S100A11  120\n",
       "26917          IL1B  121\n",
       "26786          RHOB  122\n",
       "27034        PIK3R5  123\n",
       "26810  MARCKSL1-PS4  124\n",
       "26995         NUPR1  125\n",
       "26818       LRRFIP1  126\n",
       "26696          BTG1  127\n",
       "26548       BCL2L11  128\n",
       "26805       TNFAIP2  129\n",
       "26488         RPS28  130\n",
       "26768         SLFN2  131\n",
       "26836      SLC25A37  132\n",
       "26756         TNIP1  133\n",
       "26751          LCP2  134\n",
       "27085          MAFF  135\n",
       "26744          PLEK  136\n",
       "26710          H1F0  137\n",
       "26943      AK202078  138\n",
       "27192           MT1  139\n",
       "27004         DUSP6  140\n",
       "26990          FTL1  141\n",
       "26666         ZFP36  142\n",
       "26986        HNRNPL  143\n",
       "27051         ACOT2  144\n",
       "26976         ARPC4  145\n",
       "26574        S100A1  146\n",
       "27003        ATP2B1  147\n",
       "26901         PDCD4  148\n",
       "26573       SLC39A1  149"
      ]
     },
     "execution_count": 382,
     "metadata": {},
     "output_type": "execute_result"
    }
   ],
   "source": [
    "tmp.iloc[idx[100:150]][['g']].join(pd.DataFrame({'i': np.arange(100, 150)}, index=tmp.iloc[idx[100:150]].index))"
   ]
  },
  {
   "cell_type": "code",
   "execution_count": 388,
   "metadata": {
    "collapsed": false
   },
   "outputs": [
    {
     "data": {
      "image/png": "[encoded data removed]",
      "text/plain": [
       "<matplotlib.figure.Figure at 0x12f9cfcf8>"
      ]
     },
     "metadata": {},
     "output_type": "display_data"
    }
   ],
   "source": [
    "figsize(5, 3)\n",
    "s = dfm['S100A1']\n",
    "plt.scatter(X, s, c=sample_info.hour);\n",
    "plt.plot(xx, YYs[idx[146]], c='r', lw=3);"
   ]
  },
  {
   "cell_type": "code",
   "execution_count": 393,
   "metadata": {
    "collapsed": false
   },
   "outputs": [
    {
     "data": {
      "image/png": "[encoded data removed]",
      "text/plain": [
       "<matplotlib.figure.Figure at 0x13063fdd8>"
      ]
     },
     "metadata": {},
     "output_type": "display_data"
    }
   ],
   "source": [
    "df = sample_info.copy()\n",
    "df = df.join(pd.DataFrame({'e': dfm['S100A1']}))\n",
    "\n",
    "g = sns.FacetGrid(df, hue='treatment', aspect=1.5, size=4)\n",
    "g.map(plt.scatter, 'PC1', 'e')\n",
    "plt.plot(xx, YYs[idx[146]], c='tab:red', lw=3);\n",
    "plt.legend(scatterpoints=3);"
   ]
  },
  {
   "cell_type": "code",
   "execution_count": null,
   "metadata": {
    "collapsed": true
   },
   "outputs": [],
   "source": []
  },
  {
   "cell_type": "code",
   "execution_count": null,
   "metadata": {
    "collapsed": true
   },
   "outputs": [],
   "source": []
  }
 ],
 "metadata": {
  "kernelspec": {
   "display_name": "Python 3",
   "language": "python",
   "name": "python3"
  },
  "language_info": {
   "codemirror_mode": {
    "name": "ipython",
    "version": 3
   },
   "file_extension": ".py",
   "mimetype": "text/x-python",
   "name": "python",
   "nbconvert_exporter": "python",
   "pygments_lexer": "ipython3",
   "version": "3.6.0"
  }
 },
 "nbformat": 4,
 "nbformat_minor": 2
}
