{
 "cells": [
  {
   "cell_type": "code",
   "execution_count": 1,
   "metadata": {
    "collapsed": false
   },
   "outputs": [
    {
     "name": "stdout",
     "output_type": "stream",
     "text": [
      "Populating the interactive namespace from numpy and matplotlib\n"
     ]
    }
   ],
   "source": [
    "%pylab inline"
   ]
  },
  {
   "cell_type": "code",
   "execution_count": 8,
   "metadata": {
    "collapsed": true
   },
   "outputs": [],
   "source": [
    "import pandas as pd"
   ]
  },
  {
   "cell_type": "code",
   "execution_count": 9,
   "metadata": {
    "collapsed": true
   },
   "outputs": [],
   "source": [
    "df = pd.read_csv('data/Rep11_MOB_0.csv', index_col=0)\n",
    "dfm = np.log10(df + 1)"
   ]
  },
  {
   "cell_type": "code",
   "execution_count": 10,
   "metadata": {
    "collapsed": true
   },
   "outputs": [],
   "source": [
    "final = pd.read_csv('de1-test.csv', index_col=0)"
   ]
  },
  {
   "cell_type": "code",
   "execution_count": 11,
   "metadata": {
    "collapsed": true
   },
   "outputs": [],
   "source": [
    "from sklearn.decomposition import PCA\n",
    "from sklearn.preprocessing import scale"
   ]
  },
  {
   "cell_type": "code",
   "execution_count": 12,
   "metadata": {
    "collapsed": true
   },
   "outputs": [],
   "source": [
    "pca = PCA(2)"
   ]
  },
  {
   "cell_type": "code",
   "execution_count": 2,
   "metadata": {
    "collapsed": true
   },
   "outputs": [],
   "source": [
    "from matplotlib import animation, rc\n",
    "from IPython.display import HTML"
   ]
  },
  {
   "cell_type": "code",
   "execution_count": 3,
   "metadata": {
    "collapsed": false
   },
   "outputs": [
    {
     "data": {
      "image/png": "[encoded data removed]",
      "text/plain": [
       "<matplotlib.figure.Figure at 0x10d603940>"
      ]
     },
     "metadata": {},
     "output_type": "display_data"
    }
   ],
   "source": [
    "# First set up the figure, the axis, and the plot element we want to animate\n",
    "fig, ax = plt.subplots()\n",
    "\n",
    "ax.set_xlim(( -15, 15))\n",
    "ax.set_ylim((-15, 15))\n",
    "\n",
    "line, = ax.plot([], [], lw=2)"
   ]
  },
  {
   "cell_type": "code",
   "execution_count": 4,
   "metadata": {
    "collapsed": true
   },
   "outputs": [],
   "source": [
    "# initialization function: plot the background of each frame\n",
    "def init():\n",
    "    line.set_data([], [])\n",
    "    return (line,)"
   ]
  },
  {
   "cell_type": "code",
   "execution_count": 5,
   "metadata": {
    "collapsed": true
   },
   "outputs": [],
   "source": [
    "# animation function. This is called sequentially\n",
    "def animate(i):\n",
    "    x = np.linspace(0, 2, 1000)\n",
    "    y = np.sin(2 * np.pi * (x - 0.01 * i))\n",
    "    line.set_data(x, y)\n",
    "    return (line,)"
   ]
  },
  {
   "cell_type": "code",
   "execution_count": 6,
   "metadata": {
    "collapsed": true
   },
   "outputs": [],
   "source": [
    "anim = animation.FuncAnimation(fig, animate, init_func=init,\n",
    "                               frames=100, interval=20, blit=True)"
   ]
  },
  {
   "cell_type": "code",
   "execution_count": 7,
   "metadata": {
    "collapsed": false
   },
   "outputs": [
    {
     "data": {
      "text/html": [
       "<video width=\"432\" height=\"288\" controls autoplay loop>\n",
       "  <source type=\"video/mp4\" src=\"data:video/mp4;base64,AAAAHGZ0eXBNNFYgAAACAGlzb21pc28yYXZjMQAAAAhmcmVlAAAgFG1kYXQAAAKuBgX//6rcRem9\n",
       "5tlIt5Ys2CDZI+7veDI2NCAtIGNvcmUgMTQ4IHIyNzQ4IDk3ZWFlZjIgLSBILjI2NC9NUEVHLTQg\n",
       "QVZDIGNvZGVjIC0gQ29weWxlZnQgMjAwMy0yMDE2IC0gaHR0cDovL3d3dy52aWRlb2xhbi5vcmcv\n",
       "eDI2NC5odG1sIC0gb3B0aW9uczogY2FiYWM9MSByZWY9MyBkZWJsb2NrPTE6MDowIGFuYWx5c2U9\n",
       "MHgzOjB4MTEzIG1lPWhleCBzdWJtZT03IHBzeT0xIHBzeV9yZD0xLjAwOjAuMDAgbWl4ZWRfcmVm\n",
       "PTEgbWVfcmFuZ2U9MTYgY2hyb21hX21lPTEgdHJlbGxpcz0xIDh4OGRjdD0xIGNxbT0wIGRlYWR6\n",
       "b25lPTIxLDExIGZhc3RfcHNraXA9MSBjaHJvbWFfcXBfb2Zmc2V0PS0yIHRocmVhZHM9NiBsb29r\n",
       "YWhlYWRfdGhyZWFkcz0xIHNsaWNlZF90aHJlYWRzPTAgbnI9MCBkZWNpbWF0ZT0xIGludGVybGFj\n",
       "ZWQ9MCBibHVyYXlfY29tcGF0PTAgY29uc3RyYWluZWRfaW50cmE9MCBiZnJhbWVzPTMgYl9weXJh\n",
       "bWlkPTIgYl9hZGFwdD0xIGJfYmlhcz0wIGRpcmVjdD0xIHdlaWdodGI9MSBvcGVuX2dvcD0wIHdl\n",
       "aWdodHA9MiBrZXlpbnQ9MjUwIGtleWludF9taW49MjUgc2NlbmVjdXQ9NDAgaW50cmFfcmVmcmVz\n",
       "aD0wIHJjX2xvb2thaGVhZD00MCByYz1jcmYgbWJ0cmVlPTEgY3JmPTIzLjAgcWNvbXA9MC42MCBx\n",
       "cG1pbj0wIHFwbWF4PTY5IHFwc3RlcD00IGlwX3JhdGlvPTEuNDAgYXE9MToxLjAwAIAAAAcxZYiE\n",
       "ADP//vbsvgU1/Z/QlxEsxdpKcD4qpICAdzTAAAADAAB4He8+UYH49QECKWy/ZVNEpwyOrznfwHqD\n",
       "jpicb8XwaCQwx2rbJ9yUIQq2IxqJCFgAABT63Yr4+P0fM2nhqXMQT1tI4W2nTsdsjxhvnXj2MZ+z\n",
       "PUq7CbHpvFAdeBdllRpJx5OoVuE/32Ns8tYu9ElxEvWRejzSAyDTmTEEJQw76PX0rqqcuMBQ14ex\n",
       "p7NYnJ44d+SP4/kfTwOtTI8pG76wSeyZXfAiW+3ZnmYzGHWKMrbA3B5K3G+KEADBYo/LgO517ara\n",
       "rWgjOwgCzDwMMpQwj4kkTfWXDpgWaZHMhyMOZu5BjJoKF9DQ0myJplI9RubTolK4i6zfs3lwOUrc\n",
       "RCJ1cu+FHD3A9JR4fBrZIMLBzAojsd9mBIh0f9Ko9OkUNnyJfv4eBa686UpVqYvNqSeL872NDVqw\n",
       "qU6fIIACDQGXTq4jFmhmT6GUOoPBdqj5TNpJZ3VxKKOfMoYvLYCrqizwqVgxKioUINV7ahcHuoYO\n",
       "ICMdmL/W79P+uZ7tcXqU6cALstVPhGhy9ReVKBOBfgrbGlQoobV72ANffYNxgJbA9gyBfQkNJdUt\n",
       "3BQF3uxj/QQu9c/wfQTUxMIrYioh2EfWRE4kS0ioQt1G5jRa6cKgVjzq7Q6UQibLBztDjpayL5zy\n",
       "9zk6xABnmXanK72Or3IOhW5mNFmuK6zGwtW6n5IoyhqPWbHxtZMY5mGAM9vatQciMwh+TSdSbtMh\n",
       "wiFFZ4S8uCqkQvOjwtd/KizI3k198zW4G3KdviJb8MUCOuZj9cti0HWBi++AydouHZRUhy6b5N15\n",
       "ZmJE9QtiOmVaPi0JpIiqimb6ryfBhPlbYq5YuDrz2zqHjTpxiVEbWJTf74ssC99j9VAgdnXEn3kb\n",
       "QpNKYKuUkNEA8Hk7QDr8KbNJelmxwCFRnZtffISGTgMLJXWhEUyJ/bkcGK/R71LdPxiYYHZSq4xh\n",
       "yfzaX+cfEbxi1eu0OisIjpUQuJQbVsyvy5qxOGYEp+TSP3be6MYcilcGxClU9fpopn5IwiT3aFs1\n",
       "iGyRw/TkQlmhFAi75iaZdkt/jWDw2cbkgyspvLHSp3P4PiT81ciwrsdsxmebPd6XDIP6quLKRHcG\n",
       "WdG+rXXKBpS252ZF+7AOgussOiG1EtHTAFwc2hM3KK0CQvt8AAATyveFbADSL1BwsIWRpd6ylPPk\n",
       "hix6fHaRTW0p5KsfBO2cszcg0s+vrbpd3iut0bjg0LfHPaR4tY8vXo//k3hw/N308AP/+UIHT7WD\n",
       "luegesatxJUs+XVuyynPZJjv1xQdSjlJJRnNNAIxoVLG7putNhY9QUbdB0RgAv74zIAADRZEYcdk\n",
       "4EShzC6lD7/UvNhfGiNEG3UjpceTdKwh4t8OafSdtRuR4yCnG71rKORDGMiIGr7So0dfuoSzmghU\n",
       "csrDQ+bHsINz5tEvWC9dsgE0MWVIFwqcf8n3jZNAGLZGzC1p4NAdCzg9cWAegeUNYNR86HtiNpvH\n",
       "uPI8Rhh9r7AoB4lY/NFKqRo+cVqzlGvDpvpxf9tFaU6q2Vils+yG5T/DWy+nd94F7qklzmvSi792\n",
       "v4jEgEdSx8luahoKLZNxgAxNm7P9Wp2S9ymogvXvhzJ8Jz5kParpck02gBjS/VlOqy8jxKYoK/jx\n",
       "XpQxxceqRv1we8SwRqpXwqMiaZQUr3SIG8AUqhitPxVtFMVWlajeRocqrDEuOpi2Xmh7LnFoqsPj\n",
       "LDvONeqvo3WuzMi0ECXU+nT4r0W9waEwQXQnYsOnioRQ6ddG+0IATg8RjeHiy9lPPAOcTaOmI4Ku\n",
       "2O/yj2e8FS5V0kjk+ikZ6BQbc+8i4eL5RfxbGTQ8CD6ja9TYz+DnrRUHCesELSf+/DQrLPDYRlv3\n",
       "fzbbp3r+pcKGDN+3tcLzgRGFQiFNm2DePU6PSDvfFS0MExzoR62/W6xbpbQZ7neIl1P8YamKT9HF\n",
       "Y1y9Kv1kfvJtfVCb5Qq9ao3nF2JuP7Ns5lsKtIF0QVj0Ag6tRH2qx32LhEp//EyiAxAZPHY8D2lc\n",
       "UCwAYP97tjJyjlR8v4Bss8GH9R5iAMTZQ5au0En9jddJUPYtQxVhaSFuTZJScwazw++Z4SdUm0ZA\n",
       "RDomeSCCaL1fouUDcdcuBLiy7Jm6uC5Ef/5KDCg65WGeY49Te8y6gU/z3cv0zT+/kvz8tUfTT9fw\n",
       "CJn8uTuxNJyFFowuPXCdevwp1NpZOOCj09WDZlNaQGRLc6PL6CbTo4ZI/iL8OPSruEn9zqDcidRu\n",
       "IUTEYMdYL+H2a4wPJphdTtbPZQroMSRlr5ttc33GD6E3g5PooUaW7FpAvKoJ74+MvpNqnwTq/t/b\n",
       "4lkmob1co8TOFtVlCRzOknh5nYAZVqjWXvM9xc/lgAz9YBdHqkwOOupxamv5WMNIbmrgbkE+/X5c\n",
       "UeO1s1MwAESBVNWAEXEAAAFxQZokbEM//p4Qf+LEwaHIila6qGCtp+cmAAAFJXbapliUs1QBgCtd\n",
       "oin3mjvwBSi2A6NYBe6FPzMiKIZtRiS9tUrUTMGmfIt8EqZnxNRS6zakqU+FgJFOfhSBqmq/n3vI\n",
       "RcpZiwWsdeqYmhKV67ikGjSBg5UyMZbdSatZ+kf5hFO2+WR/t9a39F2U4DxpUz11NDrMFbkSX3cb\n",
       "FVHf7E7hCm5jHbN7DwGjT6aKEcNrRn1cRmCFKUy7/+b1mlhldaW43r1cAiAJW94ArZJT6CKaNvwr\n",
       "fOQKwJjmDdmFD0fSMAqhamDYj/gVmOrPK4Wi1zkk+erxnMWmpQELssFBXqC236v4mgoPTGMIcDLF\n",
       "lS68+mJismXSPrZfxjP2mE1v6FYfNraSyrLcN6QJHFAY/4L2if+waKvMgqpVYy2Uf5SiwgLHkfRF\n",
       "AWWhqRwuboto8iK09SjX5MrqfMAH9w9zjDua+0KD6Laamtqtaw5hevo3uoG/AAAAQkGeQniEfwVV\n",
       "NWKKNWWzQAADDrVMt1GVPn5wgu2It2/DdO6o9V4nhVoskj7xRk/ttgO9Gp04rf34lCDHEYY6Df0D\n",
       "LwAAACwBnmF0R/8H4n6wpmZ07cQAAAMCRJVMtxd+Ax43ivoCerJCiwqOFv3h2gjvaAAAABoBnmNq\n",
       "R/8BxYBGRG83V8ilqoUcBFU2QZrllQAAAJVBmmhJqEFomUwIZ//+nhAAFQBiRxwBxSukrou0TnPR\n",
       "1Ezl2Ymw2GOQMtkeYFrTGpTEmO1RvsIVibPQs1+DKZ5QZ8fvsUfV3ALWyziv/vupwkXL7hZCBGOg\n",
       "Hjxv9QpqzPipRZ8euMFxJU6MSE3368kVJqLX0QNeWgMI5Y0FF3RSTMuu/zf4vdZI3t2/pLtDthFw\n",
       "vjc7bwAAAChBnoZFESwj/wEeKhF9a6pTB0BF3LRtAYQS4pVy9k0CwzjLzZh4eAE7AAAAHAGepXRH\n",
       "/wHEirGrZuw0QTOcV0vnck0FlQeS4Q0AAAAYAZ6nakf/AcWARkRvN1fIpaqExDMp/t8SAAAAgkGa\n",
       "rEmoQWyZTAhn//6eEAAU/hvNwAcXa84khtN+G2K4/C5l74vqp9hw8tRNfe2iyuPnwDNYqe5ok3I8\n",
       "xHiII177hUkdXCG585Mb10MRLYRf3U9GyfOnb899vpcmYvzs9WQvX9RP5GsY9HILPrxOG9L4aNKf\n",
       "nfL4KuKLhE/Ub7bwhv4AAAAgQZ7KRRUsI/8BHioRfWuqUwLi1fOafscltrIdzHIhIkEAAAAWAZ7p\n",
       "dEf/AcSKsatlBNS5dYICzguM9wAAABcBnutqR/8BxYBGRG6DkHC7RVgyFpfHQAAAAJBBmvBJqEFs\n",
       "mUwIZ//+nhAAFP4bM+W1+QBPVu8Gdmqtn6NUyFkPJGq83ZJfasfS+PM86N34CWVgBPabBcFgh+JY\n",
       "pIZ/zRY3cLddxWX1peLij+/EnnSVQkbY0sFztmFzDeqguDVbkKRb+ODJ52k/ZdjP/zyPiKUtJITv\n",
       "Z+fikok9EfF0/7pkrii4RPulEka2V+0AAAAdQZ8ORRUsI/8BHioRfWuqUv6Uq7ajq+WtjaiMtb0A\n",
       "AAAWAZ8tdEf/AcSKsatlBNS5dYICzguM9wAAABcBny9qR/8BxYBGRG6DkHC7RVgyFpfHQAAAAItB\n",
       "mzRJqEFsmUwIZ//+nhAAFRXuQ9tTiu5RHPFAD4fpgnRQxrXaBuSlsP6ViKr6jupPGtF5+03jHNdd\n",
       "WEoIZWU6vX4iSqE59Hf7j04n+wVNsW9/0Dp5c+dp8i1DV4WodXa2tM9oMOUsh5lizTjvS6UCzUJD\n",
       "qAM1tYnTnFbXcyj/YdVqXCJ+QkZMQvcIAAAAHUGfUkUVLCP/AR4qEX1rqlL+lKu2o6vlrY2ojLW9\n",
       "AAAAGAGfcXRH/wHEirGrZwpnGsd/rcrIofw1SAAAABcBn3NqR/8BxYBGRG6DkHC7RVgyFpfHQAAA\n",
       "AIJBm3hJqEFsmUwIZ//+nhAAFP4WxjF6TgBsurMU7q3bwZygxv5NAI+a4Awmf6Xw+rrBdVZoUJED\n",
       "Ej5K9YXkU5Iu7Up/UIwsbfu70XNiBbq7SGLFTlP0x5Vc5TUUp4lzYm+/kSE2tFXK1ZQjNdszCmFS\n",
       "1n6aJ+903/WpcIupGsDxKD/tAAAAHUGflkUVLCP/AR4qEX1rqlL+lKu2o6vlrY2ojLW8AAAAGAGf\n",
       "tXRH/wHEirGrZwpnGsd/rcrIofw1SQAAABgBn7dqR/8BxYBGRHAKsBrM0RC8bnwaK+0AAACBQZu8\n",
       "SahBbJlMCGf//p4QABT+E0Q5Tgld8gCGIVs1yKbvq490RtFjDYh70ogF982lTi2POJFmc62PZw7u\n",
       "KdkCTCZRHSOCqn3OnNIkya+agLm3vuHAOuc98eVPqUNAd88D5FVcPEINBQ4jZRJjIyj9cqn5ZP/Y\n",
       "p/1qXCLl0olTrmqMAAAAHUGf2kUVLCP/AR4qEX1rqlL+lKu2o6vlrY2ojLW9AAAAFgGf+XRH/wHE\n",
       "irGrZQTUuXWCAs4LjPcAAAAXAZ/7akf/AcWARkRug5Bwu0VYMhaXx0EAAACKQZvgSahBbJlMCGf/\n",
       "/p4QABUekolKQAOR/LdMhiEFEuBmgGm9DzelakmW8vNeQKWLQ5RP8MvV6rBwpCmi/3vOlIiXxOEr\n",
       "CfGcamAlZJrdNemg3/oyg2smCULYExJabxf7+Vx3eQDDnYuYte+kKAiAEtaQbKB3Vm8vP31wrAb7\n",
       "sFYozeSRy4BLIMfbAAAAH0GeHkUVLCP/AR4qEX1rqlMHQEL6a9F26bAyYit3s+UAAAAWAZ49dEf/\n",
       "AcSKsatlBNS5dYICzguM9wAAABgBnj9qR/8BxYBGRHALdQ1mZOTEMyn+3xMAAACJQZokSahBbJlM\n",
       "CGf//p4QABUeZc5oRh5o+MwAgttocnpi1d9OGVxAWOThpaLlGyTbSW0SZZe0R1ppIEF41iQne5lj\n",
       "nNfUrYHwluESGpWGT/rBkaY0TfQ1/VMzMhZtvJNRqPBYgfUlSLTlgkGzMwstleQaS/dtmqioNblk\n",
       "/5eq9Slwi4HkSpvAudAAAAAiQZ5CRRUsI/8BHioRfWuqUwcnrNsiPzHO6YVdwHOKX7ADLwAAABYB\n",
       "nmF0R/8BxIqxq2UE1Ll1ggLOC4z3AAAAGAGeY2pH/wHFgEZEcAt1DWZk5MQzKf7fEwAAAIlBmmhJ\n",
       "qEFsmUwIZ//+nhAAFIXgykFMAQxcL8XQcLB87/w+VAx9BsSH+6Q0NbLS2PFffLoC0fB1Zwr8saxf\n",
       "h71zcXXR8NXX9mLND5JCVpElfmFoqpWHX1vu6Z8SUi+NXmOasRVZpnO1KpcYVCRSskU8PWvSfvkZ\n",
       "y3zavN1ks3P/FFwhxkL80aHFsQAAACFBnoZFFSwj/wEeKhF9a6pTB0eTHCPIchu0CXU62IhYDgkA\n",
       "AAAYAZ6ldEf/AcSKsatnCmcax3+tysih/DVJAAAAGAGep2pH/wHFgEZEcAt1DWZk5MQzKf7fEgAA\n",
       "AINBmqxJqEFsmUwIZ//+nhAAFHBiXTAARSmW5c4FrBzdwR0M3rJIV3c0pvPOF2l/zgV7QSwWZIj2\n",
       "+q/JOWQ60Y1Kb+jm2MRPnN4rNDp63soejMLNZDWBETu/piXjq63Zyo7UrGJSXWL5Ib1THyuT7wUc\n",
       "P6vpCMD3Sr7ii4RQSLYHW9ZLgAAAAClBnspFFSwj/wEeKhF9a6pTB0ePNuMAN0HNKo5hxOVZ19wd\n",
       "NlYmQ9AHpQAAABkBnul0R/8BxIqxq2X4Ow6IzZFJK+A4SYUoAAAAGQGe62pH/wHFgEZEbzb+0Uvp\n",
       "3tuuEwguCoAAAACaQZrwSahBbJlMCGf//p4QABT+EfyAGNn9HAqZO6+M8u35L3TvTCjqEFzgaIIj\n",
       "YtgMC6EpdChPieJjcCL/5SMHhc/vRxmG37MHBtN6NKVx9mPCa1/zgTewGXR5wWdN3ltl637W9bEB\n",
       "Ce2JaGLEr/TwLmP6MA7eGnRKTNP0rZQgQ8yWe6HJB99k6JyuA4r467oQtS4QUxMeANJqUQAAACVB\n",
       "nw5FFSwj/wEeKhF9a6pTB0eOk5dMGh4wv4bYIC0DRIFqm0ctAAAAFgGfLXRH/wHEirGrZVY3Bz2v\n",
       "6lWRPpEAAAAVAZ8vakf/AcWARkRug5Bwu0VYMf0MAAAAgUGbNEmoQWyZTAhf//6MsAAVLkV+DXTB\n",
       "2cAVXbbta3QHXUiCbDNHWb0L99bXBS8xjLDOR4PKUgJEgUY+kFcgI0+BQys3I9g4CLe966PKKnfB\n",
       "irS5MPnij3Jy4G+JkD55MjGuyOzxQyMZDuHhrelOy3XugpVu21e98rZez1Bcf9DzyAAAACNBn1JF\n",
       "FSwj/wEeKhF9a6pTB0A5Qu5kVLiF+vZ+QiSilaAgoQAAABgBn3F0R/8BxIqxq2X49GAO7RkTt5rB\n",
       "l0AAAAAZAZ9zakf/AcWARkRvPB64NNqzgczjfs7qgAAAAJJBm3hJqEFsmUwIX//+jLAAFS5Ffh1a\n",
       "KhHgA47e0fCiy9KaP4bjYOqgGN+EGmYWOp+GKiQhU4Sw8xZCCkpnAn/XAd+GyU7YwZIgwmN1fjfb\n",
       "96gHx0yjbmMlYHmKTcnb8oz0r79wP7KGK6vP7ypmz5UcsB8y683zprLle3JEfAHh2ffPUXtvuux4\n",
       "iu97zwKNqq9XYQAAACFBn5ZFFSwj/wEeKhF9a6pTB0A4Ce+Yrw5apoCXTTkkAsIAAAAWAZ+1dEf/\n",
       "AcSKsatl+AxRGa/qVZE+kQAAABkBn7dqR/8BxYBGRG//O+7HCNHYv70u/SrpAAAAZ0GbukmoQWyZ\n",
       "TBRMM//+nhAAFQCqrFSATC8dLvkOs/VwJl0p7Ljn1vQwfeWimN3uc4iSTjcjURbnqxnclL9fQEy+\n",
       "aZq4MrjIAf9OocjwYmK+/XSnjEBwNssn/t5fa1LhFy6k2x1ZFGAAAAAdAZ/Zakf/AcXvkz/0ad6c\n",
       "Tui9rj92U67t33iwEDEAAACjQZveSeEKUmUwIZ/+nhAAFRepquYgDf+5VBD7g5F0hjGOhwBkUTmi\n",
       "gYL2+1CvniMGRjOu75kh2iWTKgtt0lpO7/DQnab0kZkp4BrpzPNFmR9ldLOogIFw1qkgWRhKttPy\n",
       "K2A9DTLq2qT8tjVdd39VwTbix6baDvA9h8Si3p58zWljBwW0len86HmO0C8TTlwmIuYTLmM7D7ii\n",
       "4RPysjWQBzhmQAAAACBBn/xFNEwj/wEeCnnby0Il+JLn3LbsIZ1wKUum+RIBIwAAABUBnht0R/8B\n",
       "xIqxq2UE1Ll1ggLNkzEAAAAYAZ4dakf/AcWARkRvRYrVMWxGjINkzuqAAAAAc0GaAkmoQWiZTAhn\n",
       "//6eEAAVFD7FFAFnUdSOURXcbqCE25nY4ASai7JpYZVaX1z5cf4obneN/oBUmVn5L0SPSp5Pnhj2\n",
       "JXirxa+4ElOh1d7VwnB1WijzKd1ONDgEichpuuk5dP+6YVcUXCJ93YlTdStsAdMAAAAgQZ4gRREs\n",
       "I/8BHioRfWuqUwdFsWDYjab7PIbdmQptp78AAAAVAZ5fdEf/AcSKsatlBNS5dYICzZMwAAAAFQGe\n",
       "QWpH/wHFgEZEboOQcLtFWDH9DQAAAHtBmkZJqEFsmUwIZ//+nhAAFRS4m8kABWm5kW0FJa8g2C66\n",
       "9Ktu4p3fr46tmEAcGMyLLrzJ1mEK5j54qoUJBwqg48n57f4HMWbvurL2MT53RGAD5bx37yDyv0wn\n",
       "ww9KnZ9ZNaUcJ0q3XN9TNBVs4QUs//FyF/rJ3falCmAAAAAfQZ5kRRUsI/8BHioRfWuqUwc6QGJt\n",
       "79m6ueEjvt/XtQAAABUBnoN0R/8BxIqxq2UE1Ll1ggLNkzEAAAARAZ6Fakf/AcWARkRugek+soEA\n",
       "AAB1QZqKSahBbJlMCGf//p4QABUB0TPAFbXtKzdMDJFXt942yl41c6wyablt7jFgaYJUJyvtcnkR\n",
       "dE2HkTqmSrduRm8fW7x4vT8C8pWfpmHrn1zIF0SgN6gPmrK1CSvMV72XUWb8mbGXFhK4hqPdUJgK\n",
       "dCxmqVtFAAAAF0GeqEUVLCP/AR4qEX1rqlL+iy37/TrkAAAAEwGex3RH/wHEirGrZgXCzQJrnZwA\n",
       "AAATAZ7Jakf/AcWARkRvO5uSVtqBwQAAAHpBms5JqEFsmUwIZ//+nhAAFPp8PgAsISSiOu+oE+sz\n",
       "eThHx+nyi/qzFt0hm2se6Q/Fm6bEN4Q/edrzlblslOzJdZ0hsa6WOihUttQ4WBsm31xD5tizn2Kh\n",
       "xAS6k5U4bTsWnExxQ0kig/BWH5pECPZb+//J5odtNNd04AAAABpBnuxFFSwj/wEeKhF9a6pTAuLR\n",
       "Tan0dcsgwAAAABABnwt0R/8BxIqxq2UCn7kxAAAAEQGfDWpH/wHFgEZEboHpPrKBAAAAb0GbEkmo\n",
       "QWyZTAhf//6MsAAVL204AAVzdSvSG+xjx8cZNqMskX3bUJOl29JsDxytcx4wqPnAB5d6I7xK5S6z\n",
       "1Kl6uBOhmwZDDDsIuBHusJ2OLXwLtnvLnDsV5nhKs0/xY5RWvhz8ZqcnWybHysT42QAAABpBnzBF\n",
       "FSwj/wEeKhF9a6pTAtPhFEKz68OIYAAAABMBn090R/8BxIqxq2YFWABwq4DAAAAAEwGfUWpH/wHF\n",
       "gEZEb0W42Nw4qyUAAABwQZtWSahBbJlMCF///oywABUreOAAK5r9fcF7+KyAnqH5cNMSRhWLm7iU\n",
       "8yB37/Wcgslz5dJzgU7Ux9YKXxqL9Y49QZxEzNbakZL6OZ4HdhcKXfNQx1h57UhJ/BsuumasJWGl\n",
       "8GLNjXSe6TnU7E+NgAAAABxBn3RFFSwj/wEeKhF9a6pTBrudG5v03vStV044AAAAEgGfk3RH/wHE\n",
       "irGrZgUzjaMAZwAAABIBn5VqR/8BxYBGRG9FuobS4EcAAABZQZuaSahBbJlMCF///oywABUvbRFg\n",
       "BwXcUbasrlI4JmgjyQ1CJ6cffufRom5O6uRz0ZzxzuIz/5fvpNNDfcUffVsnbHr99OygQdOrIrok\n",
       "tCr/XcsczBg3xsEAAAAbQZ+4RRUsI/8BHioRfWuqUwbAL3N2+95mnsMvAAAAFAGf13RH/wHEirGr\n",
       "ZgU4dPCfom38AAAAEgGf2WpH/wHFgEZEb0W6htLgRwAAAGBBm95JqEFsmUwIV//+OEAAUZ6j0AIk\n",
       "c1pf8WXD1coBxrzL0hlH2RJkPH4YjEsrLW2jhXitZu0mUyxBYEKFS1RoSswGXN/eQFtnClqPjzlj\n",
       "Tki7jcsqn3AZB29UQNgnxsAAAAAeQZ/8RRUsI/8BHioRfWuqUwcs9Yd/hxs64xPHSC2pAAAAEgGe\n",
       "G3RH/wHEirGrZgUzjaMAZwAAABIBnh1qR/8BxYBGRG9FuobS4EcAAAA/QZoCSahBbJlMCEf//eEA\n",
       "AT8wVgeoAN4m0zkZdteXRbeMb5NC42ChrBVpKbpTUXlIbmH0dEqvmXJtXBFj/DdAAAAAHUGeIEUV\n",
       "LCP/AR4qEX1rqlMGwC9zdirFaIpzokmvAAAAEgGeX3RH/wHEirGrZgUzjaMAZgAAABIBnkFqR/8B\n",
       "xYBGRG9FuobS4EcAAAAZQZpDSahBbJlMCP/8hAAE2U1uW+wIQml3dAAAB95tb292AAAAbG12aGQA\n",
       "AAAAAAAAAAAAAAAAAAPoAAAH0AABAAABAAAAAAAAAAAAAAAAAQAAAAAAAAAAAAAAAAAAAAEAAAAA\n",
       "AAAAAAAAAAAAAEAAAAAAAAAAAAAAAAAAAAAAAAAAAAAAAAAAAAAAAAACAAAHCHRyYWsAAABcdGto\n",
       "ZAAAAAMAAAAAAAAAAAAAAAEAAAAAAAAH0AAAAAAAAAAAAAAAAAAAAAAAAQAAAAAAAAAAAAAAAAAA\n",
       "AAEAAAAAAAAAAAAAAAAAAEAAAAABsAAAASAAAAAAACRlZHRzAAAAHGVsc3QAAAAAAAAAAQAAB9AA\n",
       "AAIAAAEAAAAABoBtZGlhAAAAIG1kaGQAAAAAAAAAAAAAAAAAADIAAABkAFXEAAAAAAAtaGRscgAA\n",
       "AAAAAAAAdmlkZQAAAAAAAAAAAAAAAFZpZGVvSGFuZGxlcgAAAAYrbWluZgAAABR2bWhkAAAAAQAA\n",
       "AAAAAAAAAAAAJGRpbmYAAAAcZHJlZgAAAAAAAAABAAAADHVybCAAAAABAAAF63N0YmwAAACzc3Rz\n",
       "ZAAAAAAAAAABAAAAo2F2YzEAAAAAAAAAAQAAAAAAAAAAAAAAAAAAAAABsAEgAEgAAABIAAAAAAAA\n",
       "AAEAAAAAAAAAAAAAAAAAAAAAAAAAAAAAAAAAAAAAAAAAAAAY//8AAAAxYXZjQwFkAB7/4QAYZ2QA\n",
       "HqzZQbCWhAAAAwAEAAADAZA8WLZYAQAGaOvjyyLAAAAAHHV1aWRraEDyXyRPxbo5pRvPAyPzAAAA\n",
       "AAAAABhzdHRzAAAAAAAAAAEAAABkAAABAAAAABRzdHNzAAAAAAAAAAEAAAABAAADMGN0dHMAAAAA\n",
       "AAAAZAAAAAEAAAIAAAAAAQAABQAAAAABAAACAAAAAAEAAAAAAAAAAQAAAQAAAAABAAAFAAAAAAEA\n",
       "AAIAAAAAAQAAAAAAAAABAAABAAAAAAEAAAUAAAAAAQAAAgAAAAABAAAAAAAAAAEAAAEAAAAAAQAA\n",
       "BQAAAAABAAACAAAAAAEAAAAAAAAAAQAAAQAAAAABAAAFAAAAAAEAAAIAAAAAAQAAAAAAAAABAAAB\n",
       "AAAAAAEAAAUAAAAAAQAAAgAAAAABAAAAAAAAAAEAAAEAAAAAAQAABQAAAAABAAACAAAAAAEAAAAA\n",
       "AAAAAQAAAQAAAAABAAAFAAAAAAEAAAIAAAAAAQAAAAAAAAABAAABAAAAAAEAAAUAAAAAAQAAAgAA\n",
       "AAABAAAAAAAAAAEAAAEAAAAAAQAABQAAAAABAAACAAAAAAEAAAAAAAAAAQAAAQAAAAABAAAFAAAA\n",
       "AAEAAAIAAAAAAQAAAAAAAAABAAABAAAAAAEAAAUAAAAAAQAAAgAAAAABAAAAAAAAAAEAAAEAAAAA\n",
       "AQAABQAAAAABAAACAAAAAAEAAAAAAAAAAQAAAQAAAAABAAAFAAAAAAEAAAIAAAAAAQAAAAAAAAAB\n",
       "AAABAAAAAAEAAAMAAAAAAQAAAQAAAAABAAAFAAAAAAEAAAIAAAAAAQAAAAAAAAABAAABAAAAAAEA\n",
       "AAUAAAAAAQAAAgAAAAABAAAAAAAAAAEAAAEAAAAAAQAABQAAAAABAAACAAAAAAEAAAAAAAAAAQAA\n",
       "AQAAAAABAAAFAAAAAAEAAAIAAAAAAQAAAAAAAAABAAABAAAAAAEAAAUAAAAAAQAAAgAAAAABAAAA\n",
       "AAAAAAEAAAEAAAAAAQAABQAAAAABAAACAAAAAAEAAAAAAAAAAQAAAQAAAAABAAAFAAAAAAEAAAIA\n",
       "AAAAAQAAAAAAAAABAAABAAAAAAEAAAUAAAAAAQAAAgAAAAABAAAAAAAAAAEAAAEAAAAAAQAABQAA\n",
       "AAABAAACAAAAAAEAAAAAAAAAAQAAAQAAAAABAAAFAAAAAAEAAAIAAAAAAQAAAAAAAAABAAABAAAA\n",
       "AAEAAAIAAAAAHHN0c2MAAAAAAAAAAQAAAAEAAABkAAAAAQAAAaRzdHN6AAAAAAAAAAAAAABkAAAJ\n",
       "5wAAAXUAAABGAAAAMAAAAB4AAACZAAAALAAAACAAAAAcAAAAhgAAACQAAAAaAAAAGwAAAJQAAAAh\n",
       "AAAAGgAAABsAAACPAAAAIQAAABwAAAAbAAAAhgAAACEAAAAcAAAAHAAAAIUAAAAhAAAAGgAAABsA\n",
       "AACOAAAAIwAAABoAAAAcAAAAjQAAACYAAAAaAAAAHAAAAI0AAAAlAAAAHAAAABwAAACHAAAALQAA\n",
       "AB0AAAAdAAAAngAAACkAAAAaAAAAGQAAAIUAAAAnAAAAHAAAAB0AAACWAAAAJQAAABoAAAAdAAAA\n",
       "awAAACEAAACnAAAAJAAAABkAAAAcAAAAdwAAACQAAAAZAAAAGQAAAH8AAAAjAAAAGQAAABUAAAB5\n",
       "AAAAGwAAABcAAAAXAAAAfgAAAB4AAAAUAAAAFQAAAHMAAAAeAAAAFwAAABcAAAB0AAAAIAAAABYA\n",
       "AAAWAAAAXQAAAB8AAAAYAAAAFgAAAGQAAAAiAAAAFgAAABYAAABDAAAAIQAAABYAAAAWAAAAHQAA\n",
       "ABRzdGNvAAAAAAAAAAEAAAAsAAAAYnVkdGEAAABabWV0YQAAAAAAAAAhaGRscgAAAAAAAAAAbWRp\n",
       "cmFwcGwAAAAAAAAAAAAAAAAtaWxzdAAAACWpdG9vAAAAHWRhdGEAAAABAAAAAExhdmY1Ny41Ni4x\n",
       "MDE=\n",
       "\">\n",
       "  Your browser does not support the video tag.\n",
       "</video>"
      ],
      "text/plain": [
       "<IPython.core.display.HTML object>"
      ]
     },
     "execution_count": 7,
     "metadata": {},
     "output_type": "execute_result"
    }
   ],
   "source": [
    "HTML(anim.to_html5_video())\n"
   ]
  },
  {
   "cell_type": "code",
   "execution_count": null,
   "metadata": {
    "collapsed": true
   },
   "outputs": [],
   "source": []
  },
  {
   "cell_type": "code",
   "execution_count": null,
   "metadata": {
    "collapsed": true
   },
   "outputs": [],
   "source": []
  }
 ],
 "metadata": {
  "kernelspec": {
   "display_name": "Python 3",
   "language": "python",
   "name": "python3"
  },
  "language_info": {
   "codemirror_mode": {
    "name": "ipython",
    "version": 3
   },
   "file_extension": ".py",
   "mimetype": "text/x-python",
   "name": "python",
   "nbconvert_exporter": "python",
   "pygments_lexer": "ipython3",
   "version": "3.6.0"
  }
 },
 "nbformat": 4,
 "nbformat_minor": 2
}
