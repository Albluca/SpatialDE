{
 "cells": [
  {
   "cell_type": "code",
   "execution_count": 2,
   "metadata": {},
   "outputs": [
    {
     "name": "stdout",
     "output_type": "stream",
     "text": [
      "Populating the interactive namespace from numpy and matplotlib\n"
     ]
    }
   ],
   "source": [
    "%pylab inline\n",
    "import pandas as pd"
   ]
  },
  {
   "cell_type": "code",
   "execution_count": 148,
   "metadata": {
    "scrolled": false
   },
   "outputs": [],
   "source": [
    "plt.rcParams['axes.spines.right'] = False\n",
    "plt.rcParams['axes.spines.top'] = False"
   ]
  },
  {
   "cell_type": "code",
   "execution_count": 149,
   "metadata": {
    "collapsed": true
   },
   "outputs": [],
   "source": [
    "from glob import glob"
   ]
  },
  {
   "cell_type": "code",
   "execution_count": 150,
   "metadata": {
    "collapsed": true
   },
   "outputs": [],
   "source": [
    "times = {}\n",
    "for fname in glob('*/*_time.csv'):\n",
    "    times[fname] = (pd.read_csv(fname)['time'][0])"
   ]
  },
  {
   "cell_type": "code",
   "execution_count": 151,
   "metadata": {},
   "outputs": [],
   "source": [
    "df = pd.Series(times).to_frame('time')\n",
    "\n",
    "df = \\\n",
    "df.index \\\n",
    "    .str.extract('(\\d+)/sim_(\\w+)_time.csv', expand=True) \\\n",
    "    .rename(columns={0: 'samples', 1: 'method'}) \\\n",
    "    .set_index(df.index) \\\n",
    "    .join(df)\n",
    "    \n",
    "df['genes'] = df.method.map({'spatialde': int(1e4), 'stan': int(1e2)})\n",
    "df['multiplier'] = 1e4 / df.genes\n",
    "df['corrected_time'] = df['time'] * df['multiplier']\n",
    "\n",
    "df['method'] = df['method'].map({'spatialde': 'SpatialDE', 'stan': 'Stan'})"
   ]
  },
  {
   "cell_type": "code",
   "execution_count": 152,
   "metadata": {},
   "outputs": [
    {
     "data": {
      "text/html": [
       "<div>\n",
       "<table border=\"1\" class=\"dataframe\">\n",
       "  <thead>\n",
       "    <tr style=\"text-align: right;\">\n",
       "      <th></th>\n",
       "      <th>samples</th>\n",
       "      <th>method</th>\n",
       "      <th>time</th>\n",
       "      <th>genes</th>\n",
       "      <th>multiplier</th>\n",
       "      <th>corrected_time</th>\n",
       "    </tr>\n",
       "  </thead>\n",
       "  <tbody>\n",
       "    <tr>\n",
       "      <th>100/sim_spatialde_time.csv</th>\n",
       "      <td>100</td>\n",
       "      <td>SpatialDE</td>\n",
       "      <td>80.285671</td>\n",
       "      <td>10000</td>\n",
       "      <td>1.0</td>\n",
       "      <td>8.028567e+01</td>\n",
       "    </tr>\n",
       "    <tr>\n",
       "      <th>100/sim_stan_time.csv</th>\n",
       "      <td>100</td>\n",
       "      <td>Stan</td>\n",
       "      <td>5.049000</td>\n",
       "      <td>100</td>\n",
       "      <td>100.0</td>\n",
       "      <td>5.049000e+02</td>\n",
       "    </tr>\n",
       "    <tr>\n",
       "      <th>1000/sim_spatialde_time.csv</th>\n",
       "      <td>1000</td>\n",
       "      <td>SpatialDE</td>\n",
       "      <td>152.574598</td>\n",
       "      <td>10000</td>\n",
       "      <td>1.0</td>\n",
       "      <td>1.525746e+02</td>\n",
       "    </tr>\n",
       "    <tr>\n",
       "      <th>1000/sim_stan_time.csv</th>\n",
       "      <td>1000</td>\n",
       "      <td>Stan</td>\n",
       "      <td>1865.586554</td>\n",
       "      <td>100</td>\n",
       "      <td>100.0</td>\n",
       "      <td>1.865587e+05</td>\n",
       "    </tr>\n",
       "    <tr>\n",
       "      <th>2000/sim_spatialde_time.csv</th>\n",
       "      <td>2000</td>\n",
       "      <td>SpatialDE</td>\n",
       "      <td>331.892123</td>\n",
       "      <td>10000</td>\n",
       "      <td>1.0</td>\n",
       "      <td>3.318921e+02</td>\n",
       "    </tr>\n",
       "    <tr>\n",
       "      <th>2000/sim_stan_time.csv</th>\n",
       "      <td>2000</td>\n",
       "      <td>Stan</td>\n",
       "      <td>15683.031597</td>\n",
       "      <td>100</td>\n",
       "      <td>100.0</td>\n",
       "      <td>1.568303e+06</td>\n",
       "    </tr>\n",
       "    <tr>\n",
       "      <th>250/sim_spatialde_time.csv</th>\n",
       "      <td>250</td>\n",
       "      <td>SpatialDE</td>\n",
       "      <td>87.384402</td>\n",
       "      <td>10000</td>\n",
       "      <td>1.0</td>\n",
       "      <td>8.738440e+01</td>\n",
       "    </tr>\n",
       "    <tr>\n",
       "      <th>250/sim_stan_time.csv</th>\n",
       "      <td>250</td>\n",
       "      <td>Stan</td>\n",
       "      <td>48.649344</td>\n",
       "      <td>100</td>\n",
       "      <td>100.0</td>\n",
       "      <td>4.864934e+03</td>\n",
       "    </tr>\n",
       "    <tr>\n",
       "      <th>500/sim_spatialde_time.csv</th>\n",
       "      <td>500</td>\n",
       "      <td>SpatialDE</td>\n",
       "      <td>100.776454</td>\n",
       "      <td>10000</td>\n",
       "      <td>1.0</td>\n",
       "      <td>1.007765e+02</td>\n",
       "    </tr>\n",
       "    <tr>\n",
       "      <th>500/sim_stan_time.csv</th>\n",
       "      <td>500</td>\n",
       "      <td>Stan</td>\n",
       "      <td>277.180977</td>\n",
       "      <td>100</td>\n",
       "      <td>100.0</td>\n",
       "      <td>2.771810e+04</td>\n",
       "    </tr>\n",
       "  </tbody>\n",
       "</table>\n",
       "</div>"
      ],
      "text/plain": [
       "                            samples     method          time  genes  \\\n",
       "100/sim_spatialde_time.csv      100  SpatialDE     80.285671  10000   \n",
       "100/sim_stan_time.csv           100       Stan      5.049000    100   \n",
       "1000/sim_spatialde_time.csv    1000  SpatialDE    152.574598  10000   \n",
       "1000/sim_stan_time.csv         1000       Stan   1865.586554    100   \n",
       "2000/sim_spatialde_time.csv    2000  SpatialDE    331.892123  10000   \n",
       "2000/sim_stan_time.csv         2000       Stan  15683.031597    100   \n",
       "250/sim_spatialde_time.csv      250  SpatialDE     87.384402  10000   \n",
       "250/sim_stan_time.csv           250       Stan     48.649344    100   \n",
       "500/sim_spatialde_time.csv      500  SpatialDE    100.776454  10000   \n",
       "500/sim_stan_time.csv           500       Stan    277.180977    100   \n",
       "\n",
       "                             multiplier  corrected_time  \n",
       "100/sim_spatialde_time.csv          1.0    8.028567e+01  \n",
       "100/sim_stan_time.csv             100.0    5.049000e+02  \n",
       "1000/sim_spatialde_time.csv         1.0    1.525746e+02  \n",
       "1000/sim_stan_time.csv            100.0    1.865587e+05  \n",
       "2000/sim_spatialde_time.csv         1.0    3.318921e+02  \n",
       "2000/sim_stan_time.csv            100.0    1.568303e+06  \n",
       "250/sim_spatialde_time.csv          1.0    8.738440e+01  \n",
       "250/sim_stan_time.csv             100.0    4.864934e+03  \n",
       "500/sim_spatialde_time.csv          1.0    1.007765e+02  \n",
       "500/sim_stan_time.csv             100.0    2.771810e+04  "
      ]
     },
     "execution_count": 152,
     "metadata": {},
     "output_type": "execute_result"
    }
   ],
   "source": [
    "df"
   ]
  },
  {
   "cell_type": "code",
   "execution_count": 199,
   "metadata": {
    "scrolled": false
   },
   "outputs": [
    {
     "data": {
      "image/png": "[encoded data removed]",
      "text/plain": [
       "<matplotlib.figure.Figure at 0x10d0a5780>"
      ]
     },
     "metadata": {},
     "output_type": "display_data"
    }
   ],
   "source": [
    "figsize(6, 4)\n",
    "\n",
    "plt.yscale('log')\n",
    "plt.xscale('log')\n",
    "colors = {'SpatialDE': 'tab:red', 'Stan': 'tab:grey'}\n",
    "for method, g in df.groupby('method'):\n",
    "    g = g.sort_values('time')\n",
    "    plt.plot(g.samples, g.corrected_time / 60, lw=6, color='w', label='')\n",
    "    plt.plot(g.samples, g.corrected_time / 60,\n",
    "             marker='.', label=method, lw=3, ms=16, color=colors[method]);\n",
    "    \n",
    "plt.legend(numpoints=2, bbox_to_anchor=(1, 1), frameon=False);\n",
    "\n",
    "plt.axhline(10, lw=1, c='k', zorder=0, ls='--');\n",
    "# plt.annotate('10 min', (-300, 10 / 1.4), va='top')\n",
    "plt.annotate('10 min', (54, 10 * 1.1), va='bottom')\n",
    "plt.axhline(60, lw=1, c='k', zorder=0, ls='--');\n",
    "# plt.annotate('1 hour', (-300, 60 / 1.4), va='top')\n",
    "plt.annotate('1 hour', (54, 60 * 1.1), va='bottom')\n",
    "plt.axhline(60 * 24, lw=1, c='k', zorder=0, ls='--');\n",
    "# plt.annotate('1 day', (-300, 60 * 24 / 1.4), va='top')\n",
    "plt.annotate('1 day', (54, 24 * 60 * 1.1), va='bottom')\n",
    "plt.axhline(60 * 24 * 7, lw=1, c='k', zorder=0, ls='--');\n",
    "# plt.annotate('1 week', (-300, 60 * 24 * 7  / 1.4), va='top')\n",
    "plt.annotate('1 week', (54, 7 * 24 * 60 * 1.1), va='bottom')\n",
    "\n",
    "plt.xlabel('Number of samples');\n",
    "plt.ylabel('Running time (minutes)');\n",
    "\n",
    "# plt.xlim(-400, 2100);\n",
    "plt.xlim(50, 3000);\n",
    "plt.xticks([100, 250, 500, 1000, 2000], [100, 250, 500, 1000, 2000]);\n",
    "plt.title('Running time (10,000 genes)');\n",
    "\n",
    "plt.savefig('performance.pdf', bbox_inches='tight')"
   ]
  },
  {
   "cell_type": "code",
   "execution_count": 200,
   "metadata": {
    "collapsed": true
   },
   "outputs": [],
   "source": [
    "df.to_csv('performance.csv')"
   ]
  },
  {
   "cell_type": "code",
   "execution_count": null,
   "metadata": {
    "collapsed": true
   },
   "outputs": [],
   "source": []
  },
  {
   "cell_type": "code",
   "execution_count": null,
   "metadata": {
    "collapsed": true
   },
   "outputs": [],
   "source": []
  },
  {
   "cell_type": "code",
   "execution_count": null,
   "metadata": {
    "collapsed": true
   },
   "outputs": [],
   "source": []
  },
  {
   "cell_type": "code",
   "execution_count": null,
   "metadata": {
    "collapsed": true
   },
   "outputs": [],
   "source": []
  }
 ],
 "metadata": {
  "kernelspec": {
   "display_name": "Python 3",
   "language": "python",
   "name": "python3"
  },
  "language_info": {
   "codemirror_mode": {
    "name": "ipython",
    "version": 3
   },
   "file_extension": ".py",
   "mimetype": "text/x-python",
   "name": "python",
   "nbconvert_exporter": "python",
   "pygments_lexer": "ipython3",
   "version": "3.6.0"
  }
 },
 "nbformat": 4,
 "nbformat_minor": 2
}
