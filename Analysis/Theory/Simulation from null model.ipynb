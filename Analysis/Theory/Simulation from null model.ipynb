{
 "cells": [
  {
   "cell_type": "code",
   "execution_count": 1,
   "metadata": {},
   "outputs": [
    {
     "name": "stdout",
     "output_type": "stream",
     "text": [
      "Populating the interactive namespace from numpy and matplotlib\n"
     ]
    },
    {
     "data": {
      "image/png": "[encoded data removed]",
      "text/plain": [
       "<matplotlib.figure.Figure at 0x113979a90>"
      ]
     },
     "metadata": {},
     "output_type": "display_data"
    }
   ],
   "source": [
    "%pylab inline\n",
    "import pandas as pd\n",
    "\n",
    "rcParams['axes.spines.right'] = False\n",
    "rcParams['axes.spines.top'] = False\n",
    "\n",
    "results = pd.read_csv('../MouseOB/MOB_final_results.csv', index_col=0)\n",
    "ms_results = pd.read_csv('../MouseOB/MOB_MS_results.csv', index_col=0)\n",
    "sample_info = pd.read_csv('../MouseOB/MOB_sample_info.csv', index_col=0)\n",
    "\n",
    "df = pd.read_csv('../MouseOB/data/Rep11_MOB_0.csv', index_col=0)\n",
    "df = df.T[df.sum(0) >= 3].T  # Filter practically unobserved genes\n",
    "sample_info = sample_info.query('total_counts > 10')  # Remove empty features\n",
    "df = df.loc[sample_info.index]\n",
    "dfm = np.log10(df + 1)\n",
    "\n",
    "plt.scatter(sample_info.x, sample_info.y);"
   ]
  },
  {
   "cell_type": "code",
   "execution_count": 7,
   "metadata": {
    "collapsed": true
   },
   "outputs": [],
   "source": [
    "X = sample_info[['x', 'y']]"
   ]
  },
  {
   "cell_type": "code",
   "execution_count": 17,
   "metadata": {
    "collapsed": true
   },
   "outputs": [],
   "source": [
    "import SpatialDE\n",
    "from scipy import stats"
   ]
  },
  {
   "cell_type": "code",
   "execution_count": 12,
   "metadata": {},
   "outputs": [],
   "source": [
    "sim_expr = stats.norm.rvs(loc=0., scale=1., size=(X.shape[0], 1500))"
   ]
  },
  {
   "cell_type": "code",
   "execution_count": 13,
   "metadata": {},
   "outputs": [
    {
     "data": {
      "text/plain": [
       "(260, 1500)"
      ]
     },
     "execution_count": 13,
     "metadata": {},
     "output_type": "execute_result"
    }
   ],
   "source": [
    "sim_expr.shape"
   ]
  },
  {
   "cell_type": "code",
   "execution_count": 20,
   "metadata": {},
   "outputs": [],
   "source": [
    "sim_expr = pd.DataFrame.from_records(sim_expr)"
   ]
  },
  {
   "cell_type": "code",
   "execution_count": 21,
   "metadata": {},
   "outputs": [
    {
     "name": "stderr",
     "output_type": "stream",
     "text": [
      "INFO:root:Performing DE test\n",
      "INFO:root:Pre-calculating USU^T = K's ...\n",
      "INFO:root:Done: 0.11s\n",
      "INFO:root:Fitting gene models\n",
      "INFO:root:Model 1 of 10\n",
      "INFO:root:Model 2 of 10                             \n",
      "INFO:root:Model 3 of 10                             \n",
      "INFO:root:Model 4 of 10                             \n",
      "INFO:root:Model 5 of 10                             \n",
      "INFO:root:Model 6 of 10                             \n",
      "INFO:root:Model 7 of 10                             \n",
      "INFO:root:Model 8 of 10                             \n",
      "INFO:root:Model 9 of 10                             \n",
      "INFO:root:Model 10 of 10                            \n",
      "                                                    \r"
     ]
    }
   ],
   "source": [
    "results = SpatialDE.run(X, sim_expr)\n",
    "results.loc[results.pval < 1e-16, 'pval'] = 1e-16"
   ]
  },
  {
   "cell_type": "code",
   "execution_count": 40,
   "metadata": {
    "scrolled": false
   },
   "outputs": [
    {
     "name": "stdout",
     "output_type": "stream",
     "text": [
      "0.01 0.0\n",
      "0.016681005372 0.0\n",
      "0.0278255940221 0.0006666666666666666\n",
      "0.0464158883361 0.0013333333333333333\n",
      "0.0774263682681 0.004666666666666667\n",
      "0.129154966501 0.02\n",
      "0.215443469003 0.05466666666666667\n",
      "0.35938136638 0.13866666666666666\n",
      "0.599484250319 0.29733333333333334\n",
      "1.0 1.0\n"
     ]
    }
   ],
   "source": [
    "tt = np.logspace(-2, 0, 10)\n",
    "pp = []\n",
    "for i in tt:\n",
    "    pp.append(results.query('pval < @i').shape[0])\n",
    "    print(i, pp[-1] / 1500)"
   ]
  },
  {
   "cell_type": "code",
   "execution_count": 43,
   "metadata": {
    "collapsed": true
   },
   "outputs": [],
   "source": [
    "pp = np.array(pp)"
   ]
  },
  {
   "cell_type": "code",
   "execution_count": 72,
   "metadata": {},
   "outputs": [
    {
     "data": {
      "image/png": "[encoded data removed]",
      "text/plain": [
       "<matplotlib.figure.Figure at 0x118593208>"
      ]
     },
     "metadata": {},
     "output_type": "display_data"
    }
   ],
   "source": [
    "figsize(7, 3)\n",
    "\n",
    "plt.bar(np.arange(10), pp / 1500, fc='k')\n",
    "plt.xticks(np.arange(10), ['< {:0.1}'.format(i) for i in tt]);\n",
    "plt.xlabel('P-value threshold')\n",
    "plt.ylabel('Fraction genes');\n",
    "plt.axhline(0.05, c='r', ls='--', lw=1, label='5% FDR')\n",
    "plt.legend();\n",
    "\n",
    "plt.tight_layout()\n",
    "plt.savefig('null_model_simulation.pdf', bbox_inches='tight')"
   ]
  },
  {
   "cell_type": "code",
   "execution_count": null,
   "metadata": {
    "collapsed": true
   },
   "outputs": [],
   "source": []
  }
 ],
 "metadata": {
  "kernelspec": {
   "display_name": "Python 3",
   "language": "python",
   "name": "python3"
  },
  "language_info": {
   "codemirror_mode": {
    "name": "ipython",
    "version": 3
   },
   "file_extension": ".py",
   "mimetype": "text/x-python",
   "name": "python",
   "nbconvert_exporter": "python",
   "pygments_lexer": "ipython3",
   "version": "3.6.0"
  }
 },
 "nbformat": 4,
 "nbformat_minor": 2
}
