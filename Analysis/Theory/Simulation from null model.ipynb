{
 "cells": [
  {
   "cell_type": "code",
   "execution_count": 1,
   "metadata": {},
   "outputs": [
    {
     "name": "stdout",
     "output_type": "stream",
     "text": [
      "Populating the interactive namespace from numpy and matplotlib\n"
     ]
    },
    {
     "data": {
      "image/png": "[encoded data removed]",
      "text/plain": [
       "<Figure size 432x288 with 1 Axes>"
      ]
     },
     "metadata": {},
     "output_type": "display_data"
    }
   ],
   "source": [
    "%pylab inline\n",
    "import pandas as pd\n",
    "\n",
    "rcParams['axes.spines.right'] = False\n",
    "rcParams['axes.spines.top'] = False\n",
    "\n",
    "results = pd.read_csv('../MouseOB/MOB_final_results.csv', index_col=0)\n",
    "ms_results = pd.read_csv('../MouseOB/MOB_MS_results.csv', index_col=0)\n",
    "sample_info = pd.read_csv('../MouseOB/MOB_sample_info.csv', index_col=0)\n",
    "\n",
    "df = pd.read_csv('../MouseOB/data/Rep11_MOB_0.csv', index_col=0)\n",
    "df = df.T[df.sum(0) >= 3].T  # Filter practically unobserved genes\n",
    "sample_info = sample_info.query('total_counts > 10')  # Remove empty features\n",
    "df = df.loc[sample_info.index]\n",
    "dfm = np.log10(df + 1)\n",
    "\n",
    "plt.scatter(sample_info.x, sample_info.y);"
   ]
  },
  {
   "cell_type": "code",
   "execution_count": 2,
   "metadata": {},
   "outputs": [],
   "source": [
    "X = sample_info[['x', 'y']]"
   ]
  },
  {
   "cell_type": "code",
   "execution_count": 3,
   "metadata": {},
   "outputs": [],
   "source": [
    "import SpatialDE\n",
    "from scipy import stats"
   ]
  },
  {
   "cell_type": "code",
   "execution_count": 4,
   "metadata": {},
   "outputs": [],
   "source": [
    "sim_expr = stats.norm.rvs(loc=0., scale=1., size=(X.shape[0], 3000))"
   ]
  },
  {
   "cell_type": "code",
   "execution_count": 5,
   "metadata": {},
   "outputs": [
    {
     "data": {
      "text/plain": [
       "(260, 3000)"
      ]
     },
     "execution_count": 5,
     "metadata": {},
     "output_type": "execute_result"
    }
   ],
   "source": [
    "sim_expr.shape"
   ]
  },
  {
   "cell_type": "code",
   "execution_count": 6,
   "metadata": {},
   "outputs": [],
   "source": [
    "sim_expr = pd.DataFrame.from_records(sim_expr)"
   ]
  },
  {
   "cell_type": "code",
   "execution_count": 7,
   "metadata": {},
   "outputs": [
    {
     "name": "stderr",
     "output_type": "stream",
     "text": [
      "INFO:root:Performing DE test\n",
      "INFO:root:Pre-calculating USU^T = K's ...\n",
      "INFO:root:Done: 0.085s\n",
      "INFO:root:Fitting gene models\n",
      "INFO:root:Model 1 of 10\n",
      " 57%|█████▋    | 1717/3000 [00:01<00:01, 1140.92it/s]/Users/vale/Documents/Research/SpatialDE/Python-module/SpatialDE/base.py:175: RuntimeWarning: divide by zero encountered in double_scalars\n",
      "  s2_logdelta = 1. / (derivative(LL_obj, np.log(max_delta), n=2) ** 2)\n",
      "INFO:root:Model 2 of 10                              \n",
      "INFO:root:Model 3 of 10                             \n",
      "INFO:root:Model 4 of 10                             \n",
      "INFO:root:Model 5 of 10                             \n",
      "INFO:root:Model 6 of 10                             \n",
      "INFO:root:Model 7 of 10                             \n",
      "INFO:root:Model 8 of 10                             \n",
      "INFO:root:Model 9 of 10                             \n",
      "INFO:root:Model 10 of 10                            \n",
      "                                                    \r"
     ]
    }
   ],
   "source": [
    "results = SpatialDE.run(X, sim_expr)\n",
    "results.loc[results.pval < 1e-16, 'pval'] = 1e-16"
   ]
  },
  {
   "cell_type": "code",
   "execution_count": 8,
   "metadata": {
    "scrolled": false
   },
   "outputs": [
    {
     "name": "stdout",
     "output_type": "stream",
     "text": [
      "0.01 0.0006666666666666666\n",
      "0.016681005372000592 0.0006666666666666666\n",
      "0.027825594022071243 0.0006666666666666666\n",
      "0.046415888336127774 0.006666666666666667\n",
      "0.0774263682681127 0.020666666666666667\n",
      "0.1291549665014884 0.05\n",
      "0.21544346900318834 0.11866666666666667\n",
      "0.3593813663804626 0.298\n",
      "0.5994842503189409 0.6453333333333333\n",
      "1.0 2.0\n"
     ]
    }
   ],
   "source": [
    "tt = np.logspace(-2, 0, 10)\n",
    "pp = []\n",
    "for i in tt:\n",
    "    pp.append(results.query('pval < @i').shape[0])\n",
    "    print(i, pp[-1] / 1500)"
   ]
  },
  {
   "cell_type": "code",
   "execution_count": 9,
   "metadata": {},
   "outputs": [],
   "source": [
    "pp = np.array(pp)"
   ]
  },
  {
   "cell_type": "code",
   "execution_count": 10,
   "metadata": {},
   "outputs": [
    {
     "name": "stderr",
     "output_type": "stream",
     "text": [
      "DEBUG:matplotlib.backends.backend_pdf:Assigning font /b'F1' = '/anaconda3/lib/python3.6/site-packages/matplotlib/mpl-data/fonts/ttf/DejaVuSans.ttf'\n",
      "DEBUG:matplotlib.backends.backend_pdf:Embedding font /anaconda3/lib/python3.6/site-packages/matplotlib/mpl-data/fonts/ttf/DejaVuSans.ttf.\n",
      "DEBUG:matplotlib.backends.backend_pdf:Writing TrueType font.\n",
      "DEBUG:matplotlib.backends.backend_pdf:Assigning font /b'F1' = '/anaconda3/lib/python3.6/site-packages/matplotlib/mpl-data/fonts/ttf/DejaVuSans.ttf'\n",
      "DEBUG:matplotlib.backends.backend_pdf:Embedding font /anaconda3/lib/python3.6/site-packages/matplotlib/mpl-data/fonts/ttf/DejaVuSans.ttf.\n",
      "DEBUG:matplotlib.backends.backend_pdf:Writing TrueType font.\n"
     ]
    },
    {
     "data": {
      "image/png": "[encoded data removed]",
      "text/plain": [
       "<Figure size 504x216 with 1 Axes>"
      ]
     },
     "metadata": {},
     "output_type": "display_data"
    }
   ],
   "source": [
    "figsize(7, 3)\n",
    "\n",
    "plt.bar(np.arange(10), pp / 3000, fc='k')\n",
    "plt.xticks(np.arange(10), ['< {:0.1}'.format(i) for i in tt]);\n",
    "plt.xlabel('P-value threshold')\n",
    "plt.ylabel('Fraction genes');\n",
    "plt.axhline(0.05, c='r', ls='--', lw=1, label='5% FDR')\n",
    "plt.legend();\n",
    "\n",
    "plt.tight_layout()\n",
    "plt.savefig('null_model_simulation.pdf', bbox_inches='tight')"
   ]
  },
  {
   "cell_type": "code",
   "execution_count": null,
   "metadata": {},
   "outputs": [],
   "source": []
  },
  {
   "cell_type": "code",
   "execution_count": 14,
   "metadata": {},
   "outputs": [
    {
     "data": {
      "text/plain": [
       "(0.0, 100)"
      ]
     },
     "execution_count": 14,
     "metadata": {},
     "output_type": "execute_result"
    },
    {
     "data": {
      "image/png": "[encoded data removed]",
      "text/plain": [
       "<Figure size 432x144 with 1 Axes>"
      ]
     },
     "metadata": {},
     "output_type": "display_data"
    }
   ],
   "source": [
    "figsize(6, 2)\n",
    "plt.hist(results.pval, bins=100, color='w', ec='k');\n",
    "plt.title('P-Value Histogram - (Null model)')\n",
    "plt.ylabel('# Genes')\n",
    "plt.xlabel('P-value');\n",
    "plt.ylim(ymax=100)"
   ]
  },
  {
   "cell_type": "code",
   "execution_count": 21,
   "metadata": {},
   "outputs": [
    {
     "data": {
      "text/plain": [
       "False    1627\n",
       "True     1373\n",
       "Name: pval, dtype: int64"
      ]
     },
     "execution_count": 21,
     "metadata": {},
     "output_type": "execute_result"
    }
   ],
   "source": [
    "(results.pval > 0.94).value_counts()"
   ]
  },
  {
   "cell_type": "code",
   "execution_count": null,
   "metadata": {},
   "outputs": [],
   "source": []
  },
  {
   "cell_type": "code",
   "execution_count": null,
   "metadata": {},
   "outputs": [],
   "source": []
  }
 ],
 "metadata": {
  "kernelspec": {
   "display_name": "Python 3",
   "language": "python",
   "name": "python3"
  },
  "language_info": {
   "codemirror_mode": {
    "name": "ipython",
    "version": 3
   },
   "file_extension": ".py",
   "mimetype": "text/x-python",
   "name": "python",
   "nbconvert_exporter": "python",
   "pygments_lexer": "ipython3",
   "version": "3.6.3"
  }
 },
 "nbformat": 4,
 "nbformat_minor": 2
}
