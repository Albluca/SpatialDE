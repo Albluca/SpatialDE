{
 "cells": [
  {
   "cell_type": "code",
   "execution_count": 1,
   "metadata": {
    "collapsed": false
   },
   "outputs": [
    {
     "name": "stdout",
     "output_type": "stream",
     "text": [
      "Populating the interactive namespace from numpy and matplotlib\n"
     ]
    }
   ],
   "source": [
    "%pylab inline\n",
    "import pandas as pd"
   ]
  },
  {
   "cell_type": "code",
   "execution_count": 11,
   "metadata": {
    "collapsed": false
   },
   "outputs": [],
   "source": [
    "mll_results = pd.read_csv('../Spatial/MOB_final_results.csv', index_col=0)"
   ]
  },
  {
   "cell_type": "code",
   "execution_count": null,
   "metadata": {
    "collapsed": false
   },
   "outputs": [],
   "source": []
  },
  {
   "cell_type": "code",
   "execution_count": 2,
   "metadata": {
    "collapsed": true
   },
   "outputs": [],
   "source": [
    "import SpatialDE as sde"
   ]
  },
  {
   "cell_type": "code",
   "execution_count": 3,
   "metadata": {
    "collapsed": true
   },
   "outputs": [],
   "source": [
    "null_model_samples = 10000"
   ]
  },
  {
   "cell_type": "code",
   "execution_count": 18,
   "metadata": {
    "collapsed": true
   },
   "outputs": [],
   "source": [
    "sim_null_exp_tab = sde.base.simulate_const_model(mll_results.sample(null_model_samples), mll_results.loc[0, 'n'])"
   ]
  },
  {
   "cell_type": "code",
   "execution_count": 22,
   "metadata": {
    "collapsed": false
   },
   "outputs": [],
   "source": [
    "sample_info = pd.read_csv('../Spatial/MOB_sample_info.csv', index_col=0)"
   ]
  },
  {
   "cell_type": "code",
   "execution_count": 23,
   "metadata": {
    "collapsed": false
   },
   "outputs": [
    {
     "data": {
      "text/html": [
       "<div>\n",
       "<table border=\"1\" class=\"dataframe\">\n",
       "  <thead>\n",
       "    <tr style=\"text-align: right;\">\n",
       "      <th></th>\n",
       "      <th>x</th>\n",
       "      <th>y</th>\n",
       "    </tr>\n",
       "  </thead>\n",
       "  <tbody>\n",
       "    <tr>\n",
       "      <th>16.92x9.015</th>\n",
       "      <td>16.920</td>\n",
       "      <td>9.015</td>\n",
       "    </tr>\n",
       "    <tr>\n",
       "      <th>16.945x11.075</th>\n",
       "      <td>16.945</td>\n",
       "      <td>11.075</td>\n",
       "    </tr>\n",
       "    <tr>\n",
       "      <th>16.97x10.118</th>\n",
       "      <td>16.970</td>\n",
       "      <td>10.118</td>\n",
       "    </tr>\n",
       "    <tr>\n",
       "      <th>16.939x12.132</th>\n",
       "      <td>16.939</td>\n",
       "      <td>12.132</td>\n",
       "    </tr>\n",
       "    <tr>\n",
       "      <th>16.949x13.055</th>\n",
       "      <td>16.949</td>\n",
       "      <td>13.055</td>\n",
       "    </tr>\n",
       "    <tr>\n",
       "      <th>16.942x15.088</th>\n",
       "      <td>16.942</td>\n",
       "      <td>15.088</td>\n",
       "    </tr>\n",
       "    <tr>\n",
       "      <th>16.941x17.065</th>\n",
       "      <td>16.941</td>\n",
       "      <td>17.065</td>\n",
       "    </tr>\n",
       "    <tr>\n",
       "      <th>16.919x16.055</th>\n",
       "      <td>16.919</td>\n",
       "      <td>16.055</td>\n",
       "    </tr>\n",
       "    <tr>\n",
       "      <th>9.862x9.024</th>\n",
       "      <td>9.862</td>\n",
       "      <td>9.024</td>\n",
       "    </tr>\n",
       "    <tr>\n",
       "      <th>12.08x9.115</th>\n",
       "      <td>12.080</td>\n",
       "      <td>9.115</td>\n",
       "    </tr>\n",
       "    <tr>\n",
       "      <th>10.802x9.131</th>\n",
       "      <td>10.802</td>\n",
       "      <td>9.131</td>\n",
       "    </tr>\n",
       "    <tr>\n",
       "      <th>13.979x9.1</th>\n",
       "      <td>13.979</td>\n",
       "      <td>9.100</td>\n",
       "    </tr>\n",
       "    <tr>\n",
       "      <th>15.008x9.051</th>\n",
       "      <td>15.008</td>\n",
       "      <td>9.051</td>\n",
       "    </tr>\n",
       "    <tr>\n",
       "      <th>15.949x9.027</th>\n",
       "      <td>15.949</td>\n",
       "      <td>9.027</td>\n",
       "    </tr>\n",
       "    <tr>\n",
       "      <th>15.944x10.075</th>\n",
       "      <td>15.944</td>\n",
       "      <td>10.075</td>\n",
       "    </tr>\n",
       "    <tr>\n",
       "      <th>15.002x11.082</th>\n",
       "      <td>15.002</td>\n",
       "      <td>11.082</td>\n",
       "    </tr>\n",
       "    <tr>\n",
       "      <th>15.004x10.067</th>\n",
       "      <td>15.004</td>\n",
       "      <td>10.067</td>\n",
       "    </tr>\n",
       "    <tr>\n",
       "      <th>15.968x11.107</th>\n",
       "      <td>15.968</td>\n",
       "      <td>11.107</td>\n",
       "    </tr>\n",
       "    <tr>\n",
       "      <th>13.095x11.07</th>\n",
       "      <td>13.095</td>\n",
       "      <td>11.070</td>\n",
       "    </tr>\n",
       "    <tr>\n",
       "      <th>13.98x11.112</th>\n",
       "      <td>13.980</td>\n",
       "      <td>11.112</td>\n",
       "    </tr>\n",
       "    <tr>\n",
       "      <th>13.044x10.102</th>\n",
       "      <td>13.044</td>\n",
       "      <td>10.102</td>\n",
       "    </tr>\n",
       "    <tr>\n",
       "      <th>14.012x10.11</th>\n",
       "      <td>14.012</td>\n",
       "      <td>10.110</td>\n",
       "    </tr>\n",
       "    <tr>\n",
       "      <th>14.025x13.091</th>\n",
       "      <td>14.025</td>\n",
       "      <td>13.091</td>\n",
       "    </tr>\n",
       "    <tr>\n",
       "      <th>13.03x12.084</th>\n",
       "      <td>13.030</td>\n",
       "      <td>12.084</td>\n",
       "    </tr>\n",
       "    <tr>\n",
       "      <th>13.071x13.097</th>\n",
       "      <td>13.071</td>\n",
       "      <td>13.097</td>\n",
       "    </tr>\n",
       "    <tr>\n",
       "      <th>14.011x12.095</th>\n",
       "      <td>14.011</td>\n",
       "      <td>12.095</td>\n",
       "    </tr>\n",
       "    <tr>\n",
       "      <th>15.941x12.112</th>\n",
       "      <td>15.941</td>\n",
       "      <td>12.112</td>\n",
       "    </tr>\n",
       "    <tr>\n",
       "      <th>15.041x12.084</th>\n",
       "      <td>15.041</td>\n",
       "      <td>12.084</td>\n",
       "    </tr>\n",
       "    <tr>\n",
       "      <th>15.044x13.062</th>\n",
       "      <td>15.044</td>\n",
       "      <td>13.062</td>\n",
       "    </tr>\n",
       "    <tr>\n",
       "      <th>15.919x13.049</th>\n",
       "      <td>15.919</td>\n",
       "      <td>13.049</td>\n",
       "    </tr>\n",
       "    <tr>\n",
       "      <th>...</th>\n",
       "      <td>...</td>\n",
       "      <td>...</td>\n",
       "    </tr>\n",
       "    <tr>\n",
       "      <th>28.04x17.062</th>\n",
       "      <td>28.040</td>\n",
       "      <td>17.062</td>\n",
       "    </tr>\n",
       "    <tr>\n",
       "      <th>27.018x16.042</th>\n",
       "      <td>27.018</td>\n",
       "      <td>16.042</td>\n",
       "    </tr>\n",
       "    <tr>\n",
       "      <th>28.004x16.037</th>\n",
       "      <td>28.004</td>\n",
       "      <td>16.037</td>\n",
       "    </tr>\n",
       "    <tr>\n",
       "      <th>28.016x19.075</th>\n",
       "      <td>28.016</td>\n",
       "      <td>19.075</td>\n",
       "    </tr>\n",
       "    <tr>\n",
       "      <th>27.041x19.066</th>\n",
       "      <td>27.041</td>\n",
       "      <td>19.066</td>\n",
       "    </tr>\n",
       "    <tr>\n",
       "      <th>26.99x18.059</th>\n",
       "      <td>26.990</td>\n",
       "      <td>18.059</td>\n",
       "    </tr>\n",
       "    <tr>\n",
       "      <th>28.047x18.055</th>\n",
       "      <td>28.047</td>\n",
       "      <td>18.055</td>\n",
       "    </tr>\n",
       "    <tr>\n",
       "      <th>26.108x22.063</th>\n",
       "      <td>26.108</td>\n",
       "      <td>22.063</td>\n",
       "    </tr>\n",
       "    <tr>\n",
       "      <th>25.084x22.07</th>\n",
       "      <td>25.084</td>\n",
       "      <td>22.070</td>\n",
       "    </tr>\n",
       "    <tr>\n",
       "      <th>26.147x22.981</th>\n",
       "      <td>26.147</td>\n",
       "      <td>22.981</td>\n",
       "    </tr>\n",
       "    <tr>\n",
       "      <th>25.146x22.992</th>\n",
       "      <td>25.146</td>\n",
       "      <td>22.992</td>\n",
       "    </tr>\n",
       "    <tr>\n",
       "      <th>21.931x22.121</th>\n",
       "      <td>21.931</td>\n",
       "      <td>22.121</td>\n",
       "    </tr>\n",
       "    <tr>\n",
       "      <th>21.074x22.101</th>\n",
       "      <td>21.074</td>\n",
       "      <td>22.101</td>\n",
       "    </tr>\n",
       "    <tr>\n",
       "      <th>23.144x22.097</th>\n",
       "      <td>23.144</td>\n",
       "      <td>22.097</td>\n",
       "    </tr>\n",
       "    <tr>\n",
       "      <th>24.114x22.074</th>\n",
       "      <td>24.114</td>\n",
       "      <td>22.074</td>\n",
       "    </tr>\n",
       "    <tr>\n",
       "      <th>19.032x22.087</th>\n",
       "      <td>19.032</td>\n",
       "      <td>22.087</td>\n",
       "    </tr>\n",
       "    <tr>\n",
       "      <th>20.043x22.146</th>\n",
       "      <td>20.043</td>\n",
       "      <td>22.146</td>\n",
       "    </tr>\n",
       "    <tr>\n",
       "      <th>20.038x22.966</th>\n",
       "      <td>20.038</td>\n",
       "      <td>22.966</td>\n",
       "    </tr>\n",
       "    <tr>\n",
       "      <th>19.031x22.942</th>\n",
       "      <td>19.031</td>\n",
       "      <td>22.942</td>\n",
       "    </tr>\n",
       "    <tr>\n",
       "      <th>24.099x23.018</th>\n",
       "      <td>24.099</td>\n",
       "      <td>23.018</td>\n",
       "    </tr>\n",
       "    <tr>\n",
       "      <th>23.137x23.03</th>\n",
       "      <td>23.137</td>\n",
       "      <td>23.030</td>\n",
       "    </tr>\n",
       "    <tr>\n",
       "      <th>21.027x22.938</th>\n",
       "      <td>21.027</td>\n",
       "      <td>22.938</td>\n",
       "    </tr>\n",
       "    <tr>\n",
       "      <th>21.978x23.005</th>\n",
       "      <td>21.978</td>\n",
       "      <td>23.005</td>\n",
       "    </tr>\n",
       "    <tr>\n",
       "      <th>20.089x24.006</th>\n",
       "      <td>20.089</td>\n",
       "      <td>24.006</td>\n",
       "    </tr>\n",
       "    <tr>\n",
       "      <th>24.146x24.011</th>\n",
       "      <td>24.146</td>\n",
       "      <td>24.011</td>\n",
       "    </tr>\n",
       "    <tr>\n",
       "      <th>23.124x24.046</th>\n",
       "      <td>23.124</td>\n",
       "      <td>24.046</td>\n",
       "    </tr>\n",
       "    <tr>\n",
       "      <th>21.01x23.944</th>\n",
       "      <td>21.010</td>\n",
       "      <td>23.944</td>\n",
       "    </tr>\n",
       "    <tr>\n",
       "      <th>22.053x23.962</th>\n",
       "      <td>22.053</td>\n",
       "      <td>23.962</td>\n",
       "    </tr>\n",
       "    <tr>\n",
       "      <th>27.018x20.088</th>\n",
       "      <td>27.018</td>\n",
       "      <td>20.088</td>\n",
       "    </tr>\n",
       "    <tr>\n",
       "      <th>17.964x10.137</th>\n",
       "      <td>17.964</td>\n",
       "      <td>10.137</td>\n",
       "    </tr>\n",
       "  </tbody>\n",
       "</table>\n",
       "<p>262 rows × 2 columns</p>\n",
       "</div>"
      ],
      "text/plain": [
       "                    x       y\n",
       "16.92x9.015    16.920   9.015\n",
       "16.945x11.075  16.945  11.075\n",
       "16.97x10.118   16.970  10.118\n",
       "16.939x12.132  16.939  12.132\n",
       "16.949x13.055  16.949  13.055\n",
       "16.942x15.088  16.942  15.088\n",
       "16.941x17.065  16.941  17.065\n",
       "16.919x16.055  16.919  16.055\n",
       "9.862x9.024     9.862   9.024\n",
       "12.08x9.115    12.080   9.115\n",
       "10.802x9.131   10.802   9.131\n",
       "13.979x9.1     13.979   9.100\n",
       "15.008x9.051   15.008   9.051\n",
       "15.949x9.027   15.949   9.027\n",
       "15.944x10.075  15.944  10.075\n",
       "15.002x11.082  15.002  11.082\n",
       "15.004x10.067  15.004  10.067\n",
       "15.968x11.107  15.968  11.107\n",
       "13.095x11.07   13.095  11.070\n",
       "13.98x11.112   13.980  11.112\n",
       "13.044x10.102  13.044  10.102\n",
       "14.012x10.11   14.012  10.110\n",
       "14.025x13.091  14.025  13.091\n",
       "13.03x12.084   13.030  12.084\n",
       "13.071x13.097  13.071  13.097\n",
       "14.011x12.095  14.011  12.095\n",
       "15.941x12.112  15.941  12.112\n",
       "15.041x12.084  15.041  12.084\n",
       "15.044x13.062  15.044  13.062\n",
       "15.919x13.049  15.919  13.049\n",
       "...               ...     ...\n",
       "28.04x17.062   28.040  17.062\n",
       "27.018x16.042  27.018  16.042\n",
       "28.004x16.037  28.004  16.037\n",
       "28.016x19.075  28.016  19.075\n",
       "27.041x19.066  27.041  19.066\n",
       "26.99x18.059   26.990  18.059\n",
       "28.047x18.055  28.047  18.055\n",
       "26.108x22.063  26.108  22.063\n",
       "25.084x22.07   25.084  22.070\n",
       "26.147x22.981  26.147  22.981\n",
       "25.146x22.992  25.146  22.992\n",
       "21.931x22.121  21.931  22.121\n",
       "21.074x22.101  21.074  22.101\n",
       "23.144x22.097  23.144  22.097\n",
       "24.114x22.074  24.114  22.074\n",
       "19.032x22.087  19.032  22.087\n",
       "20.043x22.146  20.043  22.146\n",
       "20.038x22.966  20.038  22.966\n",
       "19.031x22.942  19.031  22.942\n",
       "24.099x23.018  24.099  23.018\n",
       "23.137x23.03   23.137  23.030\n",
       "21.027x22.938  21.027  22.938\n",
       "21.978x23.005  21.978  23.005\n",
       "20.089x24.006  20.089  24.006\n",
       "24.146x24.011  24.146  24.011\n",
       "23.124x24.046  23.124  24.046\n",
       "21.01x23.944   21.010  23.944\n",
       "22.053x23.962  22.053  23.962\n",
       "27.018x20.088  27.018  20.088\n",
       "17.964x10.137  17.964  10.137\n",
       "\n",
       "[262 rows x 2 columns]"
      ]
     },
     "execution_count": 23,
     "metadata": {},
     "output_type": "execute_result"
    }
   ],
   "source": [
    "sample_info[['x', 'y']]"
   ]
  },
  {
   "cell_type": "code",
   "execution_count": null,
   "metadata": {
    "collapsed": true
   },
   "outputs": [],
   "source": []
  },
  {
   "cell_type": "code",
   "execution_count": null,
   "metadata": {
    "collapsed": true
   },
   "outputs": [],
   "source": [
    "sde.dyn_de()"
   ]
  },
  {
   "cell_type": "code",
   "execution_count": null,
   "metadata": {
    "collapsed": true
   },
   "outputs": [],
   "source": []
  },
  {
   "cell_type": "code",
   "execution_count": null,
   "metadata": {
    "collapsed": false
   },
   "outputs": [],
   "source": []
  },
  {
   "cell_type": "code",
   "execution_count": 89,
   "metadata": {
    "collapsed": false
   },
   "outputs": [
    {
     "data": {
      "image/png": "[encoded data removed]",
      "text/plain": [
       "<matplotlib.figure.Figure at 0x11cd52f98>"
      ]
     },
     "metadata": {},
     "output_type": "display_data"
    }
   ],
   "source": [
    "final.plot('max_s2_t_hat', 'D', kind='scatter', logx=True, xlim=(1e-6, 1), alpha=.1);"
   ]
  },
  {
   "cell_type": "code",
   "execution_count": 439,
   "metadata": {
    "collapsed": false,
    "scrolled": false
   },
   "outputs": [],
   "source": [
    "null_lls = sim_results.query('model == \"const\"')[['g', 'max_ll']]\n",
    "se_results = sim_results.query('model == \"SE\"')\n",
    "se_results = se_results[se_results.groupby(['g'])['max_ll'].transform(max) == se_results['max_ll']]\n",
    "sim_final = se_results.merge(null_lls, on='g',)\n",
    "sim_final['D'] = sim_final['max_ll_x'] - sim_final['max_ll_y']"
   ]
  },
  {
   "cell_type": "code",
   "execution_count": 440,
   "metadata": {
    "collapsed": false
   },
   "outputs": [
    {
     "data": {
      "image/png": "[encoded data removed]",
      "text/plain": [
       "<matplotlib.figure.Figure at 0x11e465908>"
      ]
     },
     "metadata": {},
     "output_type": "display_data"
    }
   ],
   "source": [
    "sim_final.plot('max_s2_t_hat', 'D', kind='scatter', logx=True, xlim=(1e-6, 1));"
   ]
  },
  {
   "cell_type": "code",
   "execution_count": 441,
   "metadata": {
    "collapsed": false
   },
   "outputs": [
    {
     "data": {
      "text/plain": [
       "(10000, 13)"
      ]
     },
     "execution_count": 441,
     "metadata": {},
     "output_type": "execute_result"
    }
   ],
   "source": [
    "sim_final.shape"
   ]
  },
  {
   "cell_type": "code",
   "execution_count": 442,
   "metadata": {
    "collapsed": false
   },
   "outputs": [
    {
     "data": {
      "text/plain": [
       "(10000, 13)"
      ]
     },
     "execution_count": 442,
     "metadata": {},
     "output_type": "execute_result"
    }
   ],
   "source": [
    "sim_final.shape"
   ]
  },
  {
   "cell_type": "code",
   "execution_count": 443,
   "metadata": {
    "collapsed": false
   },
   "outputs": [
    {
     "data": {
      "text/plain": [
       "(16218, 15)"
      ]
     },
     "execution_count": 443,
     "metadata": {},
     "output_type": "execute_result"
    }
   ],
   "source": [
    "final.shape"
   ]
  },
  {
   "cell_type": "code",
   "execution_count": 444,
   "metadata": {
    "collapsed": false
   },
   "outputs": [
    {
     "data": {
      "image/png": "[encoded data removed]",
      "text/plain": [
       "<matplotlib.figure.Figure at 0x1150f3d68>"
      ]
     },
     "metadata": {},
     "output_type": "display_data"
    }
   ],
   "source": [
    "plt.hist(final.D, bins=100);\n",
    "plt.hist(sim_final.D, bins=100);"
   ]
  },
  {
   "cell_type": "code",
   "execution_count": 445,
   "metadata": {
    "collapsed": false
   },
   "outputs": [
    {
     "data": {
      "text/plain": [
       "g                     9999\n",
       "max_delta          22026.5\n",
       "max_ll_x              1952\n",
       "max_mu_hat         2.30489\n",
       "max_s2_t_hat       4.03274\n",
       "n                      262\n",
       "time            0.00485086\n",
       "l                  20.5562\n",
       "M                        4\n",
       "model                   SE\n",
       "BIC                1109.78\n",
       "max_ll_y           1951.02\n",
       "D                  7.29103\n",
       "dtype: object"
      ]
     },
     "execution_count": 445,
     "metadata": {},
     "output_type": "execute_result"
    }
   ],
   "source": [
    "sim_final.max()"
   ]
  },
  {
   "cell_type": "code",
   "execution_count": 446,
   "metadata": {
    "collapsed": false
   },
   "outputs": [
    {
     "data": {
      "text/plain": [
       "(1993, 15)"
      ]
     },
     "execution_count": 446,
     "metadata": {},
     "output_type": "execute_result"
    }
   ],
   "source": [
    "final.query('D > 8').shape"
   ]
  },
  {
   "cell_type": "code",
   "execution_count": 447,
   "metadata": {
    "collapsed": false
   },
   "outputs": [],
   "source": [
    "tmp = sim_final.D.sort_values().as_matrix()"
   ]
  },
  {
   "cell_type": "code",
   "execution_count": 448,
   "metadata": {
    "collapsed": false
   },
   "outputs": [
    {
     "data": {
      "text/plain": [
       "[<matplotlib.lines.Line2D at 0x11f3cbeb8>]"
      ]
     },
     "execution_count": 448,
     "metadata": {},
     "output_type": "execute_result"
    },
    {
     "data": {
      "image/png": "[encoded data removed]",
      "text/plain": [
       "<matplotlib.figure.Figure at 0x1150f3898>"
      ]
     },
     "metadata": {},
     "output_type": "display_data"
    }
   ],
   "source": [
    "plt.plot(tmp)"
   ]
  },
  {
   "cell_type": "code",
   "execution_count": 449,
   "metadata": {
    "collapsed": false
   },
   "outputs": [
    {
     "data": {
      "text/plain": [
       "[<matplotlib.lines.Line2D at 0x11eaf0198>]"
      ]
     },
     "execution_count": 449,
     "metadata": {},
     "output_type": "execute_result"
    },
    {
     "data": {
      "image/png": "[encoded data removed]",
      "text/plain": [
       "<matplotlib.figure.Figure at 0x11e05ae10>"
      ]
     },
     "metadata": {},
     "output_type": "display_data"
    }
   ],
   "source": [
    "plt.plot(tmp, tmp.cumsum())"
   ]
  },
  {
   "cell_type": "code",
   "execution_count": 450,
   "metadata": {
    "collapsed": false
   },
   "outputs": [
    {
     "data": {
      "text/plain": [
       "[<matplotlib.lines.Line2D at 0x11f0dccc0>]"
      ]
     },
     "execution_count": 450,
     "metadata": {},
     "output_type": "execute_result"
    },
    {
     "data": {
      "image/png": "[encoded data removed]",
      "text/plain": [
       "<matplotlib.figure.Figure at 0x11e088668>"
      ]
     },
     "metadata": {},
     "output_type": "display_data"
    }
   ],
   "source": [
    "tmp = sim_final.D.sort_values(ascending=False).as_matrix()\n",
    "plt.plot(tmp)"
   ]
  },
  {
   "cell_type": "code",
   "execution_count": 451,
   "metadata": {
    "collapsed": true
   },
   "outputs": [],
   "source": [
    "from scipy import stats"
   ]
  },
  {
   "cell_type": "code",
   "execution_count": 453,
   "metadata": {
    "collapsed": false
   },
   "outputs": [
    {
     "data": {
      "text/plain": [
       "(0.35359000155182962, 0.50095663334957397, 0.99251257936153703)"
      ]
     },
     "execution_count": 453,
     "metadata": {},
     "output_type": "execute_result"
    }
   ],
   "source": [
    "par = stats.gamma.fit(sim_final.D)\n",
    "par"
   ]
  },
  {
   "cell_type": "code",
   "execution_count": null,
   "metadata": {
    "collapsed": true
   },
   "outputs": [],
   "source": []
  },
  {
   "cell_type": "code",
   "execution_count": 455,
   "metadata": {
    "collapsed": false
   },
   "outputs": [
    {
     "data": {
      "image/png": "[encoded data removed]",
      "text/plain": [
       "<matplotlib.figure.Figure at 0x1097fe978>"
      ]
     },
     "metadata": {},
     "output_type": "display_data"
    }
   ],
   "source": [
    "ax = plt.gca()\n",
    "stats.probplot(tmp, dist=stats.gamma, sparams=par, plot=ax);"
   ]
  },
  {
   "cell_type": "code",
   "execution_count": 456,
   "metadata": {
    "collapsed": false
   },
   "outputs": [],
   "source": [
    "gamma_rv = stats.gamma(*par)"
   ]
  },
  {
   "cell_type": "code",
   "execution_count": 457,
   "metadata": {
    "collapsed": false
   },
   "outputs": [
    {
     "data": {
      "text/plain": [
       "(0.35359000155182962, 0.50095663334957397, 0.99251257936153703)"
      ]
     },
     "execution_count": 457,
     "metadata": {},
     "output_type": "execute_result"
    }
   ],
   "source": [
    "par"
   ]
  },
  {
   "cell_type": "code",
   "execution_count": 458,
   "metadata": {
    "collapsed": false
   },
   "outputs": [
    {
     "data": {
      "text/plain": [
       "[<matplotlib.lines.Line2D at 0x12886a160>]"
      ]
     },
     "execution_count": 458,
     "metadata": {},
     "output_type": "execute_result"
    },
    {
     "data": {
      "image/png": "[encoded data removed]",
      "text/plain": [
       "<matplotlib.figure.Figure at 0x11a6fbef0>"
      ]
     },
     "metadata": {},
     "output_type": "display_data"
    }
   ],
   "source": [
    "xx = np.linspace(0, 9)\n",
    "plt.plot(xx, gamma_rv.cdf(xx))"
   ]
  },
  {
   "cell_type": "code",
   "execution_count": 459,
   "metadata": {
    "collapsed": false
   },
   "outputs": [
    {
     "data": {
      "text/plain": [
       "0.00011288494246776876"
      ]
     },
     "execution_count": 459,
     "metadata": {},
     "output_type": "execute_result"
    }
   ],
   "source": [
    "gamma_rv.sf(sim_final.D.max())"
   ]
  },
  {
   "cell_type": "code",
   "execution_count": 460,
   "metadata": {
    "collapsed": false
   },
   "outputs": [
    {
     "data": {
      "image/png": "[encoded data removed]",
      "text/plain": [
       "<matplotlib.figure.Figure at 0x12885beb8>"
      ]
     },
     "metadata": {},
     "output_type": "display_data"
    }
   ],
   "source": [
    "xx = np.linspace(0, 50)\n",
    "plt.plot(xx, gamma_rv.sf(xx))\n",
    "plt.yscale('log');"
   ]
  },
  {
   "cell_type": "code",
   "execution_count": 461,
   "metadata": {
    "collapsed": false
   },
   "outputs": [
    {
     "data": {
      "image/png": "[encoded data removed]",
      "text/plain": [
       "<matplotlib.figure.Figure at 0x127dedda0>"
      ]
     },
     "metadata": {},
     "output_type": "display_data"
    }
   ],
   "source": [
    "ax = plt.gca()\n",
    "stats.probplot(final.D, dist=stats.gamma, sparams=par, plot=ax);"
   ]
  },
  {
   "cell_type": "code",
   "execution_count": 462,
   "metadata": {
    "collapsed": false
   },
   "outputs": [
    {
     "data": {
      "image/png": "[encoded data removed]",
      "text/plain": [
       "<matplotlib.figure.Figure at 0x127dc6828>"
      ]
     },
     "metadata": {},
     "output_type": "display_data"
    }
   ],
   "source": [
    "ax = plt.gca()\n",
    "stats.probplot(sim_final.D, dist=stats.gamma, sparams=par, plot=ax);"
   ]
  },
  {
   "cell_type": "code",
   "execution_count": null,
   "metadata": {
    "collapsed": true
   },
   "outputs": [],
   "source": []
  },
  {
   "cell_type": "code",
   "execution_count": 463,
   "metadata": {
    "collapsed": false
   },
   "outputs": [],
   "source": [
    "final['pval'] = gamma_rv.sf(final['D'])"
   ]
  },
  {
   "cell_type": "code",
   "execution_count": 464,
   "metadata": {
    "collapsed": false
   },
   "outputs": [],
   "source": [
    "final['qval'] = final['pval'] * final.shape[0]\n",
    "final['qval'] = final['qval'].map(lambda p: p if p < 1. else 1)"
   ]
  },
  {
   "cell_type": "code",
   "execution_count": null,
   "metadata": {
    "collapsed": false
   },
   "outputs": [],
   "source": []
  },
  {
   "cell_type": "code",
   "execution_count": 465,
   "metadata": {
    "collapsed": false
   },
   "outputs": [
    {
     "data": {
      "image/png": "[encoded data removed]",
      "text/plain": [
       "<matplotlib.figure.Figure at 0x128875cf8>"
      ]
     },
     "metadata": {},
     "output_type": "display_data"
    }
   ],
   "source": [
    "plt.xscale('log')\n",
    "plt.yscale('log');\n",
    "plt.scatter(final.max_s2_t_hat, final.pval, alpha=0.9)\n",
    "plt.xlim(1e-7, 1e1);\n",
    "plt.gca().invert_yaxis();\n",
    "plt.axhline(1e-4, lw=1, ls='--', c='darkgrey');"
   ]
  },
  {
   "cell_type": "code",
   "execution_count": 466,
   "metadata": {
    "collapsed": false
   },
   "outputs": [
    {
     "data": {
      "image/png": "[encoded data removed]",
      "text/plain": [
       "<matplotlib.figure.Figure at 0x127921518>"
      ]
     },
     "metadata": {},
     "output_type": "display_data"
    }
   ],
   "source": [
    "plt.xscale('log')\n",
    "plt.yscale('log');\n",
    "plt.scatter(final.max_s2_t_hat, final.qval, alpha=0.9)\n",
    "plt.xlim(1e-7, 1e1);\n",
    "plt.gca().invert_yaxis();"
   ]
  },
  {
   "cell_type": "code",
   "execution_count": 467,
   "metadata": {
    "collapsed": false
   },
   "outputs": [
    {
     "data": {
      "image/png": "[encoded data removed]",
      "text/plain": [
       "<matplotlib.figure.Figure at 0x11f484c50>"
      ]
     },
     "metadata": {},
     "output_type": "display_data"
    }
   ],
   "source": [
    "plt.xscale('log')\n",
    "plt.yscale('log');\n",
    "plt.scatter(final.l, final.qval, alpha=0.9)\n",
    "plt.gca().invert_yaxis();"
   ]
  },
  {
   "cell_type": "code",
   "execution_count": 469,
   "metadata": {
    "collapsed": false
   },
   "outputs": [
    {
     "data": {
      "image/png": "[encoded data removed]",
      "text/plain": [
       "<matplotlib.figure.Figure at 0x127dcd4a8>"
      ]
     },
     "metadata": {},
     "output_type": "display_data"
    }
   ],
   "source": [
    "plt.xscale('log')\n",
    "plt.yscale('log');\n",
    "plt.scatter(final.l, final.pval, alpha=0.9)\n",
    "plt.gca().invert_yaxis();"
   ]
  },
  {
   "cell_type": "code",
   "execution_count": 468,
   "metadata": {
    "collapsed": false
   },
   "outputs": [
    {
     "data": {
      "text/plain": [
       "(1453, 15)"
      ]
     },
     "execution_count": 468,
     "metadata": {},
     "output_type": "execute_result"
    }
   ],
   "source": [
    "final.query('qval < 0.05').shape"
   ]
  },
  {
   "cell_type": "code",
   "execution_count": null,
   "metadata": {
    "collapsed": true
   },
   "outputs": [],
   "source": []
  },
  {
   "cell_type": "code",
   "execution_count": null,
   "metadata": {
    "collapsed": true
   },
   "outputs": [],
   "source": []
  },
  {
   "cell_type": "code",
   "execution_count": null,
   "metadata": {
    "collapsed": true
   },
   "outputs": [],
   "source": []
  },
  {
   "cell_type": "code",
   "execution_count": null,
   "metadata": {
    "collapsed": true
   },
   "outputs": [],
   "source": []
  },
  {
   "cell_type": "code",
   "execution_count": null,
   "metadata": {
    "collapsed": true
   },
   "outputs": [],
   "source": []
  },
  {
   "cell_type": "code",
   "execution_count": null,
   "metadata": {
    "collapsed": true
   },
   "outputs": [],
   "source": []
  },
  {
   "cell_type": "code",
   "execution_count": 27,
   "metadata": {
    "collapsed": false
   },
   "outputs": [],
   "source": [
    "null_lls = sim_results.query('model == \"const\"')[['g', 'max_ll']]\n",
    "bic_results = sim_results[sim_results.groupby(['g'])['BIC'].transform(min) == sim_results['BIC']]\n",
    "sim_final = bic_results.merge(null_lls, on='g',)\n",
    "sim_final['D'] = sim_final['max_ll_x'] - sim_final['max_ll_y']"
   ]
  },
  {
   "cell_type": "code",
   "execution_count": 29,
   "metadata": {
    "collapsed": false
   },
   "outputs": [
    {
     "data": {
      "text/plain": [
       "const    100\n",
       "Name: model, dtype: int64"
      ]
     },
     "execution_count": 29,
     "metadata": {},
     "output_type": "execute_result"
    }
   ],
   "source": [
    "sim_final.model.value_counts()"
   ]
  },
  {
   "cell_type": "code",
   "execution_count": null,
   "metadata": {
    "collapsed": true
   },
   "outputs": [],
   "source": []
  },
  {
   "cell_type": "code",
   "execution_count": null,
   "metadata": {
    "collapsed": true
   },
   "outputs": [],
   "source": []
  },
  {
   "cell_type": "code",
   "execution_count": 6,
   "metadata": {
    "collapsed": false
   },
   "outputs": [],
   "source": [
    "for i, params in enumerate(tmp.iterrows()):\n",
    "    params = params[1]\n",
    "    pass"
   ]
  },
  {
   "cell_type": "code",
   "execution_count": 7,
   "metadata": {
    "collapsed": false
   },
   "outputs": [
    {
     "data": {
      "text/plain": [
       "(4, g                      Cul1\n",
       " max_delta           1.08905\n",
       " max_ll_x           -64.4554\n",
       " max_mu_hat         0.596974\n",
       " max_s2_t_hat       0.133965\n",
       " n                       262\n",
       " time            0.000527859\n",
       " l                  0.736806\n",
       " M                         4\n",
       " model                    SE\n",
       " BIC                 151.184\n",
       " max_ll_y           -74.1626\n",
       " D                   9.70714\n",
       " Name: 13104, dtype: object)"
      ]
     },
     "execution_count": 7,
     "metadata": {},
     "output_type": "execute_result"
    }
   ],
   "source": [
    "i, params"
   ]
  },
  {
   "cell_type": "code",
   "execution_count": 8,
   "metadata": {
    "collapsed": false
   },
   "outputs": [
    {
     "data": {
      "text/plain": [
       "0.5969740858654413"
      ]
     },
     "execution_count": 8,
     "metadata": {},
     "output_type": "execute_result"
    }
   ],
   "source": [
    "params.max_mu_hat"
   ]
  },
  {
   "cell_type": "code",
   "execution_count": null,
   "metadata": {
    "collapsed": true
   },
   "outputs": [],
   "source": []
  },
  {
   "cell_type": "code",
   "execution_count": null,
   "metadata": {
    "collapsed": true
   },
   "outputs": [],
   "source": []
  },
  {
   "cell_type": "code",
   "execution_count": 474,
   "metadata": {
    "collapsed": false
   },
   "outputs": [],
   "source": [
    "N = 262\n",
    "O = np.ones(N)\n",
    "I = np.eye(N)"
   ]
  },
  {
   "cell_type": "code",
   "execution_count": 475,
   "metadata": {
    "collapsed": true
   },
   "outputs": [],
   "source": [
    "mu = 2.0\n",
    "s2_e = 2.3"
   ]
  },
  {
   "cell_type": "code",
   "execution_count": 480,
   "metadata": {
    "collapsed": false
   },
   "outputs": [
    {
     "name": "stdout",
     "output_type": "stream",
     "text": [
      "100 loops, best of 3: 5.75 ms per loop\n"
     ]
    }
   ],
   "source": [
    "%%timeit\n",
    "mu = np.random.uniform(0., 5.)\n",
    "s2_e = random.uniform(1e-3, 1e3);\n",
    "np.random.multivariate_normal(mu * O, s2_e * I)"
   ]
  },
  {
   "cell_type": "code",
   "execution_count": 482,
   "metadata": {
    "collapsed": false
   },
   "outputs": [
    {
     "name": "stdout",
     "output_type": "stream",
     "text": [
      "100 loops, best of 3: 5.91 ms per loop\n"
     ]
    }
   ],
   "source": [
    "%%timeit\n",
    "mu = np.random.uniform(0., 5.)\n",
    "s2_e = random.uniform(1e-3, 1e3);\n",
    "stats.multivariate_normal.rvs(mu * O, s2_e * I)"
   ]
  },
  {
   "cell_type": "code",
   "execution_count": 486,
   "metadata": {
    "collapsed": false
   },
   "outputs": [
    {
     "name": "stdout",
     "output_type": "stream",
     "text": [
      "The slowest run took 25.59 times longer than the fastest. This could mean that an intermediate result is being cached.\n",
      "100000 loops, best of 3: 11.1 µs per loop\n"
     ]
    }
   ],
   "source": [
    "%%timeit\n",
    "mu = np.random.uniform(0., 5.)\n",
    "s2_e = random.uniform(1e-3, 1e3);\n",
    "np.random.normal(mu, s2_e, N)"
   ]
  },
  {
   "cell_type": "code",
   "execution_count": 487,
   "metadata": {
    "collapsed": false
   },
   "outputs": [
    {
     "name": "stdout",
     "output_type": "stream",
     "text": [
      "The slowest run took 7.80 times longer than the fastest. This could mean that an intermediate result is being cached.\n",
      "10000 loops, best of 3: 51.6 µs per loop\n"
     ]
    }
   ],
   "source": [
    "%%timeit\n",
    "mu = np.random.uniform(0., 5.)\n",
    "s2_e = random.uniform(1e-3, 1e3);\n",
    "stats.norm.rvs(mu, s2_e, N)"
   ]
  },
  {
   "cell_type": "code",
   "execution_count": null,
   "metadata": {
    "collapsed": true
   },
   "outputs": [],
   "source": []
  },
  {
   "cell_type": "code",
   "execution_count": null,
   "metadata": {
    "collapsed": true
   },
   "outputs": [],
   "source": []
  },
  {
   "cell_type": "code",
   "execution_count": null,
   "metadata": {
    "collapsed": true
   },
   "outputs": [],
   "source": []
  }
 ],
 "metadata": {
  "kernelspec": {
   "display_name": "Python 3",
   "language": "python",
   "name": "python3"
  },
  "language_info": {
   "codemirror_mode": {
    "name": "ipython",
    "version": 3
   },
   "file_extension": ".py",
   "mimetype": "text/x-python",
   "name": "python",
   "nbconvert_exporter": "python",
   "pygments_lexer": "ipython3",
   "version": "3.6.0"
  }
 },
 "nbformat": 4,
 "nbformat_minor": 2
}
