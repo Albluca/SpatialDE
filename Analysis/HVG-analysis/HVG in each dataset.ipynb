{
 "cells": [
  {
   "cell_type": "code",
   "execution_count": 1,
   "metadata": {},
   "outputs": [
    {
     "name": "stdout",
     "output_type": "stream",
     "text": [
      "Populating the interactive namespace from numpy and matplotlib\n"
     ]
    },
    {
     "name": "stderr",
     "output_type": "stream",
     "text": [
      "/Users/vale/anaconda/lib/python3.6/site-packages/statsmodels/compat/pandas.py:56: FutureWarning: The pandas.core.datetools module is deprecated and will be removed in a future version. Please use the pandas.tseries module instead.\n",
      "  from pandas.core import datetools\n"
     ]
    }
   ],
   "source": [
    "%pylab inline\n",
    "import pandas as pd\n",
    "import plotnine as p"
   ]
  },
  {
   "cell_type": "code",
   "execution_count": 2,
   "metadata": {
    "collapsed": true
   },
   "outputs": [],
   "source": [
    "import scanpy.api as sc"
   ]
  },
  {
   "cell_type": "markdown",
   "metadata": {},
   "source": [
    "# Mouse OB"
   ]
  },
  {
   "cell_type": "code",
   "execution_count": 3,
   "metadata": {
    "collapsed": true
   },
   "outputs": [],
   "source": [
    "sample_info = pd.read_csv('../MouseOB/MOB_sample_info.csv', index_col=0)\n",
    "df = pd.read_csv('../MouseOB/data/Rep11_MOB_0.csv', index_col=0)\n",
    "df = df.T[df.sum(0) >= 3].T  # Filter practically unobserved genes\n",
    "sample_info = sample_info.query('total_counts > 10')  # Remove empty features\n",
    "df = df.loc[sample_info.index]\n",
    "\n",
    "results = pd.read_csv('../MouseOB/MOB_final_results.csv', index_col=0).query('g != \"log_total_count\"')"
   ]
  },
  {
   "cell_type": "code",
   "execution_count": 4,
   "metadata": {},
   "outputs": [
    {
     "name": "stdout",
     "output_type": "stream",
     "text": [
      "(260, 3497)\n"
     ]
    }
   ],
   "source": [
    "adata = sc.AnnData(df.values, sample_info, df.columns.set_names('gene_name').to_frame())\n",
    "\n",
    "sc.pp.normalize_per_cell(adata)\n",
    "sc.pp.filter_genes_dispersion(adata)\n",
    "\n",
    "print(adata.shape)"
   ]
  },
  {
   "cell_type": "code",
   "execution_count": 5,
   "metadata": {},
   "outputs": [
    {
     "data": {
      "text/plain": [
       "(67,)"
      ]
     },
     "execution_count": 5,
     "metadata": {},
     "output_type": "execute_result"
    }
   ],
   "source": [
    "SV_genes = results.query('qval < 0.05').g\n",
    "SV_genes.shape"
   ]
  },
  {
   "cell_type": "code",
   "execution_count": 6,
   "metadata": {},
   "outputs": [
    {
     "data": {
      "text/plain": [
       "(40,)"
      ]
     },
     "execution_count": 6,
     "metadata": {},
     "output_type": "execute_result"
    }
   ],
   "source": [
    "adata.var.index.intersection(SV_genes).shape"
   ]
  },
  {
   "cell_type": "markdown",
   "metadata": {},
   "source": [
    "# BreastCancer"
   ]
  },
  {
   "cell_type": "code",
   "execution_count": 7,
   "metadata": {},
   "outputs": [],
   "source": [
    "results = pd.read_csv('../BreastCancer/BC_final_results.csv', index_col=0).query('g != \"log_total_count\"')\n",
    "sample_info = pd.read_csv('../BreastCancer/BC_sample_info.csv', index_col=0)\n",
    "\n",
    "df = pd.read_table('../BreastCancer/data/Layer2_BC_count_matrix-1.tsv', index_col=0)\n",
    "df = df.loc[sample_info.index]\n",
    "df = df.T[df.sum(0) >= 3].T  # Filter practically unobserved genes\n",
    "\n",
    "df = df[results.g]  # Order like in results"
   ]
  },
  {
   "cell_type": "code",
   "execution_count": 8,
   "metadata": {},
   "outputs": [
    {
     "name": "stdout",
     "output_type": "stream",
     "text": [
      "(250, 3503)\n"
     ]
    }
   ],
   "source": [
    "adata = sc.AnnData(df.values, sample_info, df.columns.set_names('gene_name').to_frame())\n",
    "\n",
    "sc.pp.normalize_per_cell(adata)\n",
    "sc.pp.filter_genes_dispersion(adata)\n",
    "\n",
    "print(adata.shape)"
   ]
  },
  {
   "cell_type": "code",
   "execution_count": 9,
   "metadata": {},
   "outputs": [
    {
     "data": {
      "text/plain": [
       "(115,)"
      ]
     },
     "execution_count": 9,
     "metadata": {},
     "output_type": "execute_result"
    }
   ],
   "source": [
    "SV_genes = results.query('qval < 0.05').g\n",
    "SV_genes.shape"
   ]
  },
  {
   "cell_type": "code",
   "execution_count": 10,
   "metadata": {},
   "outputs": [
    {
     "data": {
      "text/plain": [
       "(34,)"
      ]
     },
     "execution_count": 10,
     "metadata": {},
     "output_type": "execute_result"
    }
   ],
   "source": [
    "adata.var.index.intersection(SV_genes).shape"
   ]
  },
  {
   "cell_type": "markdown",
   "metadata": {},
   "source": [
    "# SeqFISH"
   ]
  },
  {
   "cell_type": "code",
   "execution_count": 11,
   "metadata": {
    "collapsed": true
   },
   "outputs": [],
   "source": [
    "results = pd.read_csv('../SeqFISH/final_results_43.csv', index_col=0).query('g != \"log_total_count\"')\n",
    "sample_info = pd.read_csv('../SeqFISH/sample_info_43.csv', index_col=0)\n",
    "\n",
    "df = pd.read_csv('../SeqFISH/exp_mat_43.csv', index_col=0)\n",
    "df.columns = df.columns.map(int)\n",
    "\n",
    "df = df[sample_info.index].T"
   ]
  },
  {
   "cell_type": "code",
   "execution_count": 12,
   "metadata": {},
   "outputs": [
    {
     "name": "stdout",
     "output_type": "stream",
     "text": [
      "(257, 58)\n"
     ]
    }
   ],
   "source": [
    "adata = sc.AnnData(df.values, sample_info, df.columns.set_names('gene_name').to_frame())\n",
    "\n",
    "sc.pp.normalize_per_cell(adata)\n",
    "sc.pp.filter_genes_dispersion(adata)\n",
    "\n",
    "print(adata.shape)"
   ]
  },
  {
   "cell_type": "code",
   "execution_count": 13,
   "metadata": {},
   "outputs": [
    {
     "data": {
      "text/plain": [
       "(39,)"
      ]
     },
     "execution_count": 13,
     "metadata": {},
     "output_type": "execute_result"
    }
   ],
   "source": [
    "SV_genes = results.query('qval < 0.05').g\n",
    "SV_genes.shape"
   ]
  },
  {
   "cell_type": "code",
   "execution_count": 14,
   "metadata": {},
   "outputs": [
    {
     "data": {
      "text/plain": [
       "(5,)"
      ]
     },
     "execution_count": 14,
     "metadata": {},
     "output_type": "execute_result"
    }
   ],
   "source": [
    "adata.var.index.intersection(SV_genes).shape"
   ]
  },
  {
   "cell_type": "markdown",
   "metadata": {},
   "source": [
    "# MERFISH"
   ]
  },
  {
   "cell_type": "code",
   "execution_count": 15,
   "metadata": {},
   "outputs": [],
   "source": [
    "sample_info = pd.read_csv('../MERFISH/middle_sample_info.csv', index_col=0)\n",
    "results = pd.read_csv('../MERFISH/middle_final_results.csv', index_col=0).query('g != \"log_total_count\"')\n",
    "\n",
    "df = pd.read_csv('../MERFISH/data/rep6/middle_exp_mat.csv', index_col=0)\n",
    "df = df.loc[sample_info.index]\n",
    "df = df.T[df.sum(0) >= 3].T  # Filter practically unobserved genes"
   ]
  },
  {
   "cell_type": "code",
   "execution_count": 16,
   "metadata": {},
   "outputs": [
    {
     "name": "stdout",
     "output_type": "stream",
     "text": [
      "(1056, 29)\n"
     ]
    }
   ],
   "source": [
    "adata = sc.AnnData(df.values, sample_info, df.columns.set_names('gene_name').to_frame())\n",
    "\n",
    "sc.pp.normalize_per_cell(adata)\n",
    "sc.pp.filter_genes_dispersion(adata)\n",
    "\n",
    "print(adata.shape)"
   ]
  },
  {
   "cell_type": "code",
   "execution_count": 17,
   "metadata": {},
   "outputs": [
    {
     "data": {
      "text/plain": [
       "(91,)"
      ]
     },
     "execution_count": 17,
     "metadata": {},
     "output_type": "execute_result"
    }
   ],
   "source": [
    "SV_genes = results.query('qval < 0.05').g\n",
    "SV_genes.shape"
   ]
  },
  {
   "cell_type": "code",
   "execution_count": 18,
   "metadata": {},
   "outputs": [
    {
     "data": {
      "text/plain": [
       "(24,)"
      ]
     },
     "execution_count": 18,
     "metadata": {},
     "output_type": "execute_result"
    }
   ],
   "source": [
    "adata.var.index.intersection(SV_genes).shape"
   ]
  },
  {
   "cell_type": "markdown",
   "metadata": {},
   "source": [
    "# Frog"
   ]
  },
  {
   "cell_type": "code",
   "execution_count": 19,
   "metadata": {},
   "outputs": [],
   "source": [
    "results = pd.read_csv('../Frog/Frog_final_results.csv').query('g not in [\"log_ERCC\", \"log_num_genes\"]')\n",
    "sample_info = pd.read_csv('../Frog/Frog_sample_info.csv', index_col=0)\n",
    "\n",
    "df = pd.read_csv('../Frog/data/GSE65785_clutchApolyA_relative_TPM.csv', index_col=0)\n",
    "df = df[sample_info.index]\n",
    "df = df[df.sum(1) >= 3].T  # Filter practically unobserved genes"
   ]
  },
  {
   "cell_type": "code",
   "execution_count": 20,
   "metadata": {},
   "outputs": [
    {
     "name": "stdout",
     "output_type": "stream",
     "text": [
      "(89, 4221)\n"
     ]
    }
   ],
   "source": [
    "adata = sc.AnnData(df.values, sample_info, df.columns.set_names('gene_name').to_frame())\n",
    "\n",
    "sc.pp.normalize_per_cell(adata)\n",
    "sc.pp.filter_genes_dispersion(adata)\n",
    "\n",
    "print(adata.shape)"
   ]
  },
  {
   "cell_type": "code",
   "execution_count": 21,
   "metadata": {},
   "outputs": [
    {
     "data": {
      "text/plain": [
       "(21009,)"
      ]
     },
     "execution_count": 21,
     "metadata": {},
     "output_type": "execute_result"
    }
   ],
   "source": [
    "SV_genes = results.query('qval < 0.05').g\n",
    "SV_genes.shape"
   ]
  },
  {
   "cell_type": "code",
   "execution_count": 22,
   "metadata": {},
   "outputs": [
    {
     "data": {
      "text/plain": [
       "(3931,)"
      ]
     },
     "execution_count": 22,
     "metadata": {},
     "output_type": "execute_result"
    }
   ],
   "source": [
    "adata.var.index.intersection(SV_genes).shape"
   ]
  },
  {
   "cell_type": "code",
   "execution_count": null,
   "metadata": {
    "collapsed": true
   },
   "outputs": [],
   "source": []
  },
  {
   "cell_type": "code",
   "execution_count": null,
   "metadata": {
    "collapsed": true
   },
   "outputs": [],
   "source": []
  },
  {
   "cell_type": "code",
   "execution_count": null,
   "metadata": {
    "collapsed": true
   },
   "outputs": [],
   "source": []
  },
  {
   "cell_type": "code",
   "execution_count": null,
   "metadata": {
    "collapsed": true
   },
   "outputs": [],
   "source": []
  }
 ],
 "metadata": {
  "kernelspec": {
   "display_name": "Python 3",
   "language": "python",
   "name": "python3"
  },
  "language_info": {
   "codemirror_mode": {
    "name": "ipython",
    "version": 3
   },
   "file_extension": ".py",
   "mimetype": "text/x-python",
   "name": "python",
   "nbconvert_exporter": "python",
   "pygments_lexer": "ipython3",
   "version": "3.6.0"
  }
 },
 "nbformat": 4,
 "nbformat_minor": 2
}
