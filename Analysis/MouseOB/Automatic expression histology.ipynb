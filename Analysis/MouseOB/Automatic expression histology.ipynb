{
 "cells": [
  {
   "cell_type": "code",
   "execution_count": 1,
   "metadata": {},
   "outputs": [
    {
     "name": "stdout",
     "output_type": "stream",
     "text": [
      "Populating the interactive namespace from numpy and matplotlib\n"
     ]
    }
   ],
   "source": [
    "%pylab inline\n",
    "import pandas as pd\n",
    "\n",
    "rcParams['axes.spines.right'] = False\n",
    "rcParams['axes.spines.top'] = False\n",
    "\n",
    "sample_info = pd.read_csv('MOB_sample_info.csv', index_col=0)\n",
    "\n",
    "df = pd.read_csv('data/Rep11_MOB_0.csv', index_col=0)\n",
    "df = df.loc[sample_info.index]\n",
    "df = df.T[df.sum(0) >= 3].T  # Filter practically unobserved genes\n",
    "\n",
    "import NaiveDE\n",
    "\n",
    "dfm = NaiveDE.stabilize(df.T).T\n",
    "res = NaiveDE.regress_out(sample_info, dfm.T, 'np.log(total_counts)').T"
   ]
  },
  {
   "cell_type": "code",
   "execution_count": 2,
   "metadata": {},
   "outputs": [],
   "source": [
    "results = pd.read_csv('MOB_final_results.csv', index_col=0)\n",
    "\n",
    "results['pval'] = results['pval'].clip_lower(results.query('pval > 0')['pval'].min() / 2)\n",
    "results['qval'] = results['qval'].clip_lower(results.query('qval > 0')['qval'].min() / 2)\n",
    "\n",
    "sres = results.query('qval < 0.05 & g != \"log_total_count\"').copy()\n",
    "\n",
    "X = sample_info[['x', 'y']].values\n",
    "Y = res[sres['g']].values.T"
   ]
  },
  {
   "cell_type": "code",
   "execution_count": 3,
   "metadata": {},
   "outputs": [],
   "source": [
    "import GPy\n",
    "import GPclust"
   ]
  },
  {
   "cell_type": "code",
   "execution_count": null,
   "metadata": {},
   "outputs": [],
   "source": []
  },
  {
   "cell_type": "code",
   "execution_count": 70,
   "metadata": {},
   "outputs": [
    {
     "name": "stdout",
     "output_type": "stream",
     "text": [
      "Running L-BFGS-B (Scipy implementation) Code:\n",
      "  runtime   i    f              |g|        \n",
      "    00s11  01   2.036520e+04   1.738152e+07 \n",
      "    02s30  22   1.058517e+04   8.832406e+03 \n",
      "Runtime:     02s30\n",
      "Optimization status: Maximum number of f evaluations reached\n",
      "\n",
      "Running L-BFGS-B (Scipy implementation) Code:\n",
      "  runtime   i    f              |g|        \n",
      "    01s21  11   9.345099e+03   1.073185e+03 \n",
      "    02s42  22   9.317562e+03   1.049483e+04 \n",
      "Runtime:     02s42\n",
      "Optimization status: Maximum number of f evaluations reached\n",
      "\n",
      "Running L-BFGS-B (Scipy implementation) Code:\n",
      "  runtime   i    f              |g|        \n",
      "    01s21  11   9.307972e+03   1.043838e+03 \n",
      "    02s42  22   9.291670e+03   1.328869e+03 \n",
      "Runtime:     02s42\n",
      "Optimization status: Maximum number of f evaluations reached\n",
      "\n",
      "Running L-BFGS-B (Scipy implementation) Code:\n",
      "  runtime   i    f              |g|        \n",
      "    00s12  01   9.271830e+03   7.873332e+02 \n",
      "    02s52  23   9.242914e+03   2.429942e+04 \n",
      "Runtime:     02s52\n",
      "Optimization status: Maximum number of f evaluations reached\n",
      "\n",
      "Running L-BFGS-B (Scipy implementation) Code:\n",
      "  runtime   i    f              |g|        \n",
      "    01s21  11   9.223547e+03   1.531880e+01 \n",
      "    02s44  22   9.219037e+03   1.049806e+01 \n",
      "Runtime:     02s44\n",
      "Optimization status: Maximum number of f evaluations reached\n",
      "\n",
      "Running L-BFGS-B (Scipy implementation) Code:\n",
      "  runtime   i    f              |g|        \n",
      "    01s20  11   9.211803e+03   5.276126e+02 \n",
      "    02s40  22   9.206189e+03   1.658733e+04 \n",
      "Runtime:     02s40\n",
      "Optimization status: Maximum number of f evaluations reached\n",
      "\n",
      "Running L-BFGS-B (Scipy implementation) Code:\n",
      "  runtime   i    f              |g|        \n",
      "    00s00  00   9.206189e+03   1.658733e+04 \n",
      "    01s20  11   9.203213e+03   2.856300e+03 \n",
      "    02s40  22   9.201680e+03   1.289242e+01 \n",
      "Runtime:     02s40\n",
      "Optimization status: Maximum number of f evaluations reached\n",
      "\n",
      "Running L-BFGS-B (Scipy implementation) Code:\n",
      "  runtime   i    f              |g|        \n",
      "    00s11  01   9.201680e+03   1.289242e+01 \n",
      "    02s42  22   9.196385e+03   6.776657e+03 \n",
      "Runtime:     02s42\n",
      "Optimization status: Maximum number of f evaluations reached\n",
      "\n",
      "Running L-BFGS-B (Scipy implementation) Code:\n",
      "  runtime   i    f              |g|        \n",
      "    00s11  01   9.196385e+03   6.776657e+03 \n",
      "    02s42  22   9.192345e+03   3.121512e+03 \n",
      "Runtime:     02s42\n",
      "Optimization status: Maximum number of f evaluations reached\n",
      "\n",
      "Running L-BFGS-B (Scipy implementation) Code:\n",
      "  runtime   i    f              |g|        \n",
      "    01s20  11   9.191117e+03   2.229155e+02 \n",
      "    02s42  22   9.190728e+03   2.455778e+01 \n",
      "Runtime:     02s42\n",
      "Optimization status: Maximum number of f evaluations reached\n",
      "\n",
      "Running L-BFGS-B (Scipy implementation) Code:\n",
      "  runtime   i    f              |g|        \n",
      "    01s20  11   9.190449e+03   4.899108e+01 \n",
      "    02s40  22   9.190141e+03   9.525799e+02 \n",
      "Runtime:     02s40\n",
      "Optimization status: Maximum number of f evaluations reached\n",
      "\n",
      "Running L-BFGS-B (Scipy implementation) Code:\n",
      "  runtime   i    f              |g|        \n",
      "    01s13  10   9.190041e+03   4.777089e+00 \n",
      "    02s45  22   9.188954e+03   1.230478e+01 \n",
      "Runtime:     02s45\n",
      "Optimization status: Maximum number of f evaluations reached\n",
      "\n",
      "Running L-BFGS-B (Scipy implementation) Code:\n",
      "  runtime   i    f              |g|        \n",
      "    01s21  11   9.187555e+03   1.829809e+02 \n",
      "    02s42  22   9.184345e+03   2.864568e+03 \n",
      "Runtime:     02s42\n",
      "Optimization status: Maximum number of f evaluations reached\n",
      "\n",
      "Running L-BFGS-B (Scipy implementation) Code:\n",
      "  runtime   i    f              |g|        \n",
      "    01s20  11   9.182438e+03   5.223546e+02 \n",
      "    02s40  22   9.181836e+03   6.987186e+00 \n",
      "Runtime:     02s40\n",
      "Optimization status: Maximum number of f evaluations reached\n",
      "\n",
      "Running L-BFGS-B (Scipy implementation) Code:\n",
      "  runtime   i    f              |g|        \n",
      "    01s21  11   9.181649e+03   2.057811e+02 \n",
      "    02s40  22   9.176209e+03   4.944292e+01 \n",
      "Runtime:     02s40\n",
      "Optimization status: Maximum number of f evaluations reached\n",
      "\n",
      "Running L-BFGS-B (Scipy implementation) Code:\n",
      "  runtime   i    f              |g|        \n",
      "    01s22  11   9.172087e+03   4.213303e+03 \n",
      "    02s43  22   9.167533e+03   3.391405e-01 \n",
      "Runtime:     02s43\n",
      "Optimization status: Maximum number of f evaluations reached\n",
      "\n",
      "Running L-BFGS-B (Scipy implementation) Code:\n",
      "  runtime   i    f              |g|        \n",
      "    01s13  10   9.167509e+03   2.488646e+01 \n",
      "    02s46  22   9.166672e+03   2.176771e+01 \n",
      "Runtime:     02s46\n",
      "Optimization status: Maximum number of f evaluations reached\n",
      "\n",
      "Running L-BFGS-B (Scipy implementation) Code:\n",
      "  runtime   i    f              |g|        \n",
      "    01s15  10   9.166096e+03   1.000107e+03 \n",
      "    02s48  22   9.165505e+03   1.940630e+03 \n",
      "Runtime:     02s48\n",
      "Optimization status: Maximum number of f evaluations reached\n",
      "\n",
      "Running L-BFGS-B (Scipy implementation) Code:\n",
      "  runtime   i    f              |g|        \n",
      "    01s14  10   9.165251e+03   7.080177e-01 \n",
      "    02s45  22   9.162584e+03   2.511541e+03 \n",
      "Runtime:     02s45\n",
      "Optimization status: Maximum number of f evaluations reached\n",
      "\n",
      "Running L-BFGS-B (Scipy implementation) Code:\n",
      "  runtime   i    f              |g|        \n",
      "    00s11  01   9.162584e+03   2.511541e+03 \n",
      "    01s22  11   9.161394e+03   3.181676e+02 \n",
      "    02s43  22   9.159854e+03   2.266982e-01 \n",
      "Runtime:     02s43\n",
      "Optimization status: Maximum number of f evaluations reached\n",
      "\n",
      "Running L-BFGS-B (Scipy implementation) Code:\n",
      "  runtime   i    f              |g|        \n",
      "    01s20  11   9.159837e+03   2.318163e+01 \n",
      "    02s40  22   9.158631e+03   6.069944e+00 \n",
      "Runtime:     02s40\n",
      "Optimization status: Maximum number of f evaluations reached\n",
      "\n",
      "Running L-BFGS-B (Scipy implementation) Code:\n",
      "  runtime   i    f              |g|        \n",
      "    01s20  11   9.157017e+03   6.753837e+00 \n",
      "    02s40  22   9.156855e+03   8.292985e+02 \n",
      "Runtime:     02s40\n",
      "Optimization status: Maximum number of f evaluations reached\n",
      "\n",
      "Running L-BFGS-B (Scipy implementation) Code:\n",
      "  runtime   i    f              |g|        \n",
      "    01s21  11   9.156749e+03   1.979032e+01 \n",
      "    02s41  22   9.156677e+03   1.246339e-01 \n",
      "Runtime:     02s41\n",
      "Optimization status: Maximum number of f evaluations reached\n",
      "\n",
      "Running L-BFGS-B (Scipy implementation) Code:\n",
      "  runtime   i    f              |g|        \n",
      "    00s00  00   9.156677e+03   1.246339e-01 \n",
      "    00s11  01   9.156677e+03   1.246339e-01 \n",
      "    02s42  22   9.156086e+03   5.012784e+02 \n",
      "Runtime:     02s42\n",
      "Optimization status: Maximum number of f evaluations reached\n",
      "\n",
      "Running L-BFGS-B (Scipy implementation) Code:\n",
      "  runtime   i    f              |g|        \n",
      "    00s00  00   9.156086e+03   5.012784e+02 \n",
      "    00s11  01   9.156086e+03   5.012784e+02 \n",
      "    01s20  11   9.155790e+03   2.731542e+01 \n",
      "    02s42  22   9.155748e+03   8.539703e+00 \n",
      "Runtime:     02s42\n",
      "Optimization status: Maximum number of f evaluations reached\n",
      "\n",
      "Running L-BFGS-B (Scipy implementation) Code:\n",
      "  runtime   i    f              |g|        \n",
      "    00s11  01   9.155748e+03   8.539702e+00 \n",
      "    02s43  22   9.155515e+03   2.121075e+01 \n",
      "Runtime:     02s43\n",
      "Optimization status: Maximum number of f evaluations reached\n",
      "\n",
      "Running L-BFGS-B (Scipy implementation) Code:\n",
      "  runtime   i    f              |g|        \n",
      "    00s11  01   9.155515e+03   2.121075e+01 \n",
      "    02s41  22   9.155288e+03   1.260006e+02 \n",
      "Runtime:     02s41\n",
      "Optimization status: Maximum number of f evaluations reached\n",
      "\n",
      "Running L-BFGS-B (Scipy implementation) Code:\n",
      "  runtime   i    f              |g|        \n",
      "    00s11  01   9.155288e+03   1.260006e+02 \n",
      "    02s42  22   9.154624e+03   4.470035e+00 \n",
      "Runtime:     02s42\n",
      "Optimization status: Maximum number of f evaluations reached\n",
      "\n",
      "Running L-BFGS-B (Scipy implementation) Code:\n",
      "  runtime   i    f              |g|        \n",
      "    00s11  01   9.154624e+03   4.470034e+00 \n",
      "    01s75  16   9.153864e+03   2.601517e-01 \n",
      "Runtime:     01s75\n",
      "Optimization status: Converged\n",
      "\n",
      "Running L-BFGS-B (Scipy implementation) Code:\n",
      "  runtime   i    f              |g|        \n",
      "    00s12  01   9.153864e+03   2.601517e-01 \n",
      "    02s47  22   9.153207e+03   5.379191e+01 \n",
      "Runtime:     02s47\n",
      "Optimization status: Maximum number of f evaluations reached\n",
      "\n",
      "Running L-BFGS-B (Scipy implementation) Code:\n",
      "  runtime   i    f              |g|        \n",
      "    01s12  10   9.153019e+03   1.723200e+02 \n"
     ]
    },
    {
     "name": "stdout",
     "output_type": "stream",
     "text": [
      "    02s43  22   9.152680e+03   5.714786e+01 \n",
      "Runtime:     02s43\n",
      "Optimization status: Maximum number of f evaluations reached\n",
      "\n",
      "Running L-BFGS-B (Scipy implementation) Code:\n",
      "  runtime   i    f              |g|        \n",
      "    01s16  10   9.152661e+03   1.687095e+00 \n",
      "    02s51  22   9.140587e+03   1.761290e+04 \n",
      "Runtime:     02s51\n",
      "Optimization status: Maximum number of f evaluations reached\n",
      "\n",
      "Running L-BFGS-B (Scipy implementation) Code:\n",
      "  runtime   i    f              |g|        \n",
      "    01s13  10   9.139023e+03   7.816363e-01 \n",
      "    02s44  22   9.138913e+03   4.406649e-01 \n",
      "Runtime:     02s44\n",
      "Optimization status: Maximum number of f evaluations reached\n",
      "\n",
      "Running L-BFGS-B (Scipy implementation) Code:\n",
      "  runtime   i    f              |g|        \n",
      "    00s88  08   9.138912e+03   7.438748e-03 \n",
      "Runtime:     00s88\n",
      "Optimization status: Converged\n",
      "\n"
     ]
    }
   ],
   "source": [
    "m = GPclust.MOHGP(X=X,\n",
    "                  Y=Y,\n",
    "                  kernF=GPy.kern.RBF(2) + GPy.kern.Bias(2),\n",
    "                  kernY=GPy.kern.RBF(1) + GPy.kern.White(1),\n",
    "                  K=5,\n",
    "                  prior_Z='DP')\n",
    "\n",
    "m.hyperparam_interval = 500\n",
    "\n",
    "m.optimize(step_length=0.1, verbose=False)"
   ]
  },
  {
   "cell_type": "code",
   "execution_count": 71,
   "metadata": {},
   "outputs": [
    {
     "data": {
      "text/html": [
       "<style type=\"text/css\">\n",
       ".pd{\n",
       "    font-family: \"Courier New\", Courier, monospace !important;\n",
       "    width: 100%;\n",
       "    padding: 3px;\n",
       "}\n",
       "</style>\n",
       "\n",
       "<p class=pd>\n",
       "<b>Model</b>: MOHGP<br>\n",
       "<b>Objective</b>: 9138.91230821826<br>\n",
       "<b>Number of Parameters</b>: 6<br>\n",
       "<b>Number of Optimization Parameters</b>: 6<br>\n",
       "<b>Updates</b>: True<br>\n",
       "</p>\n",
       "<style type=\"text/css\">\n",
       ".tg  {font-family:\"Courier New\", Courier, monospace !important;padding:2px 3px;word-break:normal;border-collapse:collapse;border-spacing:0;border-color:#DCDCDC;margin:0px auto;width:100%;}\n",
       ".tg td{font-family:\"Courier New\", Courier, monospace !important;font-weight:bold;color:#444;background-color:#F7FDFA;border-style:solid;border-width:1px;overflow:hidden;word-break:normal;border-color:#DCDCDC;}\n",
       ".tg th{font-family:\"Courier New\", Courier, monospace !important;font-weight:normal;color:#fff;background-color:#26ADE4;border-style:solid;border-width:1px;overflow:hidden;word-break:normal;border-color:#DCDCDC;}\n",
       ".tg .tg-left{font-family:\"Courier New\", Courier, monospace !important;font-weight:normal;text-align:left;}\n",
       ".tg .tg-center{font-family:\"Courier New\", Courier, monospace !important;font-weight:normal;text-align:center;}\n",
       ".tg .tg-right{font-family:\"Courier New\", Courier, monospace !important;font-weight:normal;text-align:right;}\n",
       "</style>\n",
       "<table class=\"tg\"><tr><th><b>  MOHGP.               </b></th><th><b>          value</b></th><th><b>constraints</b></th><th><b>priors</b></th></tr>\n",
       "<tr><td class=tg-left>  sum.rbf.variance     </td><td class=tg-right>0.0803680564126</td><td class=tg-center>    +ve    </td><td class=tg-center>      </td></tr>\n",
       "<tr><td class=tg-left>  sum.rbf.lengthscale  </td><td class=tg-right> 0.740931174309</td><td class=tg-center>    +ve    </td><td class=tg-center>      </td></tr>\n",
       "<tr><td class=tg-left>  sum.bias.variance    </td><td class=tg-right>  23.7909356771</td><td class=tg-center>    +ve    </td><td class=tg-center>      </td></tr>\n",
       "<tr><td class=tg-left>  sum_1.rbf.variance   </td><td class=tg-right>  5.63122121983</td><td class=tg-center>    +ve    </td><td class=tg-center>      </td></tr>\n",
       "<tr><td class=tg-left>  sum_1.rbf.lengthscale</td><td class=tg-right>  303.692860968</td><td class=tg-center>    +ve    </td><td class=tg-center>      </td></tr>\n",
       "<tr><td class=tg-left>  sum_1.white.variance </td><td class=tg-right> 0.137905813948</td><td class=tg-center>    +ve    </td><td class=tg-center>      </td></tr>\n",
       "</table>"
      ],
      "text/plain": [
       "<GPclust.MOHGP.MOHGP at 0x165cdcb6a90>"
      ]
     },
     "execution_count": 71,
     "metadata": {},
     "output_type": "execute_result"
    }
   ],
   "source": [
    "m"
   ]
  },
  {
   "cell_type": "code",
   "execution_count": 72,
   "metadata": {},
   "outputs": [
    {
     "data": {
      "text/plain": [
       "array([  8.00000185,  13.        ,  11.        ,  24.99999815,  10.        ])"
      ]
     },
     "execution_count": 72,
     "metadata": {},
     "output_type": "execute_result"
    }
   ],
   "source": [
    "m.phi_hat"
   ]
  },
  {
   "cell_type": "code",
   "execution_count": 73,
   "metadata": {},
   "outputs": [],
   "source": [
    "sres['cluster'] = m.phi_.argmax(1)\n",
    "Cs = m.predict_components(X)"
   ]
  },
  {
   "cell_type": "code",
   "execution_count": 74,
   "metadata": {},
   "outputs": [
    {
     "data": {
      "text/plain": [
       "5"
      ]
     },
     "execution_count": 74,
     "metadata": {},
     "output_type": "execute_result"
    }
   ],
   "source": [
    "K_hat = len(sres.cluster.unique())\n",
    "K_hat"
   ]
  },
  {
   "cell_type": "code",
   "execution_count": 75,
   "metadata": {},
   "outputs": [
    {
     "data": {
      "image/png": "[encoded data removed]",
      "text/plain": [
       "<matplotlib.figure.Figure at 0x165cdcbc390>"
      ]
     },
     "metadata": {},
     "output_type": "display_data"
    }
   ],
   "source": [
    "figsize(10, 2)\n",
    "for i, Ci in enumerate(sres.cluster.unique()):\n",
    "    C = Cs[0][Ci]\n",
    "    plt.subplot(1, K_hat, i + 1)\n",
    "    plt.scatter(X[:,0], -X[:,1], c=C, s=20)\n",
    "    plt.axis('equal')\n",
    "    plt.title('cluster {} - {} genes'.format(Ci, sres.query('cluster == @Ci').shape[0] ))\n",
    "    \n",
    "plt.tight_layout()"
   ]
  },
  {
   "cell_type": "code",
   "execution_count": null,
   "metadata": {},
   "outputs": [],
   "source": []
  },
  {
   "cell_type": "code",
   "execution_count": 77,
   "metadata": {},
   "outputs": [
    {
     "name": "stdout",
     "output_type": "stream",
     "text": [
      "Cluster 2\n",
      "Cpe, Cck, Doc2g, Slc1a2, Cdr1, Cdhr1, Gabra1, Slc6a11, Slc17a7, Rab3b, Trnp1\n",
      "Cluster 1\n",
      "Kcnh3, Mbp, Nrgn, Tubb2b, Pcp4, Penk, Gpsm1, Baiap2, Rbfox3, Arhgap33, Camk2b, Necab2, Ncdn\n",
      "Cluster 4\n",
      "Taf7l, Prokr2, 4933405L10Rik, Cplx1, Atp1b1, Tspan7, Pbx1, Gna14, Olfr635, Sfrp5\n",
      "Cluster 3\n",
      "Fabp7, Kif5b, Apod, Apoe, Apc, Marcks, Kctd12, Ptn, Mcf2l, S100a5, Omp, Scd1, Lpar1, Trak2, Igfbp5, Nr2f2, Ccnd1, Unc13c, Sash1, Frzb, Gng13, Sorbs1, Foxd3, Vtn, Pmepa1\n",
      "Cluster 0\n",
      "Sparcl1, Glul, Nrsn1, Sepp1, Igfbp2, Aqp4, Ptgds, Igf1\n"
     ]
    }
   ],
   "source": [
    "for i in sres.cluster.unique():\n",
    "    print('Cluster {}'.format(i))\n",
    "    print(', '.join(sres.g.loc[g.groups[i]].tolist()))"
   ]
  },
  {
   "cell_type": "code",
   "execution_count": null,
   "metadata": {},
   "outputs": [],
   "source": []
  },
  {
   "cell_type": "code",
   "execution_count": null,
   "metadata": {},
   "outputs": [],
   "source": []
  },
  {
   "cell_type": "code",
   "execution_count": null,
   "metadata": {},
   "outputs": [],
   "source": []
  },
  {
   "cell_type": "code",
   "execution_count": null,
   "metadata": {},
   "outputs": [],
   "source": []
  }
 ],
 "metadata": {
  "kernelspec": {
   "display_name": "Python [conda root]",
   "language": "python",
   "name": "conda-root-py"
  },
  "language_info": {
   "codemirror_mode": {
    "name": "ipython",
    "version": 3
   },
   "file_extension": ".py",
   "mimetype": "text/x-python",
   "name": "python",
   "nbconvert_exporter": "python",
   "pygments_lexer": "ipython3",
   "version": "3.5.3"
  }
 },
 "nbformat": 4,
 "nbformat_minor": 2
}
